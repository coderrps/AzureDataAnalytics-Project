{
 "cells": [
  {
   "cell_type": "code",
   "execution_count": null,
   "metadata": {
    "application/vnd.databricks.v1+cell": {
     "cellMetadata": {
      "byteLimit": 2048000,
      "rowLimit": 10000
     },
     "inputWidgets": {},
     "nuid": "f1d39f4d-a4d1-4086-8944-44237d145210",
     "showTitle": false,
     "title": ""
    }
   },
   "outputs": [
    {
     "data": {
      "text/plain": [
       "\u001b[0;31m---------------------------------------------------------------------------\u001b[0m\n",
       "\u001b[0;31mExecutionError\u001b[0m                            Traceback (most recent call last)\n",
       "File \u001b[0;32m<command-2789878688509195>, line 9\u001b[0m\n",
       "\u001b[1;32m      1\u001b[0m configs \u001b[38;5;241m=\u001b[39m {\u001b[38;5;124m\"\u001b[39m\u001b[38;5;124mfs.azure.account.auth.type\u001b[39m\u001b[38;5;124m\"\u001b[39m: \u001b[38;5;124m\"\u001b[39m\u001b[38;5;124mOAuth\u001b[39m\u001b[38;5;124m\"\u001b[39m,\n",
       "\u001b[1;32m      2\u001b[0m \u001b[38;5;124m\"\u001b[39m\u001b[38;5;124mfs.azure.account.oauth.provider.type\u001b[39m\u001b[38;5;124m\"\u001b[39m: \u001b[38;5;124m\"\u001b[39m\u001b[38;5;124morg.apache.hadoop.fs.azurebfs.oauth2.ClientCredsTokenProvider\u001b[39m\u001b[38;5;124m\"\u001b[39m,\n",
       "\u001b[1;32m      3\u001b[0m \u001b[38;5;124m\"\u001b[39m\u001b[38;5;124mfs.azure.account.oauth2.client.id\u001b[39m\u001b[38;5;124m\"\u001b[39m: \u001b[38;5;124m\"\u001b[39m\u001b[38;5;124m26e3a2a5-15aa-4da3-9a67-6547446cd1a3\u001b[39m\u001b[38;5;124m\"\u001b[39m,\n",
       "\u001b[1;32m      4\u001b[0m \u001b[38;5;124m\"\u001b[39m\u001b[38;5;124mfs.azure.account.oauth2.client.secret\u001b[39m\u001b[38;5;124m\"\u001b[39m: \u001b[38;5;124m'\u001b[39m\u001b[38;5;124mDrl8Q~c-DBchUPVMwrr2oNyQYgCe8nMywtC8Xb98\u001b[39m\u001b[38;5;124m'\u001b[39m,\n",
       "\u001b[1;32m      5\u001b[0m \u001b[38;5;124m\"\u001b[39m\u001b[38;5;124mfs.azure.account.oauth2.client.endpoint\u001b[39m\u001b[38;5;124m\"\u001b[39m: \u001b[38;5;124m\"\u001b[39m\u001b[38;5;124mhttps://login.microsoftonline.com/14b80cc0-d1ee-4b7b-ae6e-36c9e1255d03/oauth2/token\u001b[39m\u001b[38;5;124m\"\u001b[39m}\n",
       "\u001b[0;32m----> 9\u001b[0m dbutils\u001b[38;5;241m.\u001b[39mfs\u001b[38;5;241m.\u001b[39mmount(\n",
       "\u001b[1;32m     10\u001b[0m source \u001b[38;5;241m=\u001b[39m \u001b[38;5;124m\"\u001b[39m\u001b[38;5;124mabfss://data@icct20data.dfs.core.windows.net\u001b[39m\u001b[38;5;124m\"\u001b[39m, \u001b[38;5;66;03m# contrainer@storageacc\u001b[39;00m\n",
       "\u001b[1;32m     11\u001b[0m mount_point \u001b[38;5;241m=\u001b[39m \u001b[38;5;124m\"\u001b[39m\u001b[38;5;124m/mnt/icc\u001b[39m\u001b[38;5;124m\"\u001b[39m,\n",
       "\u001b[1;32m     12\u001b[0m extra_configs \u001b[38;5;241m=\u001b[39m configs)\n",
       "\n",
       "File \u001b[0;32m/databricks/python_shell/dbruntime/dbutils.py:152\u001b[0m, in \u001b[0;36mprettify_exception_message.<locals>.f_with_exception_handling\u001b[0;34m(*args, **kwargs)\u001b[0m\n",
       "\u001b[1;32m    150\u001b[0m exc\u001b[38;5;241m.\u001b[39m__context__ \u001b[38;5;241m=\u001b[39m \u001b[38;5;28;01mNone\u001b[39;00m\n",
       "\u001b[1;32m    151\u001b[0m exc\u001b[38;5;241m.\u001b[39m__cause__ \u001b[38;5;241m=\u001b[39m \u001b[38;5;28;01mNone\u001b[39;00m\n",
       "\u001b[0;32m--> 152\u001b[0m \u001b[38;5;28;01mraise\u001b[39;00m exc\n",
       "\n",
       "\u001b[0;31mExecutionError\u001b[0m: An error occurred while calling o410.mount.\n",
       ": java.rmi.RemoteException: java.lang.IllegalArgumentException: requirement failed: Directory already mounted: /mnt/icc; nested exception is: \n",
       "\tjava.lang.IllegalArgumentException: requirement failed: Directory already mounted: /mnt/icc\n",
       "\tat com.databricks.backend.daemon.data.client.DbfsClient.send0(DbfsClient.scala:147)\n",
       "\tat com.databricks.backend.daemon.data.client.DbfsClient.sendIdempotent(DbfsClient.scala:70)\n",
       "\tat com.databricks.backend.daemon.dbutils.DBUtilsCore.createOrUpdateMount(DBUtilsCore.scala:1133)\n",
       "\tat com.databricks.backend.daemon.dbutils.DBUtilsCore.$anonfun$mount$1(DBUtilsCore.scala:1159)\n",
       "\tat com.databricks.logging.UsageLogging.$anonfun$recordOperation$1(UsageLogging.scala:532)\n",
       "\tat com.databricks.logging.UsageLogging.executeThunkAndCaptureResultTags$1(UsageLogging.scala:636)\n",
       "\tat com.databricks.logging.UsageLogging.$anonfun$recordOperationWithResultTags$4(UsageLogging.scala:654)\n",
       "\tat com.databricks.logging.AttributionContextTracing.$anonfun$withAttributionContext$1(AttributionContextTracing.scala:48)\n",
       "\tat com.databricks.logging.AttributionContext$.$anonfun$withValue$1(AttributionContext.scala:253)\n",
       "\tat scala.util.DynamicVariable.withValue(DynamicVariable.scala:62)\n",
       "\tat com.databricks.logging.AttributionContext$.withValue(AttributionContext.scala:249)\n",
       "\tat com.databricks.logging.AttributionContextTracing.withAttributionContext(AttributionContextTracing.scala:46)\n",
       "\tat com.databricks.logging.AttributionContextTracing.withAttributionContext$(AttributionContextTracing.scala:43)\n",
       "\tat com.databricks.backend.daemon.dbutils.FSUtils.withAttributionContext(DBUtilsCore.scala:73)\n",
       "\tat com.databricks.logging.AttributionContextTracing.withAttributionTags(AttributionContextTracing.scala:95)\n",
       "\tat com.databricks.logging.AttributionContextTracing.withAttributionTags$(AttributionContextTracing.scala:76)\n",
       "\tat com.databricks.backend.daemon.dbutils.FSUtils.withAttributionTags(DBUtilsCore.scala:73)\n",
       "\tat com.databricks.logging.UsageLogging.recordOperationWithResultTags(UsageLogging.scala:631)\n",
       "\tat com.databricks.logging.UsageLogging.recordOperationWithResultTags$(UsageLogging.scala:541)\n",
       "\tat com.databricks.backend.daemon.dbutils.FSUtils.recordOperationWithResultTags(DBUtilsCore.scala:73)\n",
       "\tat com.databricks.logging.UsageLogging.recordOperation(UsageLogging.scala:533)\n",
       "\tat com.databricks.logging.UsageLogging.recordOperation$(UsageLogging.scala:501)\n",
       "\tat com.databricks.backend.daemon.dbutils.FSUtils.recordOperation(DBUtilsCore.scala:73)\n",
       "\tat com.databricks.backend.daemon.dbutils.FSUtils.recordDbutilsFsOp(DBUtilsCore.scala:137)\n",
       "\tat com.databricks.backend.daemon.dbutils.DBUtilsCore.mount(DBUtilsCore.scala:1153)\n",
       "\tat sun.reflect.NativeMethodAccessorImpl.invoke0(Native Method)\n",
       "\tat sun.reflect.NativeMethodAccessorImpl.invoke(NativeMethodAccessorImpl.java:62)\n",
       "\tat sun.reflect.DelegatingMethodAccessorImpl.invoke(DelegatingMethodAccessorImpl.java:43)\n",
       "\tat java.lang.reflect.Method.invoke(Method.java:498)\n",
       "\tat py4j.reflection.MethodInvoker.invoke(MethodInvoker.java:244)\n",
       "\tat py4j.reflection.ReflectionEngine.invoke(ReflectionEngine.java:397)\n",
       "\tat py4j.Gateway.invoke(Gateway.java:306)\n",
       "\tat py4j.commands.AbstractCommand.invokeMethod(AbstractCommand.java:132)\n",
       "\tat py4j.commands.CallCommand.execute(CallCommand.java:79)\n",
       "\tat py4j.ClientServerConnection.waitForCommands(ClientServerConnection.java:199)\n",
       "\tat py4j.ClientServerConnection.run(ClientServerConnection.java:119)\n",
       "\tat java.lang.Thread.run(Thread.java:750)\n",
       "Caused by: java.lang.IllegalArgumentException: requirement failed: Directory already mounted: /mnt/icc\n",
       "\tat scala.Predef$.require(Predef.scala:281)\n",
       "\tat com.databricks.backend.daemon.data.server.DefaultMetadataManager.$anonfun$insertMount$1(MetadataManager.scala:703)\n",
       "\tat com.databricks.backend.daemon.data.server.DefaultMetadataManager.$anonfun$modifyAndVerify$2(MetadataManager.scala:1085)\n",
       "\tat scala.runtime.java8.JFunction0$mcV$sp.apply(JFunction0$mcV$sp.java:23)\n",
       "\tat com.databricks.backend.daemon.data.server.DefaultMetadataManager.withRetries(MetadataManager.scala:858)\n",
       "\tat com.databricks.backend.daemon.data.server.DefaultMetadataManager.modifyAndVerify(MetadataManager.scala:1074)\n",
       "\tat com.databricks.backend.daemon.data.server.DefaultMetadataManager.insertMount(MetadataManager.scala:711)\n",
       "\tat com.databricks.backend.daemon.data.server.handler.MountHandler.receive(MountHandler.scala:128)\n",
       "\tat com.databricks.backend.daemon.data.server.session.SessionContext.$anonfun$queryHandlers$1(SessionContext.scala:54)\n",
       "\tat com.databricks.backend.daemon.data.server.session.SessionContext.$anonfun$queryHandlers$1$adapted(SessionContext.scala:53)\n",
       "\tat scala.collection.immutable.List.foreach(List.scala:431)\n",
       "\tat com.databricks.backend.daemon.data.server.session.SessionContext.queryHandlers(SessionContext.scala:53)\n",
       "\tat com.databricks.backend.daemon.data.server.DbfsServerBackend$$anonfun$receive$4.$anonfun$applyOrElse$10(DbfsServerBackend.scala:472)\n",
       "\tat com.databricks.logging.AttributionContextTracing.$anonfun$withAttributionContext$1(AttributionContextTracing.scala:48)\n",
       "\tat com.databricks.logging.AttributionContext$.$anonfun$withValue$1(AttributionContext.scala:261)\n",
       "\tat scala.util.DynamicVariable.withValue(DynamicVariable.scala:62)\n",
       "\tat com.databricks.logging.AttributionContext$.withValue(AttributionContext.scala:257)\n",
       "\tat com.databricks.logging.AttributionContextTracing.withAttributionContext(AttributionContextTracing.scala:46)\n",
       "\tat com.databricks.logging.AttributionContextTracing.withAttributionContext$(AttributionContextTracing.scala:43)\n",
       "\tat com.databricks.rpc.ServerBackend.withAttributionContext(ServerBackend.scala:22)\n",
       "\tat com.databricks.logging.AttributionContextTracing.withAttributionTags(AttributionContextTracing.scala:95)\n",
       "\tat com.databricks.logging.AttributionContextTracing.withAttributionTags$(AttributionContextTracing.scala:76)\n",
       "\tat com.databricks.rpc.ServerBackend.withAttributionTags(ServerBackend.scala:22)\n",
       "\tat com.databricks.backend.daemon.data.server.DbfsServerBackend$$anonfun$receive$4.applyOrElse(DbfsServerBackend.scala:472)\n",
       "\tat com.databricks.backend.daemon.data.server.DbfsServerBackend$$anonfun$receive$4.applyOrElse(DbfsServerBackend.scala:365)\n",
       "\tat com.databricks.rpc.ServerBackend.$anonfun$internalReceive0$2(ServerBackend.scala:174)\n",
       "\tat com.databricks.rpc.ServerBackend$$anonfun$commonReceive$1.applyOrElse(ServerBackend.scala:200)\n",
       "\tat com.databricks.rpc.ServerBackend$$anonfun$commonReceive$1.applyOrElse(ServerBackend.scala:200)\n",
       "\tat com.databricks.rpc.ServerBackend.internalReceive0(ServerBackend.scala:171)\n",
       "\tat com.databricks.rpc.ServerBackend.$anonfun$internalReceive$1(ServerBackend.scala:147)\n",
       "\tat com.databricks.logging.UsageLogging.$anonfun$recordOperation$1(UsageLogging.scala:532)\n",
       "\tat com.databricks.logging.UsageLogging.executeThunkAndCaptureResultTags$1(UsageLogging.scala:636)\n",
       "\tat com.databricks.logging.UsageLogging.$anonfun$recordOperationWithResultTags$4(UsageLogging.scala:656)\n",
       "\tat com.databricks.logging.AttributionContextTracing.$anonfun$withAttributionContext$1(AttributionContextTracing.scala:48)\n",
       "\tat com.databricks.logging.AttributionContext$.$anonfun$withValue$1(AttributionContext.scala:261)\n",
       "\tat scala.util.DynamicVariable.withValue(DynamicVariable.scala:62)\n",
       "\tat com.databricks.logging.AttributionContext$.withValue(AttributionContext.scala:257)\n",
       "\tat com.databricks.logging.AttributionContextTracing.withAttributionContext(AttributionContextTracing.scala:46)\n",
       "\tat com.databricks.logging.AttributionContextTracing.withAttributionContext$(AttributionContextTracing.scala:43)\n",
       "\tat com.databricks.rpc.ServerBackend.withAttributionContext(ServerBackend.scala:22)\n",
       "\tat com.databricks.logging.AttributionContextTracing.withAttributionTags(AttributionContextTracing.scala:95)\n",
       "\tat com.databricks.logging.AttributionContextTracing.withAttributionTags$(AttributionContextTracing.scala:76)\n",
       "\tat com.databricks.rpc.ServerBackend.withAttributionTags(ServerBackend.scala:22)\n",
       "\tat com.databricks.logging.UsageLogging.recordOperationWithResultTags(UsageLogging.scala:631)\n",
       "\tat com.databricks.logging.UsageLogging.recordOperationWithResultTags$(UsageLogging.scala:541)\n",
       "\tat com.databricks.rpc.ServerBackend.recordOperationWithResultTags(ServerBackend.scala:22)\n",
       "\tat com.databricks.logging.UsageLogging.recordOperation(UsageLogging.scala:533)\n",
       "\tat com.databricks.logging.UsageLogging.recordOperation$(UsageLogging.scala:501)\n",
       "\tat com.databricks.rpc.ServerBackend.recordOperation(ServerBackend.scala:22)\n",
       "\tat com.databricks.rpc.ServerBackend.internalReceive(ServerBackend.scala:146)\n",
       "\tat com.databricks.rpc.JettyServer$RequestManager.handleRPC(JettyServer.scala:1021)\n",
       "\tat com.databricks.rpc.JettyServer$RequestManager.handleRequestAndRespond(JettyServer.scala:942)\n",
       "\tat com.databricks.rpc.JettyServer$RequestManager.$anonfun$handleHttp$6(JettyServer.scala:546)\n",
       "\tat com.databricks.rpc.JettyServer$RequestManager.$anonfun$handleHttp$6$adapted(JettyServer.scala:515)\n",
       "\tat com.databricks.logging.activity.ActivityContextFactory$.$anonfun$withActivityInternal$6(ActivityContextFactory.scala:549)\n",
       "\tat com.databricks.logging.AttributionContextTracing.$anonfun$withAttributionContext$1(AttributionContextTracing.scala:48)\n",
       "\tat com.databricks.logging.AttributionContext$.$anonfun$withValue$1(AttributionContext.scala:261)\n",
       "\tat scala.util.DynamicVariable.withValue(DynamicVariable.scala:62)\n",
       "\tat com.databricks.logging.AttributionContext$.withValue(AttributionContext.scala:257)\n",
       "\tat com.databricks.logging.AttributionContextTracing.withAttributionContext(AttributionContextTracing.scala:46)\n",
       "\tat com.databricks.logging.AttributionContextTracing.withAttributionContext$(AttributionContextTracing.scala:43)\n",
       "\tat com.databricks.logging.activity.ActivityContextFactory$.withAttributionContext(ActivityContextFactory.scala:57)\n",
       "\tat com.databricks.logging.activity.ActivityContextFactory$.$anonfun$withActivityInternal$3(ActivityContextFactory.scala:549)\n",
       "\tat com.databricks.context.integrity.IntegrityCheckContext$ThreadLocalStorage$.withValue(IntegrityCheckContext.scala:73)\n",
       "\tat com.databricks.logging.activity.ActivityContextFactory$.withActivityInternal(ActivityContextFactory.scala:527)\n",
       "\tat com.databricks.logging.activity.ActivityContextFactory$.withServiceRequestActivity(ActivityContextFactory.scala:178)\n",
       "\tat com.databricks.rpc.JettyServer$RequestManager.handleHttp(JettyServer.scala:515)\n",
       "\tat com.databricks.rpc.JettyServer$RequestManager.doPost(JettyServer.scala:405)\n",
       "\tat javax.servlet.http.HttpServlet.service(HttpServlet.java:665)\n",
       "\tat com.databricks.rpc.HttpServletWithPatch.service(HttpServletWithPatch.scala:33)\n",
       "\tat javax.servlet.http.HttpServlet.service(HttpServlet.java:750)\n",
       "\tat org.eclipse.jetty.servlet.ServletHolder.handle(ServletHolder.java:799)\n",
       "\tat org.eclipse.jetty.servlet.ServletHandler.doHandle(ServletHandler.java:554)\n",
       "\tat org.eclipse.jetty.server.handler.ScopedHandler.nextScope(ScopedHandler.java:190)\n",
       "\tat org.eclipse.jetty.servlet.ServletHandler.doScope(ServletHandler.java:505)\n",
       "\tat org.eclipse.jetty.server.handler.ScopedHandler.handle(ScopedHandler.java:141)\n",
       "\tat org.eclipse.jetty.server.handler.HandlerWrapper.handle(HandlerWrapper.java:127)\n",
       "\tat org.eclipse.jetty.server.Server.handle(Server.java:516)\n",
       "\tat org.eclipse.jetty.server.HttpChannel.lambda$handle$1(HttpChannel.java:487)\n",
       "\tat org.eclipse.jetty.server.HttpChannel.dispatch(HttpChannel.java:732)\n",
       "\tat org.eclipse.jetty.server.HttpChannel.handle(HttpChannel.java:479)\n",
       "\tat org.eclipse.jetty.server.HttpConnection.onFillable(HttpConnection.java:277)\n",
       "\tat org.eclipse.jetty.io.AbstractConnection$ReadCallback.succeeded(AbstractConnection.java:311)\n",
       "\tat org.eclipse.jetty.io.FillInterest.fillable(FillInterest.java:105)\n",
       "\tat org.eclipse.jetty.io.ChannelEndPoint$1.run(ChannelEndPoint.java:104)\n",
       "\tat org.eclipse.jetty.util.thread.strategy.EatWhatYouKill.runTask(EatWhatYouKill.java:338)\n",
       "\tat org.eclipse.jetty.util.thread.strategy.EatWhatYouKill.doProduce(EatWhatYouKill.java:315)\n",
       "\tat org.eclipse.jetty.util.thread.strategy.EatWhatYouKill.tryProduce(EatWhatYouKill.java:173)\n",
       "\tat org.eclipse.jetty.util.thread.strategy.EatWhatYouKill.run(EatWhatYouKill.java:131)\n",
       "\tat org.eclipse.jetty.util.thread.ReservedThreadExecutor$ReservedThread.run(ReservedThreadExecutor.java:409)\n",
       "\tat com.databricks.rpc.InstrumentedQueuedThreadPool$$anon$1.$anonfun$run$2(InstrumentedQueuedThreadPool.scala:107)\n",
       "\tat scala.runtime.java8.JFunction0$mcV$sp.apply(JFunction0$mcV$sp.java:23)\n",
       "\tat com.databricks.logging.AttributionContextTracing.$anonfun$withAttributionContext$1(AttributionContextTracing.scala:48)\n",
       "\tat com.databricks.logging.AttributionContext$.$anonfun$withValue$1(AttributionContext.scala:261)\n",
       "\tat scala.util.DynamicVariable.withValue(DynamicVariable.scala:62)\n",
       "\tat com.databricks.logging.AttributionContext$.withValue(AttributionContext.scala:257)\n",
       "\tat com.databricks.logging.AttributionContextTracing.withAttributionContext(AttributionContextTracing.scala:46)\n",
       "\tat com.databricks.logging.AttributionContextTracing.withAttributionContext$(AttributionContextTracing.scala:43)\n",
       "\tat com.databricks.rpc.InstrumentedQueuedThreadPool.withAttributionContext(InstrumentedQueuedThreadPool.scala:46)\n",
       "\tat com.databricks.rpc.InstrumentedQueuedThreadPool$$anon$1.$anonfun$run$1(InstrumentedQueuedThreadPool.scala:107)\n",
       "\tat scala.runtime.java8.JFunction0$mcV$sp.apply(JFunction0$mcV$sp.java:23)\n",
       "\tat com.databricks.instrumentation.QueuedThreadPoolInstrumenter.trackActiveThreads(QueuedThreadPoolInstrumenter.scala:110)\n",
       "\tat com.databricks.instrumentation.QueuedThreadPoolInstrumenter.trackActiveThreads$(QueuedThreadPoolInstrumenter.scala:107)\n",
       "\tat com.databricks.rpc.InstrumentedQueuedThreadPool.trackActiveThreads(InstrumentedQueuedThreadPool.scala:46)\n",
       "\tat com.databricks.rpc.InstrumentedQueuedThreadPool$$anon$1.run(InstrumentedQueuedThreadPool.scala:89)\n",
       "\tat org.eclipse.jetty.util.thread.QueuedThreadPool.runJob(QueuedThreadPool.java:883)\n",
       "\tat org.eclipse.jetty.util.thread.QueuedThreadPool$Runner.run(QueuedThreadPool.java:1034)\n",
       "\tat java.lang.Thread.run(Thread.java:840)\n"
      ]
     },
     "metadata": {
      "application/vnd.databricks.v1+output": {
       "addedWidgets": {},
       "arguments": {},
       "datasetInfos": [],
       "jupyterProps": {
        "ename": "ExecutionError",
        "evalue": "An error occurred while calling o410.mount.\n: java.rmi.RemoteException: java.lang.IllegalArgumentException: requirement failed: Directory already mounted: /mnt/icc; nested exception is: \n\tjava.lang.IllegalArgumentException: requirement failed: Directory already mounted: /mnt/icc\n\tat com.databricks.backend.daemon.data.client.DbfsClient.send0(DbfsClient.scala:147)\n\tat com.databricks.backend.daemon.data.client.DbfsClient.sendIdempotent(DbfsClient.scala:70)\n\tat com.databricks.backend.daemon.dbutils.DBUtilsCore.createOrUpdateMount(DBUtilsCore.scala:1133)\n\tat com.databricks.backend.daemon.dbutils.DBUtilsCore.$anonfun$mount$1(DBUtilsCore.scala:1159)\n\tat com.databricks.logging.UsageLogging.$anonfun$recordOperation$1(UsageLogging.scala:532)\n\tat com.databricks.logging.UsageLogging.executeThunkAndCaptureResultTags$1(UsageLogging.scala:636)\n\tat com.databricks.logging.UsageLogging.$anonfun$recordOperationWithResultTags$4(UsageLogging.scala:654)\n\tat com.databricks.logging.AttributionContextTracing.$anonfun$withAttributionContext$1(AttributionContextTracing.scala:48)\n\tat com.databricks.logging.AttributionContext$.$anonfun$withValue$1(AttributionContext.scala:253)\n\tat scala.util.DynamicVariable.withValue(DynamicVariable.scala:62)\n\tat com.databricks.logging.AttributionContext$.withValue(AttributionContext.scala:249)\n\tat com.databricks.logging.AttributionContextTracing.withAttributionContext(AttributionContextTracing.scala:46)\n\tat com.databricks.logging.AttributionContextTracing.withAttributionContext$(AttributionContextTracing.scala:43)\n\tat com.databricks.backend.daemon.dbutils.FSUtils.withAttributionContext(DBUtilsCore.scala:73)\n\tat com.databricks.logging.AttributionContextTracing.withAttributionTags(AttributionContextTracing.scala:95)\n\tat com.databricks.logging.AttributionContextTracing.withAttributionTags$(AttributionContextTracing.scala:76)\n\tat com.databricks.backend.daemon.dbutils.FSUtils.withAttributionTags(DBUtilsCore.scala:73)\n\tat com.databricks.logging.UsageLogging.recordOperationWithResultTags(UsageLogging.scala:631)\n\tat com.databricks.logging.UsageLogging.recordOperationWithResultTags$(UsageLogging.scala:541)\n\tat com.databricks.backend.daemon.dbutils.FSUtils.recordOperationWithResultTags(DBUtilsCore.scala:73)\n\tat com.databricks.logging.UsageLogging.recordOperation(UsageLogging.scala:533)\n\tat com.databricks.logging.UsageLogging.recordOperation$(UsageLogging.scala:501)\n\tat com.databricks.backend.daemon.dbutils.FSUtils.recordOperation(DBUtilsCore.scala:73)\n\tat com.databricks.backend.daemon.dbutils.FSUtils.recordDbutilsFsOp(DBUtilsCore.scala:137)\n\tat com.databricks.backend.daemon.dbutils.DBUtilsCore.mount(DBUtilsCore.scala:1153)\n\tat sun.reflect.NativeMethodAccessorImpl.invoke0(Native Method)\n\tat sun.reflect.NativeMethodAccessorImpl.invoke(NativeMethodAccessorImpl.java:62)\n\tat sun.reflect.DelegatingMethodAccessorImpl.invoke(DelegatingMethodAccessorImpl.java:43)\n\tat java.lang.reflect.Method.invoke(Method.java:498)\n\tat py4j.reflection.MethodInvoker.invoke(MethodInvoker.java:244)\n\tat py4j.reflection.ReflectionEngine.invoke(ReflectionEngine.java:397)\n\tat py4j.Gateway.invoke(Gateway.java:306)\n\tat py4j.commands.AbstractCommand.invokeMethod(AbstractCommand.java:132)\n\tat py4j.commands.CallCommand.execute(CallCommand.java:79)\n\tat py4j.ClientServerConnection.waitForCommands(ClientServerConnection.java:199)\n\tat py4j.ClientServerConnection.run(ClientServerConnection.java:119)\n\tat java.lang.Thread.run(Thread.java:750)\nCaused by: java.lang.IllegalArgumentException: requirement failed: Directory already mounted: /mnt/icc\n\tat scala.Predef$.require(Predef.scala:281)\n\tat com.databricks.backend.daemon.data.server.DefaultMetadataManager.$anonfun$insertMount$1(MetadataManager.scala:703)\n\tat com.databricks.backend.daemon.data.server.DefaultMetadataManager.$anonfun$modifyAndVerify$2(MetadataManager.scala:1085)\n\tat scala.runtime.java8.JFunction0$mcV$sp.apply(JFunction0$mcV$sp.java:23)\n\tat com.databricks.backend.daemon.data.server.DefaultMetadataManager.withRetries(MetadataManager.scala:858)\n\tat com.databricks.backend.daemon.data.server.DefaultMetadataManager.modifyAndVerify(MetadataManager.scala:1074)\n\tat com.databricks.backend.daemon.data.server.DefaultMetadataManager.insertMount(MetadataManager.scala:711)\n\tat com.databricks.backend.daemon.data.server.handler.MountHandler.receive(MountHandler.scala:128)\n\tat com.databricks.backend.daemon.data.server.session.SessionContext.$anonfun$queryHandlers$1(SessionContext.scala:54)\n\tat com.databricks.backend.daemon.data.server.session.SessionContext.$anonfun$queryHandlers$1$adapted(SessionContext.scala:53)\n\tat scala.collection.immutable.List.foreach(List.scala:431)\n\tat com.databricks.backend.daemon.data.server.session.SessionContext.queryHandlers(SessionContext.scala:53)\n\tat com.databricks.backend.daemon.data.server.DbfsServerBackend$$anonfun$receive$4.$anonfun$applyOrElse$10(DbfsServerBackend.scala:472)\n\tat com.databricks.logging.AttributionContextTracing.$anonfun$withAttributionContext$1(AttributionContextTracing.scala:48)\n\tat com.databricks.logging.AttributionContext$.$anonfun$withValue$1(AttributionContext.scala:261)\n\tat scala.util.DynamicVariable.withValue(DynamicVariable.scala:62)\n\tat com.databricks.logging.AttributionContext$.withValue(AttributionContext.scala:257)\n\tat com.databricks.logging.AttributionContextTracing.withAttributionContext(AttributionContextTracing.scala:46)\n\tat com.databricks.logging.AttributionContextTracing.withAttributionContext$(AttributionContextTracing.scala:43)\n\tat com.databricks.rpc.ServerBackend.withAttributionContext(ServerBackend.scala:22)\n\tat com.databricks.logging.AttributionContextTracing.withAttributionTags(AttributionContextTracing.scala:95)\n\tat com.databricks.logging.AttributionContextTracing.withAttributionTags$(AttributionContextTracing.scala:76)\n\tat com.databricks.rpc.ServerBackend.withAttributionTags(ServerBackend.scala:22)\n\tat com.databricks.backend.daemon.data.server.DbfsServerBackend$$anonfun$receive$4.applyOrElse(DbfsServerBackend.scala:472)\n\tat com.databricks.backend.daemon.data.server.DbfsServerBackend$$anonfun$receive$4.applyOrElse(DbfsServerBackend.scala:365)\n\tat com.databricks.rpc.ServerBackend.$anonfun$internalReceive0$2(ServerBackend.scala:174)\n\tat com.databricks.rpc.ServerBackend$$anonfun$commonReceive$1.applyOrElse(ServerBackend.scala:200)\n\tat com.databricks.rpc.ServerBackend$$anonfun$commonReceive$1.applyOrElse(ServerBackend.scala:200)\n\tat com.databricks.rpc.ServerBackend.internalReceive0(ServerBackend.scala:171)\n\tat com.databricks.rpc.ServerBackend.$anonfun$internalReceive$1(ServerBackend.scala:147)\n\tat com.databricks.logging.UsageLogging.$anonfun$recordOperation$1(UsageLogging.scala:532)\n\tat com.databricks.logging.UsageLogging.executeThunkAndCaptureResultTags$1(UsageLogging.scala:636)\n\tat com.databricks.logging.UsageLogging.$anonfun$recordOperationWithResultTags$4(UsageLogging.scala:656)\n\tat com.databricks.logging.AttributionContextTracing.$anonfun$withAttributionContext$1(AttributionContextTracing.scala:48)\n\tat com.databricks.logging.AttributionContext$.$anonfun$withValue$1(AttributionContext.scala:261)\n\tat scala.util.DynamicVariable.withValue(DynamicVariable.scala:62)\n\tat com.databricks.logging.AttributionContext$.withValue(AttributionContext.scala:257)\n\tat com.databricks.logging.AttributionContextTracing.withAttributionContext(AttributionContextTracing.scala:46)\n\tat com.databricks.logging.AttributionContextTracing.withAttributionContext$(AttributionContextTracing.scala:43)\n\tat com.databricks.rpc.ServerBackend.withAttributionContext(ServerBackend.scala:22)\n\tat com.databricks.logging.AttributionContextTracing.withAttributionTags(AttributionContextTracing.scala:95)\n\tat com.databricks.logging.AttributionContextTracing.withAttributionTags$(AttributionContextTracing.scala:76)\n\tat com.databricks.rpc.ServerBackend.withAttributionTags(ServerBackend.scala:22)\n\tat com.databricks.logging.UsageLogging.recordOperationWithResultTags(UsageLogging.scala:631)\n\tat com.databricks.logging.UsageLogging.recordOperationWithResultTags$(UsageLogging.scala:541)\n\tat com.databricks.rpc.ServerBackend.recordOperationWithResultTags(ServerBackend.scala:22)\n\tat com.databricks.logging.UsageLogging.recordOperation(UsageLogging.scala:533)\n\tat com.databricks.logging.UsageLogging.recordOperation$(UsageLogging.scala:501)\n\tat com.databricks.rpc.ServerBackend.recordOperation(ServerBackend.scala:22)\n\tat com.databricks.rpc.ServerBackend.internalReceive(ServerBackend.scala:146)\n\tat com.databricks.rpc.JettyServer$RequestManager.handleRPC(JettyServer.scala:1021)\n\tat com.databricks.rpc.JettyServer$RequestManager.handleRequestAndRespond(JettyServer.scala:942)\n\tat com.databricks.rpc.JettyServer$RequestManager.$anonfun$handleHttp$6(JettyServer.scala:546)\n\tat com.databricks.rpc.JettyServer$RequestManager.$anonfun$handleHttp$6$adapted(JettyServer.scala:515)\n\tat com.databricks.logging.activity.ActivityContextFactory$.$anonfun$withActivityInternal$6(ActivityContextFactory.scala:549)\n\tat com.databricks.logging.AttributionContextTracing.$anonfun$withAttributionContext$1(AttributionContextTracing.scala:48)\n\tat com.databricks.logging.AttributionContext$.$anonfun$withValue$1(AttributionContext.scala:261)\n\tat scala.util.DynamicVariable.withValue(DynamicVariable.scala:62)\n\tat com.databricks.logging.AttributionContext$.withValue(AttributionContext.scala:257)\n\tat com.databricks.logging.AttributionContextTracing.withAttributionContext(AttributionContextTracing.scala:46)\n\tat com.databricks.logging.AttributionContextTracing.withAttributionContext$(AttributionContextTracing.scala:43)\n\tat com.databricks.logging.activity.ActivityContextFactory$.withAttributionContext(ActivityContextFactory.scala:57)\n\tat com.databricks.logging.activity.ActivityContextFactory$.$anonfun$withActivityInternal$3(ActivityContextFactory.scala:549)\n\tat com.databricks.context.integrity.IntegrityCheckContext$ThreadLocalStorage$.withValue(IntegrityCheckContext.scala:73)\n\tat com.databricks.logging.activity.ActivityContextFactory$.withActivityInternal(ActivityContextFactory.scala:527)\n\tat com.databricks.logging.activity.ActivityContextFactory$.withServiceRequestActivity(ActivityContextFactory.scala:178)\n\tat com.databricks.rpc.JettyServer$RequestManager.handleHttp(JettyServer.scala:515)\n\tat com.databricks.rpc.JettyServer$RequestManager.doPost(JettyServer.scala:405)\n\tat javax.servlet.http.HttpServlet.service(HttpServlet.java:665)\n\tat com.databricks.rpc.HttpServletWithPatch.service(HttpServletWithPatch.scala:33)\n\tat javax.servlet.http.HttpServlet.service(HttpServlet.java:750)\n\tat org.eclipse.jetty.servlet.ServletHolder.handle(ServletHolder.java:799)\n\tat org.eclipse.jetty.servlet.ServletHandler.doHandle(ServletHandler.java:554)\n\tat org.eclipse.jetty.server.handler.ScopedHandler.nextScope(ScopedHandler.java:190)\n\tat org.eclipse.jetty.servlet.ServletHandler.doScope(ServletHandler.java:505)\n\tat org.eclipse.jetty.server.handler.ScopedHandler.handle(ScopedHandler.java:141)\n\tat org.eclipse.jetty.server.handler.HandlerWrapper.handle(HandlerWrapper.java:127)\n\tat org.eclipse.jetty.server.Server.handle(Server.java:516)\n\tat org.eclipse.jetty.server.HttpChannel.lambda$handle$1(HttpChannel.java:487)\n\tat org.eclipse.jetty.server.HttpChannel.dispatch(HttpChannel.java:732)\n\tat org.eclipse.jetty.server.HttpChannel.handle(HttpChannel.java:479)\n\tat org.eclipse.jetty.server.HttpConnection.onFillable(HttpConnection.java:277)\n\tat org.eclipse.jetty.io.AbstractConnection$ReadCallback.succeeded(AbstractConnection.java:311)\n\tat org.eclipse.jetty.io.FillInterest.fillable(FillInterest.java:105)\n\tat org.eclipse.jetty.io.ChannelEndPoint$1.run(ChannelEndPoint.java:104)\n\tat org.eclipse.jetty.util.thread.strategy.EatWhatYouKill.runTask(EatWhatYouKill.java:338)\n\tat org.eclipse.jetty.util.thread.strategy.EatWhatYouKill.doProduce(EatWhatYouKill.java:315)\n\tat org.eclipse.jetty.util.thread.strategy.EatWhatYouKill.tryProduce(EatWhatYouKill.java:173)\n\tat org.eclipse.jetty.util.thread.strategy.EatWhatYouKill.run(EatWhatYouKill.java:131)\n\tat org.eclipse.jetty.util.thread.ReservedThreadExecutor$ReservedThread.run(ReservedThreadExecutor.java:409)\n\tat com.databricks.rpc.InstrumentedQueuedThreadPool$$anon$1.$anonfun$run$2(InstrumentedQueuedThreadPool.scala:107)\n\tat scala.runtime.java8.JFunction0$mcV$sp.apply(JFunction0$mcV$sp.java:23)\n\tat com.databricks.logging.AttributionContextTracing.$anonfun$withAttributionContext$1(AttributionContextTracing.scala:48)\n\tat com.databricks.logging.AttributionContext$.$anonfun$withValue$1(AttributionContext.scala:261)\n\tat scala.util.DynamicVariable.withValue(DynamicVariable.scala:62)\n\tat com.databricks.logging.AttributionContext$.withValue(AttributionContext.scala:257)\n\tat com.databricks.logging.AttributionContextTracing.withAttributionContext(AttributionContextTracing.scala:46)\n\tat com.databricks.logging.AttributionContextTracing.withAttributionContext$(AttributionContextTracing.scala:43)\n\tat com.databricks.rpc.InstrumentedQueuedThreadPool.withAttributionContext(InstrumentedQueuedThreadPool.scala:46)\n\tat com.databricks.rpc.InstrumentedQueuedThreadPool$$anon$1.$anonfun$run$1(InstrumentedQueuedThreadPool.scala:107)\n\tat scala.runtime.java8.JFunction0$mcV$sp.apply(JFunction0$mcV$sp.java:23)\n\tat com.databricks.instrumentation.QueuedThreadPoolInstrumenter.trackActiveThreads(QueuedThreadPoolInstrumenter.scala:110)\n\tat com.databricks.instrumentation.QueuedThreadPoolInstrumenter.trackActiveThreads$(QueuedThreadPoolInstrumenter.scala:107)\n\tat com.databricks.rpc.InstrumentedQueuedThreadPool.trackActiveThreads(InstrumentedQueuedThreadPool.scala:46)\n\tat com.databricks.rpc.InstrumentedQueuedThreadPool$$anon$1.run(InstrumentedQueuedThreadPool.scala:89)\n\tat org.eclipse.jetty.util.thread.QueuedThreadPool.runJob(QueuedThreadPool.java:883)\n\tat org.eclipse.jetty.util.thread.QueuedThreadPool$Runner.run(QueuedThreadPool.java:1034)\n\tat java.lang.Thread.run(Thread.java:840)\n"
       },
       "metadata": {
        "errorSummary": "<span class='ansi-red-fg'>ExecutionError</span>: An error occurred while calling o410.mount.\n: java.rmi.RemoteException: java.lang.IllegalArgumentException: requirement failed: Directory already mounted: /mnt/icc; nested exception is: \n\tjava.lang.IllegalArgumentException: requirement failed: Directory already mounted: /mnt/icc\n\tat com.databricks.backend.daemon.data.client.DbfsClient.send0(DbfsClient.scala:147)\n\tat com.databricks.backend.daemon.data.client.DbfsClient.sendIdempotent(DbfsClient.scala:70)\n\tat com.databricks.backend.daemon.dbutils.DBUtilsCore.createOrUpdateMount(DBUtilsCore.scala:1133)\n\tat com.databricks.backend.daemon.dbutils.DBUtilsCore.$anonfun$mount$1(DBUtilsCore.scala:1159)\n\tat com.databricks.logging.UsageLogging.$anonfun$recordOperation$1(UsageLogging.scala:532)\n\tat com.databricks.logging.UsageLogging.executeThunkAndCaptureResultTags$1(UsageLogging.scala:636)\n\tat com.databricks.logging.UsageLogging.$anonfun$recordOperationWithResultTags$4(UsageLogging.scala:654)\n\tat com.databricks.logging.AttributionContextTracing.$anonfun$withAttributionContext$1(AttributionContextTracing.scala:48)\n\tat com.databricks.logging.AttributionContext$.$anonfun$withValue$1(AttributionContext.scala:253)\n\tat scala.util.DynamicVariable.withValue(DynamicVariable.scala:62)\n\tat com.databricks.logging.AttributionContext$.withValue(AttributionContext.scala:249)\n\tat com.databricks.logging.AttributionContextTracing.withAttributionContext(AttributionContextTracing.scala:46)\n\tat com.databricks.logging.AttributionContextTracing.withAttributionContext$(AttributionContextTracing.scala:43)\n\tat com.databricks.backend.daemon.dbutils.FSUtils.withAttributionContext(DBUtilsCore.scala:73)\n\tat com.databricks.logging.AttributionContextTracing.withAttributionTags(AttributionContextTracing.scala:95)\n\tat com.databricks.logging.AttributionContextTracing.withAttributionTags$(AttributionContextTracing.scala:76)\n\tat com.databricks.backend.daemon.dbutils.FSUtils.withAttributionTags(DBUtilsCore.scala:73)\n\tat com.databricks.logging.UsageLogging.recordOperationWithResultTags(UsageLogging.scala:631)\n\tat com.databricks.logging.UsageLogging.recordOperationWithResultTags$(UsageLogging.scala:541)\n\tat com.databricks.backend.daemon.dbutils.FSUtils.recordOperationWithResultTags(DBUtilsCore.scala:73)\n\tat com.databricks.logging.UsageLogging.recordOperation(UsageLogging.scala:533)\n\tat com.databricks.logging.UsageLogging.recordOperation$(UsageLogging.scala:501)\n\tat com.databricks.backend.daemon.dbutils.FSUtils.recordOperation(DBUtilsCore.scala:73)\n\tat com.databricks.backend.daemon.dbutils.FSUtils.recordDbutilsFsOp(DBUtilsCore.scala:137)\n\tat com.databricks.backend.daemon.dbutils.DBUtilsCore.mount(DBUtilsCore.scala:1153)\n\tat sun.reflect.NativeMethodAccessorImpl.invoke0(Native Method)\n\tat sun.reflect.NativeMethodAccessorImpl.invoke(NativeMethodAccessorImpl.java:62)\n\tat sun.reflect.DelegatingMethodAccessorImpl.invoke(DelegatingMethodAccessorImpl.java:43)\n\tat java.lang.reflect.Method.invoke(Method.java:498)\n\tat py4j.reflection.MethodInvoker.invoke(MethodInvoker.java:244)\n\tat py4j.reflection.ReflectionEngine.invoke(ReflectionEngine.java:397)\n\tat py4j.Gateway.invoke(Gateway.java:306)\n\tat py4j.commands.AbstractCommand.invokeMethod(AbstractCommand.java:132)\n\tat py4j.commands.CallCommand.execute(CallCommand.java:79)\n\tat py4j.ClientServerConnection.waitForCommands(ClientServerConnection.java:199)\n\tat py4j.ClientServerConnection.run(ClientServerConnection.java:119)\n\tat java.lang.Thread.run(Thread.java:750)\nCaused by: java.lang.IllegalArgumentException: requirement failed: Directory already mounted: /mnt/icc\n\tat scala.Predef$.require(Predef.scala:281)\n\tat com.databricks.backend.daemon.data.server.DefaultMetadataManager.$anonfun$insertMount$1(MetadataManager.scala:703)\n\tat com.databricks.backend.daemon.data.server.DefaultMetadataManager.$anonfun$modifyAndVerify$2(MetadataManager.scala:1085)\n\tat scala.runtime.java8.JFunction0$mcV$sp.apply(JFunction0$mcV$sp.java:23)\n\tat com.databricks.backend.daemon.data.server.DefaultMetadataManager.withRetries(MetadataManager.scala:858)\n\tat com.databricks.backend.daemon.data.server.DefaultMetadataManager.modifyAndVerify(MetadataManager.scala:1074)\n\tat com.databricks.backend.daemon.data.server.DefaultMetadataManager.insertMount(MetadataManager.scala:711)\n\tat com.databricks.backend.daemon.data.server.handler.MountHandler.receive(MountHandler.scala:128)\n\tat com.databricks.backend.daemon.data.server.session.SessionContext.$anonfun$queryHandlers$1(SessionContext.scala:54)\n\tat com.databricks.backend.daemon.data.server.session.SessionContext.$anonfun$queryHandlers$1$adapted(SessionContext.scala:53)\n\tat scala.collection.immutable.List.foreach(List.scala:431)\n\tat com.databricks.backend.daemon.data.server.session.SessionContext.queryHandlers(SessionContext.scala:53)\n\tat com.databricks.backend.daemon.data.server.DbfsServerBackend$$anonfun$receive$4.$anonfun$applyOrElse$10(DbfsServerBackend.scala:472)\n\tat com.databricks.logging.AttributionContextTracing.$anonfun$withAttributionContext$1(AttributionContextTracing.scala:48)\n\tat com.databricks.logging.AttributionContext$.$anonfun$withValue$1(AttributionContext.scala:261)\n\tat scala.util.DynamicVariable.withValue(DynamicVariable.scala:62)\n\tat com.databricks.logging.AttributionContext$.withValue(AttributionContext.scala:257)\n\tat com.databricks.logging.AttributionContextTracing.withAttributionContext(AttributionContextTracing.scala:46)\n\tat com.databricks.logging.AttributionContextTracing.withAttributionContext$(AttributionContextTracing.scala:43)\n\tat com.databricks.rpc.ServerBackend.withAttributionContext(ServerBackend.scala:22)\n\tat com.databricks.logging.AttributionContextTracing.withAttributionTags(AttributionContextTracing.scala:95)\n\tat com.databricks.logging.AttributionContextTracing.withAttributionTags$(AttributionContextTracing.scala:76)\n\tat com.databricks.rpc.ServerBackend.withAttributionTags(ServerBackend.scala:22)\n\tat com.databricks.backend.daemon.data.server.DbfsServerBackend$$anonfun$receive$4.applyOrElse(DbfsServerBackend.scala:472)\n\tat com.databricks.backend.daemon.data.server.DbfsServerBackend$$anonfun$receive$4.applyOrElse(DbfsServerBackend.scala:365)\n\tat com.databricks.rpc.ServerBackend.$anonfun$internalReceive0$2(ServerBackend.scala:174)\n\tat com.databricks.rpc.ServerBackend$$anonfun$commonReceive$1.applyOrElse(ServerBackend.scala:200)\n\tat com.databricks.rpc.ServerBackend$$anonfun$commonReceive$1.applyOrElse(ServerBackend.scala:200)\n\tat com.databricks.rpc.ServerBackend.internalReceive0(ServerBackend.scala:171)\n\tat com.databricks.rpc.ServerBackend.$anonfun$internalReceive$1(ServerBackend.scala:147)\n\tat com.databricks.logging.UsageLogging.$anonfun$recordOperation$1(UsageLogging.scala:532)\n\tat com.databricks.logging.UsageLogging.executeThunkAndCaptureResultTags$1(UsageLogging.scala:636)\n\tat com.databricks.logging.UsageLogging.$anonfun$recordOperationWithResultTags$4(UsageLogging.scala:656)\n\tat com.databricks.logging.AttributionContextTracing.$anonfun$withAttributionContext$1(AttributionContextTracing.scala:48)\n\tat com.databricks.logging.AttributionContext$.$anonfun$withValue$1(AttributionContext.scala:261)\n\tat scala.util.DynamicVariable.withValue(DynamicVariable.scala:62)\n\tat com.databricks.logging.AttributionContext$.withValue(AttributionContext.scala:257)\n\tat com.databricks.logging.AttributionContextTracing.withAttributionContext(AttributionContextTracing.scala:46)\n\tat com.databricks.logging.AttributionContextTracing.withAttributionContext$(AttributionContextTracing.scala:43)\n\tat com.databricks.rpc.ServerBackend.withAttributionContext(ServerBackend.scala:22)\n\tat com.databricks.logging.AttributionContextTracing.withAttributionTags(AttributionContextTracing.scala:95)\n\tat com.databricks.logging.AttributionContextTracing.withAttributionTags$(AttributionContextTracing.scala:76)\n\tat com.databricks.rpc.ServerBackend.withAttributionTags(ServerBackend.scala:22)\n\tat com.databricks.logging.UsageLogging.recordOperationWithResultTags(UsageLogging.scala:631)\n\tat com.databricks.logging.UsageLogging.recordOperationWithResultTags$(UsageLogging.scala:541)\n\tat com.databricks.rpc.ServerBackend.recordOperationWithResultTags(ServerBackend.scala:22)\n\tat com.databricks.logging.UsageLogging.recordOperation(UsageLogging.scala:533)\n\tat com.databricks.logging.UsageLogging.recordOperation$(UsageLogging.scala:501)\n\tat com.databricks.rpc.ServerBackend.recordOperation(ServerBackend.scala:22)\n\tat com.databricks.rpc.ServerBackend.internalReceive(ServerBackend.scala:146)\n\tat com.databricks.rpc.JettyServer$RequestManager.handleRPC(JettyServer.scala:1021)\n\tat com.databricks.rpc.JettyServer$RequestManager.handleRequestAndRespond(JettyServer.scala:942)\n\tat com.databricks.rpc.JettyServer$RequestManager.$anonfun$handleHttp$6(JettyServer.scala:546)\n\tat com.databricks.rpc.JettyServer$RequestManager.$anonfun$handleHttp$6$adapted(JettyServer.scala:515)\n\tat com.databricks.logging.activity.ActivityContextFactory$.$anonfun$withActivityInternal$6(ActivityContextFactory.scala:549)\n\tat com.databricks.logging.AttributionContextTracing.$anonfun$withAttributionContext$1(AttributionContextTracing.scala:48)\n\tat com.databricks.logging.AttributionContext$.$anonfun$withValue$1(AttributionContext.scala:261)\n\tat scala.util.DynamicVariable.withValue(DynamicVariable.scala:62)\n\tat com.databricks.logging.AttributionContext$.withValue(AttributionContext.scala:257)\n\tat com.databricks.logging.AttributionContextTracing.withAttributionContext(AttributionContextTracing.scala:46)\n\tat com.databricks.logging.AttributionContextTracing.withAttributionContext$(AttributionContextTracing.scala:43)\n\tat com.databricks.logging.activity.ActivityContextFactory$.withAttributionContext(ActivityContextFactory.scala:57)\n\tat com.databricks.logging.activity.ActivityContextFactory$.$anonfun$withActivityInternal$3(ActivityContextFactory.scala:549)\n\tat com.databricks.context.integrity.IntegrityCheckContext$ThreadLocalStorage$.withValue(IntegrityCheckContext.scala:73)\n\tat com.databricks.logging.activity.ActivityContextFactory$.withActivityInternal(ActivityContextFactory.scala:527)\n\tat com.databricks.logging.activity.ActivityContextFactory$.withServiceRequestActivity(ActivityContextFactory.scala:178)\n\tat com.databricks.rpc.JettyServer$RequestManager.handleHttp(JettyServer.scala:515)\n\tat com.databricks.rpc.JettyServer$RequestManager.doPost(JettyServer.scala:405)\n\tat javax.servlet.http.HttpServlet.service(HttpServlet.java:665)\n\tat com.databricks.rpc.HttpServletWithPatch.service(HttpServletWithPatch.scala:33)\n\tat javax.servlet.http.HttpServlet.service(HttpServlet.java:750)\n\tat org.eclipse.jetty.servlet.ServletHolder.handle(ServletHolder.java:799)\n\tat org.eclipse.jetty.servlet.ServletHandler.doHandle(ServletHandler.java:554)\n\tat org.eclipse.jetty.server.handler.ScopedHandler.nextScope(ScopedHandler.java:190)\n\tat org.eclipse.jetty.servlet.ServletHandler.doScope(ServletHandler.java:505)\n\tat org.eclipse.jetty.server.handler.ScopedHandler.handle(ScopedHandler.java:141)\n\tat org.eclipse.jetty.server.handler.HandlerWrapper.handle(HandlerWrapper.java:127)\n\tat org.eclipse.jetty.server.Server.handle(Server.java:516)\n\tat org.eclipse.jetty.server.HttpChannel.lambda$handle$1(HttpChannel.java:487)\n\tat org.eclipse.jetty.server.HttpChannel.dispatch(HttpChannel.java:732)\n\tat org.eclipse.jetty.server.HttpChannel.handle(HttpChannel.java:479)\n\tat org.eclipse.jetty.server.HttpConnection.onFillable(HttpConnection.java:277)\n\tat org.eclipse.jetty.io.AbstractConnection$ReadCallback.succeeded(AbstractConnection.java:311)\n\tat org.eclipse.jetty.io.FillInterest.fillable(FillInterest.java:105)\n\tat org.eclipse.jetty.io.ChannelEndPoint$1.run(ChannelEndPoint.java:104)\n\tat org.eclipse.jetty.util.thread.strategy.EatWhatYouKill.runTask(EatWhatYouKill.java:338)\n\tat org.eclipse.jetty.util.thread.strategy.EatWhatYouKill.doProduce(EatWhatYouKill.java:315)\n\tat org.eclipse.jetty.util.thread.strategy.EatWhatYouKill.tryProduce(EatWhatYouKill.java:173)\n\tat org.eclipse.jetty.util.thread.strategy.EatWhatYouKill.run(EatWhatYouKill.java:131)\n\tat org.eclipse.jetty.util.thread.ReservedThreadExecutor$ReservedThread.run(ReservedThreadExecutor.java:409)\n\tat com.databricks.rpc.InstrumentedQueuedThreadPool$$anon$1.$anonfun$run$2(InstrumentedQueuedThreadPool.scala:107)\n\tat scala.runtime.java8.JFunction0$mcV$sp.apply(JFunction0$mcV$sp.java:23)\n\tat com.databricks.logging.AttributionContextTracing.$anonfun$withAttributionContext$1(AttributionContextTracing.scala:48)\n\tat com.databricks.logging.AttributionContext$.$anonfun$withValue$1(AttributionContext.scala:261)\n\tat scala.util.DynamicVariable.withValue(DynamicVariable.scala:62)\n\tat com.databricks.logging.AttributionContext$.withValue(AttributionContext.scala:257)\n\tat com.databricks.logging.AttributionContextTracing.withAttributionContext(AttributionContextTracing.scala:46)\n\tat com.databricks.logging.AttributionContextTracing.withAttributionContext$(AttributionContextTracing.scala:43)\n\tat com.databricks.rpc.InstrumentedQueuedThreadPool.withAttributionContext(InstrumentedQueuedThreadPool.scala:46)\n\tat com.databricks.rpc.InstrumentedQueuedThreadPool$$anon$1.$anonfun$run$1(InstrumentedQueuedThreadPool.scala:107)\n\tat scala.runtime.java8.JFunction0$mcV$sp.apply(JFunction0$mcV$sp.java:23)\n\tat com.databricks.instrumentation.QueuedThreadPoolInstrumenter.trackActiveThreads(QueuedThreadPoolInstrumenter.scala:110)\n\tat com.databricks.instrumentation.QueuedThreadPoolInstrumenter.trackActiveThreads$(QueuedThreadPoolInstrumenter.scala:107)\n\tat com.databricks.rpc.InstrumentedQueuedThreadPool.trackActiveThreads(InstrumentedQueuedThreadPool.scala:46)\n\tat com.databricks.rpc.InstrumentedQueuedThreadPool$$anon$1.run(InstrumentedQueuedThreadPool.scala:89)\n\tat org.eclipse.jetty.util.thread.QueuedThreadPool.runJob(QueuedThreadPool.java:883)\n\tat org.eclipse.jetty.util.thread.QueuedThreadPool$Runner.run(QueuedThreadPool.java:1034)\n\tat java.lang.Thread.run(Thread.java:840)\n"
       },
       "removedWidgets": [],
       "sqlProps": null,
       "stackFrames": [
        "\u001b[0;31m---------------------------------------------------------------------------\u001b[0m",
        "\u001b[0;31mExecutionError\u001b[0m                            Traceback (most recent call last)",
        "File \u001b[0;32m<command-2789878688509195>, line 9\u001b[0m\n\u001b[1;32m      1\u001b[0m configs \u001b[38;5;241m=\u001b[39m {\u001b[38;5;124m\"\u001b[39m\u001b[38;5;124mfs.azure.account.auth.type\u001b[39m\u001b[38;5;124m\"\u001b[39m: \u001b[38;5;124m\"\u001b[39m\u001b[38;5;124mOAuth\u001b[39m\u001b[38;5;124m\"\u001b[39m,\n\u001b[1;32m      2\u001b[0m \u001b[38;5;124m\"\u001b[39m\u001b[38;5;124mfs.azure.account.oauth.provider.type\u001b[39m\u001b[38;5;124m\"\u001b[39m: \u001b[38;5;124m\"\u001b[39m\u001b[38;5;124morg.apache.hadoop.fs.azurebfs.oauth2.ClientCredsTokenProvider\u001b[39m\u001b[38;5;124m\"\u001b[39m,\n\u001b[1;32m      3\u001b[0m \u001b[38;5;124m\"\u001b[39m\u001b[38;5;124mfs.azure.account.oauth2.client.id\u001b[39m\u001b[38;5;124m\"\u001b[39m: \u001b[38;5;124m\"\u001b[39m\u001b[38;5;124m26e3a2a5-15aa-4da3-9a67-6547446cd1a3\u001b[39m\u001b[38;5;124m\"\u001b[39m,\n\u001b[1;32m      4\u001b[0m \u001b[38;5;124m\"\u001b[39m\u001b[38;5;124mfs.azure.account.oauth2.client.secret\u001b[39m\u001b[38;5;124m\"\u001b[39m: \u001b[38;5;124m'\u001b[39m\u001b[38;5;124mDrl8Q~c-DBchUPVMwrr2oNyQYgCe8nMywtC8Xb98\u001b[39m\u001b[38;5;124m'\u001b[39m,\n\u001b[1;32m      5\u001b[0m \u001b[38;5;124m\"\u001b[39m\u001b[38;5;124mfs.azure.account.oauth2.client.endpoint\u001b[39m\u001b[38;5;124m\"\u001b[39m: \u001b[38;5;124m\"\u001b[39m\u001b[38;5;124mhttps://login.microsoftonline.com/14b80cc0-d1ee-4b7b-ae6e-36c9e1255d03/oauth2/token\u001b[39m\u001b[38;5;124m\"\u001b[39m}\n\u001b[0;32m----> 9\u001b[0m dbutils\u001b[38;5;241m.\u001b[39mfs\u001b[38;5;241m.\u001b[39mmount(\n\u001b[1;32m     10\u001b[0m source \u001b[38;5;241m=\u001b[39m \u001b[38;5;124m\"\u001b[39m\u001b[38;5;124mabfss://data@icct20data.dfs.core.windows.net\u001b[39m\u001b[38;5;124m\"\u001b[39m, \u001b[38;5;66;03m# contrainer@storageacc\u001b[39;00m\n\u001b[1;32m     11\u001b[0m mount_point \u001b[38;5;241m=\u001b[39m \u001b[38;5;124m\"\u001b[39m\u001b[38;5;124m/mnt/icc\u001b[39m\u001b[38;5;124m\"\u001b[39m,\n\u001b[1;32m     12\u001b[0m extra_configs \u001b[38;5;241m=\u001b[39m configs)\n",
        "File \u001b[0;32m/databricks/python_shell/dbruntime/dbutils.py:152\u001b[0m, in \u001b[0;36mprettify_exception_message.<locals>.f_with_exception_handling\u001b[0;34m(*args, **kwargs)\u001b[0m\n\u001b[1;32m    150\u001b[0m exc\u001b[38;5;241m.\u001b[39m__context__ \u001b[38;5;241m=\u001b[39m \u001b[38;5;28;01mNone\u001b[39;00m\n\u001b[1;32m    151\u001b[0m exc\u001b[38;5;241m.\u001b[39m__cause__ \u001b[38;5;241m=\u001b[39m \u001b[38;5;28;01mNone\u001b[39;00m\n\u001b[0;32m--> 152\u001b[0m \u001b[38;5;28;01mraise\u001b[39;00m exc\n",
        "\u001b[0;31mExecutionError\u001b[0m: An error occurred while calling o410.mount.\n: java.rmi.RemoteException: java.lang.IllegalArgumentException: requirement failed: Directory already mounted: /mnt/icc; nested exception is: \n\tjava.lang.IllegalArgumentException: requirement failed: Directory already mounted: /mnt/icc\n\tat com.databricks.backend.daemon.data.client.DbfsClient.send0(DbfsClient.scala:147)\n\tat com.databricks.backend.daemon.data.client.DbfsClient.sendIdempotent(DbfsClient.scala:70)\n\tat com.databricks.backend.daemon.dbutils.DBUtilsCore.createOrUpdateMount(DBUtilsCore.scala:1133)\n\tat com.databricks.backend.daemon.dbutils.DBUtilsCore.$anonfun$mount$1(DBUtilsCore.scala:1159)\n\tat com.databricks.logging.UsageLogging.$anonfun$recordOperation$1(UsageLogging.scala:532)\n\tat com.databricks.logging.UsageLogging.executeThunkAndCaptureResultTags$1(UsageLogging.scala:636)\n\tat com.databricks.logging.UsageLogging.$anonfun$recordOperationWithResultTags$4(UsageLogging.scala:654)\n\tat com.databricks.logging.AttributionContextTracing.$anonfun$withAttributionContext$1(AttributionContextTracing.scala:48)\n\tat com.databricks.logging.AttributionContext$.$anonfun$withValue$1(AttributionContext.scala:253)\n\tat scala.util.DynamicVariable.withValue(DynamicVariable.scala:62)\n\tat com.databricks.logging.AttributionContext$.withValue(AttributionContext.scala:249)\n\tat com.databricks.logging.AttributionContextTracing.withAttributionContext(AttributionContextTracing.scala:46)\n\tat com.databricks.logging.AttributionContextTracing.withAttributionContext$(AttributionContextTracing.scala:43)\n\tat com.databricks.backend.daemon.dbutils.FSUtils.withAttributionContext(DBUtilsCore.scala:73)\n\tat com.databricks.logging.AttributionContextTracing.withAttributionTags(AttributionContextTracing.scala:95)\n\tat com.databricks.logging.AttributionContextTracing.withAttributionTags$(AttributionContextTracing.scala:76)\n\tat com.databricks.backend.daemon.dbutils.FSUtils.withAttributionTags(DBUtilsCore.scala:73)\n\tat com.databricks.logging.UsageLogging.recordOperationWithResultTags(UsageLogging.scala:631)\n\tat com.databricks.logging.UsageLogging.recordOperationWithResultTags$(UsageLogging.scala:541)\n\tat com.databricks.backend.daemon.dbutils.FSUtils.recordOperationWithResultTags(DBUtilsCore.scala:73)\n\tat com.databricks.logging.UsageLogging.recordOperation(UsageLogging.scala:533)\n\tat com.databricks.logging.UsageLogging.recordOperation$(UsageLogging.scala:501)\n\tat com.databricks.backend.daemon.dbutils.FSUtils.recordOperation(DBUtilsCore.scala:73)\n\tat com.databricks.backend.daemon.dbutils.FSUtils.recordDbutilsFsOp(DBUtilsCore.scala:137)\n\tat com.databricks.backend.daemon.dbutils.DBUtilsCore.mount(DBUtilsCore.scala:1153)\n\tat sun.reflect.NativeMethodAccessorImpl.invoke0(Native Method)\n\tat sun.reflect.NativeMethodAccessorImpl.invoke(NativeMethodAccessorImpl.java:62)\n\tat sun.reflect.DelegatingMethodAccessorImpl.invoke(DelegatingMethodAccessorImpl.java:43)\n\tat java.lang.reflect.Method.invoke(Method.java:498)\n\tat py4j.reflection.MethodInvoker.invoke(MethodInvoker.java:244)\n\tat py4j.reflection.ReflectionEngine.invoke(ReflectionEngine.java:397)\n\tat py4j.Gateway.invoke(Gateway.java:306)\n\tat py4j.commands.AbstractCommand.invokeMethod(AbstractCommand.java:132)\n\tat py4j.commands.CallCommand.execute(CallCommand.java:79)\n\tat py4j.ClientServerConnection.waitForCommands(ClientServerConnection.java:199)\n\tat py4j.ClientServerConnection.run(ClientServerConnection.java:119)\n\tat java.lang.Thread.run(Thread.java:750)\nCaused by: java.lang.IllegalArgumentException: requirement failed: Directory already mounted: /mnt/icc\n\tat scala.Predef$.require(Predef.scala:281)\n\tat com.databricks.backend.daemon.data.server.DefaultMetadataManager.$anonfun$insertMount$1(MetadataManager.scala:703)\n\tat com.databricks.backend.daemon.data.server.DefaultMetadataManager.$anonfun$modifyAndVerify$2(MetadataManager.scala:1085)\n\tat scala.runtime.java8.JFunction0$mcV$sp.apply(JFunction0$mcV$sp.java:23)\n\tat com.databricks.backend.daemon.data.server.DefaultMetadataManager.withRetries(MetadataManager.scala:858)\n\tat com.databricks.backend.daemon.data.server.DefaultMetadataManager.modifyAndVerify(MetadataManager.scala:1074)\n\tat com.databricks.backend.daemon.data.server.DefaultMetadataManager.insertMount(MetadataManager.scala:711)\n\tat com.databricks.backend.daemon.data.server.handler.MountHandler.receive(MountHandler.scala:128)\n\tat com.databricks.backend.daemon.data.server.session.SessionContext.$anonfun$queryHandlers$1(SessionContext.scala:54)\n\tat com.databricks.backend.daemon.data.server.session.SessionContext.$anonfun$queryHandlers$1$adapted(SessionContext.scala:53)\n\tat scala.collection.immutable.List.foreach(List.scala:431)\n\tat com.databricks.backend.daemon.data.server.session.SessionContext.queryHandlers(SessionContext.scala:53)\n\tat com.databricks.backend.daemon.data.server.DbfsServerBackend$$anonfun$receive$4.$anonfun$applyOrElse$10(DbfsServerBackend.scala:472)\n\tat com.databricks.logging.AttributionContextTracing.$anonfun$withAttributionContext$1(AttributionContextTracing.scala:48)\n\tat com.databricks.logging.AttributionContext$.$anonfun$withValue$1(AttributionContext.scala:261)\n\tat scala.util.DynamicVariable.withValue(DynamicVariable.scala:62)\n\tat com.databricks.logging.AttributionContext$.withValue(AttributionContext.scala:257)\n\tat com.databricks.logging.AttributionContextTracing.withAttributionContext(AttributionContextTracing.scala:46)\n\tat com.databricks.logging.AttributionContextTracing.withAttributionContext$(AttributionContextTracing.scala:43)\n\tat com.databricks.rpc.ServerBackend.withAttributionContext(ServerBackend.scala:22)\n\tat com.databricks.logging.AttributionContextTracing.withAttributionTags(AttributionContextTracing.scala:95)\n\tat com.databricks.logging.AttributionContextTracing.withAttributionTags$(AttributionContextTracing.scala:76)\n\tat com.databricks.rpc.ServerBackend.withAttributionTags(ServerBackend.scala:22)\n\tat com.databricks.backend.daemon.data.server.DbfsServerBackend$$anonfun$receive$4.applyOrElse(DbfsServerBackend.scala:472)\n\tat com.databricks.backend.daemon.data.server.DbfsServerBackend$$anonfun$receive$4.applyOrElse(DbfsServerBackend.scala:365)\n\tat com.databricks.rpc.ServerBackend.$anonfun$internalReceive0$2(ServerBackend.scala:174)\n\tat com.databricks.rpc.ServerBackend$$anonfun$commonReceive$1.applyOrElse(ServerBackend.scala:200)\n\tat com.databricks.rpc.ServerBackend$$anonfun$commonReceive$1.applyOrElse(ServerBackend.scala:200)\n\tat com.databricks.rpc.ServerBackend.internalReceive0(ServerBackend.scala:171)\n\tat com.databricks.rpc.ServerBackend.$anonfun$internalReceive$1(ServerBackend.scala:147)\n\tat com.databricks.logging.UsageLogging.$anonfun$recordOperation$1(UsageLogging.scala:532)\n\tat com.databricks.logging.UsageLogging.executeThunkAndCaptureResultTags$1(UsageLogging.scala:636)\n\tat com.databricks.logging.UsageLogging.$anonfun$recordOperationWithResultTags$4(UsageLogging.scala:656)\n\tat com.databricks.logging.AttributionContextTracing.$anonfun$withAttributionContext$1(AttributionContextTracing.scala:48)\n\tat com.databricks.logging.AttributionContext$.$anonfun$withValue$1(AttributionContext.scala:261)\n\tat scala.util.DynamicVariable.withValue(DynamicVariable.scala:62)\n\tat com.databricks.logging.AttributionContext$.withValue(AttributionContext.scala:257)\n\tat com.databricks.logging.AttributionContextTracing.withAttributionContext(AttributionContextTracing.scala:46)\n\tat com.databricks.logging.AttributionContextTracing.withAttributionContext$(AttributionContextTracing.scala:43)\n\tat com.databricks.rpc.ServerBackend.withAttributionContext(ServerBackend.scala:22)\n\tat com.databricks.logging.AttributionContextTracing.withAttributionTags(AttributionContextTracing.scala:95)\n\tat com.databricks.logging.AttributionContextTracing.withAttributionTags$(AttributionContextTracing.scala:76)\n\tat com.databricks.rpc.ServerBackend.withAttributionTags(ServerBackend.scala:22)\n\tat com.databricks.logging.UsageLogging.recordOperationWithResultTags(UsageLogging.scala:631)\n\tat com.databricks.logging.UsageLogging.recordOperationWithResultTags$(UsageLogging.scala:541)\n\tat com.databricks.rpc.ServerBackend.recordOperationWithResultTags(ServerBackend.scala:22)\n\tat com.databricks.logging.UsageLogging.recordOperation(UsageLogging.scala:533)\n\tat com.databricks.logging.UsageLogging.recordOperation$(UsageLogging.scala:501)\n\tat com.databricks.rpc.ServerBackend.recordOperation(ServerBackend.scala:22)\n\tat com.databricks.rpc.ServerBackend.internalReceive(ServerBackend.scala:146)\n\tat com.databricks.rpc.JettyServer$RequestManager.handleRPC(JettyServer.scala:1021)\n\tat com.databricks.rpc.JettyServer$RequestManager.handleRequestAndRespond(JettyServer.scala:942)\n\tat com.databricks.rpc.JettyServer$RequestManager.$anonfun$handleHttp$6(JettyServer.scala:546)\n\tat com.databricks.rpc.JettyServer$RequestManager.$anonfun$handleHttp$6$adapted(JettyServer.scala:515)\n\tat com.databricks.logging.activity.ActivityContextFactory$.$anonfun$withActivityInternal$6(ActivityContextFactory.scala:549)\n\tat com.databricks.logging.AttributionContextTracing.$anonfun$withAttributionContext$1(AttributionContextTracing.scala:48)\n\tat com.databricks.logging.AttributionContext$.$anonfun$withValue$1(AttributionContext.scala:261)\n\tat scala.util.DynamicVariable.withValue(DynamicVariable.scala:62)\n\tat com.databricks.logging.AttributionContext$.withValue(AttributionContext.scala:257)\n\tat com.databricks.logging.AttributionContextTracing.withAttributionContext(AttributionContextTracing.scala:46)\n\tat com.databricks.logging.AttributionContextTracing.withAttributionContext$(AttributionContextTracing.scala:43)\n\tat com.databricks.logging.activity.ActivityContextFactory$.withAttributionContext(ActivityContextFactory.scala:57)\n\tat com.databricks.logging.activity.ActivityContextFactory$.$anonfun$withActivityInternal$3(ActivityContextFactory.scala:549)\n\tat com.databricks.context.integrity.IntegrityCheckContext$ThreadLocalStorage$.withValue(IntegrityCheckContext.scala:73)\n\tat com.databricks.logging.activity.ActivityContextFactory$.withActivityInternal(ActivityContextFactory.scala:527)\n\tat com.databricks.logging.activity.ActivityContextFactory$.withServiceRequestActivity(ActivityContextFactory.scala:178)\n\tat com.databricks.rpc.JettyServer$RequestManager.handleHttp(JettyServer.scala:515)\n\tat com.databricks.rpc.JettyServer$RequestManager.doPost(JettyServer.scala:405)\n\tat javax.servlet.http.HttpServlet.service(HttpServlet.java:665)\n\tat com.databricks.rpc.HttpServletWithPatch.service(HttpServletWithPatch.scala:33)\n\tat javax.servlet.http.HttpServlet.service(HttpServlet.java:750)\n\tat org.eclipse.jetty.servlet.ServletHolder.handle(ServletHolder.java:799)\n\tat org.eclipse.jetty.servlet.ServletHandler.doHandle(ServletHandler.java:554)\n\tat org.eclipse.jetty.server.handler.ScopedHandler.nextScope(ScopedHandler.java:190)\n\tat org.eclipse.jetty.servlet.ServletHandler.doScope(ServletHandler.java:505)\n\tat org.eclipse.jetty.server.handler.ScopedHandler.handle(ScopedHandler.java:141)\n\tat org.eclipse.jetty.server.handler.HandlerWrapper.handle(HandlerWrapper.java:127)\n\tat org.eclipse.jetty.server.Server.handle(Server.java:516)\n\tat org.eclipse.jetty.server.HttpChannel.lambda$handle$1(HttpChannel.java:487)\n\tat org.eclipse.jetty.server.HttpChannel.dispatch(HttpChannel.java:732)\n\tat org.eclipse.jetty.server.HttpChannel.handle(HttpChannel.java:479)\n\tat org.eclipse.jetty.server.HttpConnection.onFillable(HttpConnection.java:277)\n\tat org.eclipse.jetty.io.AbstractConnection$ReadCallback.succeeded(AbstractConnection.java:311)\n\tat org.eclipse.jetty.io.FillInterest.fillable(FillInterest.java:105)\n\tat org.eclipse.jetty.io.ChannelEndPoint$1.run(ChannelEndPoint.java:104)\n\tat org.eclipse.jetty.util.thread.strategy.EatWhatYouKill.runTask(EatWhatYouKill.java:338)\n\tat org.eclipse.jetty.util.thread.strategy.EatWhatYouKill.doProduce(EatWhatYouKill.java:315)\n\tat org.eclipse.jetty.util.thread.strategy.EatWhatYouKill.tryProduce(EatWhatYouKill.java:173)\n\tat org.eclipse.jetty.util.thread.strategy.EatWhatYouKill.run(EatWhatYouKill.java:131)\n\tat org.eclipse.jetty.util.thread.ReservedThreadExecutor$ReservedThread.run(ReservedThreadExecutor.java:409)\n\tat com.databricks.rpc.InstrumentedQueuedThreadPool$$anon$1.$anonfun$run$2(InstrumentedQueuedThreadPool.scala:107)\n\tat scala.runtime.java8.JFunction0$mcV$sp.apply(JFunction0$mcV$sp.java:23)\n\tat com.databricks.logging.AttributionContextTracing.$anonfun$withAttributionContext$1(AttributionContextTracing.scala:48)\n\tat com.databricks.logging.AttributionContext$.$anonfun$withValue$1(AttributionContext.scala:261)\n\tat scala.util.DynamicVariable.withValue(DynamicVariable.scala:62)\n\tat com.databricks.logging.AttributionContext$.withValue(AttributionContext.scala:257)\n\tat com.databricks.logging.AttributionContextTracing.withAttributionContext(AttributionContextTracing.scala:46)\n\tat com.databricks.logging.AttributionContextTracing.withAttributionContext$(AttributionContextTracing.scala:43)\n\tat com.databricks.rpc.InstrumentedQueuedThreadPool.withAttributionContext(InstrumentedQueuedThreadPool.scala:46)\n\tat com.databricks.rpc.InstrumentedQueuedThreadPool$$anon$1.$anonfun$run$1(InstrumentedQueuedThreadPool.scala:107)\n\tat scala.runtime.java8.JFunction0$mcV$sp.apply(JFunction0$mcV$sp.java:23)\n\tat com.databricks.instrumentation.QueuedThreadPoolInstrumenter.trackActiveThreads(QueuedThreadPoolInstrumenter.scala:110)\n\tat com.databricks.instrumentation.QueuedThreadPoolInstrumenter.trackActiveThreads$(QueuedThreadPoolInstrumenter.scala:107)\n\tat com.databricks.rpc.InstrumentedQueuedThreadPool.trackActiveThreads(InstrumentedQueuedThreadPool.scala:46)\n\tat com.databricks.rpc.InstrumentedQueuedThreadPool$$anon$1.run(InstrumentedQueuedThreadPool.scala:89)\n\tat org.eclipse.jetty.util.thread.QueuedThreadPool.runJob(QueuedThreadPool.java:883)\n\tat org.eclipse.jetty.util.thread.QueuedThreadPool$Runner.run(QueuedThreadPool.java:1034)\n\tat java.lang.Thread.run(Thread.java:840)\n"
       ],
       "type": "baseError"
      }
     },
     "output_type": "display_data"
    }
   ],
   "source": [
    "configs = {\"fs.azure.account.auth.type\": \"OAuth\",\n",
    "\"fs.azure.account.oauth.provider.type\": \"org.apache.hadoop.fs.azurebfs.oauth2.ClientCredsTokenProvider\",\n",
    "\"fs.azure.account.oauth2.client.id\": \"\",\n",
    "\"fs.azure.account.oauth2.client.secret\": '',\n",
    "\"fs.azure.account.oauth2.client.endpoint\": \"https://login.microsoftonline.com/14b80cc0-d1ee-4b7b-ae6e-36c9e1255d03/oauth2/token\"}\n",
    "\n",
    "\n",
    "\n",
    "dbutils.fs.mount(\n",
    "source = \"abfss://data@icct20data.dfs.core.windows.net\", # contrainer@storageacc\n",
    "mount_point = \"/mnt/icc\",\n",
    "extra_configs = configs)\n",
    "  \n",
    "\n",
    "\n"
   ]
  },
  {
   "cell_type": "code",
   "execution_count": null,
   "metadata": {
    "application/vnd.databricks.v1+cell": {
     "cellMetadata": {
      "byteLimit": 2048000,
      "rowLimit": 10000
     },
     "inputWidgets": {},
     "nuid": "600e67c3-89f2-4bca-9a43-e9805cb090ce",
     "showTitle": false,
     "title": ""
    }
   },
   "outputs": [
    {
     "data": {
      "text/html": [
       "<style scoped>\n",
       "  .table-result-container {\n",
       "    max-height: 300px;\n",
       "    overflow: auto;\n",
       "  }\n",
       "  table, th, td {\n",
       "    border: 1px solid black;\n",
       "    border-collapse: collapse;\n",
       "  }\n",
       "  th, td {\n",
       "    padding: 5px;\n",
       "  }\n",
       "  th {\n",
       "    text-align: left;\n",
       "  }\n",
       "</style><div class='table-result-container'><table class='table-result'><thead style='background-color: white'><tr><th>path</th><th>name</th><th>size</th><th>modificationTime</th></tr></thead><tbody><tr><td>dbfs:/mnt/icc/raw-data/</td><td>raw-data/</td><td>0</td><td>1720016962000</td></tr><tr><td>dbfs:/mnt/icc/transformed-data/</td><td>transformed-data/</td><td>0</td><td>1720016983000</td></tr></tbody></table></div>"
      ]
     },
     "metadata": {
      "application/vnd.databricks.v1+output": {
       "addedWidgets": {},
       "aggData": [],
       "aggError": "",
       "aggOverflow": false,
       "aggSchema": [],
       "aggSeriesLimitReached": false,
       "aggType": "",
       "arguments": {},
       "columnCustomDisplayInfos": {},
       "data": [
        [
         "dbfs:/mnt/icc/raw-data/",
         "raw-data/",
         0,
         1720016962000
        ],
        [
         "dbfs:/mnt/icc/transformed-data/",
         "transformed-data/",
         0,
         1720016983000
        ]
       ],
       "datasetInfos": [],
       "dbfsResultPath": null,
       "isJsonSchema": true,
       "metadata": {
        "isDbfsCommandResult": false
       },
       "overflow": false,
       "plotOptions": {
        "customPlotOptions": {},
        "displayType": "table",
        "pivotAggregation": null,
        "pivotColumns": null,
        "xColumns": null,
        "yColumns": null
       },
       "removedWidgets": [],
       "schema": [
        {
         "metadata": "{}",
         "name": "path",
         "type": "\"string\""
        },
        {
         "metadata": "{}",
         "name": "name",
         "type": "\"string\""
        },
        {
         "metadata": "{}",
         "name": "size",
         "type": "\"long\""
        },
        {
         "metadata": "{}",
         "name": "modificationTime",
         "type": "\"long\""
        }
       ],
       "type": "table"
      }
     },
     "output_type": "display_data"
    }
   ],
   "source": [
    "%fs\n",
    "ls \"mnt/icc\""
   ]
  },
  {
   "cell_type": "code",
   "execution_count": null,
   "metadata": {
    "application/vnd.databricks.v1+cell": {
     "cellMetadata": {
      "byteLimit": 2048000,
      "rowLimit": 10000
     },
     "inputWidgets": {},
     "nuid": "fa71eac6-0375-4c9a-95e9-712de39ace5f",
     "showTitle": false,
     "title": ""
    }
   },
   "outputs": [
    {
     "data": {
      "text/html": [
       "\n",
       "            <div>\n",
       "                <p><b>SparkSession - hive</b></p>\n",
       "                \n",
       "        <div>\n",
       "            <p><b>SparkContext</b></p>\n",
       "\n",
       "            <p><a href=\"/?o=3883628681643216#setting/sparkui/0703-150218-y0ulkqx6/driver-158457648215239880\">Spark UI</a></p>\n",
       "\n",
       "            <dl>\n",
       "              <dt>Version</dt>\n",
       "                <dd><code>v3.5.0</code></dd>\n",
       "              <dt>Master</dt>\n",
       "                <dd><code>local[*, 4]</code></dd>\n",
       "              <dt>AppName</dt>\n",
       "                <dd><code>Databricks Shell</code></dd>\n",
       "            </dl>\n",
       "        </div>\n",
       "        \n",
       "            </div>\n",
       "        "
      ],
      "text/plain": [
       "<pyspark.sql.session.SparkSession at 0x7f9e0c805990>"
      ]
     },
     "execution_count": 69,
     "metadata": {},
     "output_type": "execute_result"
    }
   ],
   "source": [
    "spark"
   ]
  },
  {
   "cell_type": "code",
   "execution_count": null,
   "metadata": {
    "application/vnd.databricks.v1+cell": {
     "cellMetadata": {
      "byteLimit": 2048000,
      "rowLimit": 10000
     },
     "inputWidgets": {},
     "nuid": "40072be7-03f8-43cf-a70a-24f6616de832",
     "showTitle": false,
     "title": ""
    }
   },
   "outputs": [],
   "source": [
    "matches = spark.read.format(\"csv\").option('header', 'true').load(\"/mnt/icc/raw-data/matches.csv\")\n",
    "deliveries = spark.read.format(\"csv\").option('header', 'true').load(\"/mnt/icc/raw-data/deliveries.csv\")"
   ]
  },
  {
   "cell_type": "code",
   "execution_count": null,
   "metadata": {
    "application/vnd.databricks.v1+cell": {
     "cellMetadata": {
      "byteLimit": 2048000,
      "rowLimit": 10000
     },
     "inputWidgets": {},
     "nuid": "aab1c27a-2e8b-4541-8742-cc858f40a382",
     "showTitle": false,
     "title": ""
    }
   },
   "outputs": [
    {
     "name": "stdout",
     "output_type": "stream",
     "text": [
      "+------+----------------+--------------------+----------+------------+--------------------+-----------+--------------------+-------------+------------------+----------------+----------------+---------------+-------------+--------------------+-----------+--------------+----------+\n",
      "|season|           team1|               team2|      date|match_number|               venue|       city|         toss_winner|toss_decision|   player_of_match|         umpire1|         umpire2| reserve_umpire|match_referee|              winner|winner_runs|winner_wickets|match_type|\n",
      "+------+----------------+--------------------+----------+------------+--------------------+-----------+--------------------+-------------+------------------+----------------+----------------+---------------+-------------+--------------------+-----------+--------------+----------+\n",
      "|  2024|          Canada|United States of ...|2024/06/01|           1|Grand Prairie Sta...|     Dallas|United States of ...|        field|       Aaron Jones|  RK Illingworth|    Sharfuddoula|       L Rusere|RB Richardson|United States of ...|       NULL|             7|     Group|\n",
      "|  2024|Papua New Guinea|         West Indies|2024/06/02|           2|  Providence Stadium| Providence|         West Indies|        field|          RL Chase|    AT Holdstock|     Rashid Riaz|HDPK Dharmasena|   AJ Pycroft|         West Indies|       NULL|             5|     Group|\n",
      "|  2024|            Oman|             Namibia|2024/06/02|           3|     Kensington Oval| Bridgetown|             Namibia|        field|           D Wiese|   J Madanagopal|       JS Wilson|    Asif Yaqoob| RS Madugalle|                NULL|       NULL|          NULL|     Group|\n",
      "|  2024|       Sri Lanka|        South Africa|2024/06/03|           4|Nassau County Int...|   New York|           Sri Lanka|          bat|          A Nortje|        CM Brown|RA Kettleborough|       AG Wharf|     JJ Crowe|        South Africa|       NULL|             6|     Group|\n",
      "|  2024|     Afghanistan|              Uganda|2024/06/03|           5|  Providence Stadium| Providence|              Uganda|        field|  Fazalhaq Farooqi|      Ahsan Raza| HDPK Dharmasena|    Rashid Riaz|   AJ Pycroft|         Afghanistan|        125|          NULL|     Group|\n",
      "|  2024|        Scotland|             England|2024/06/04|           6|     Kensington Oval| Bridgetown|            Scotland|          bat|              NULL|     Asif Yaqoob|     Nitin Menon|  J Madanagopal| RS Madugalle|           No Result|       NULL|          NULL|     Group|\n",
      "|  2024|           Nepal|         Netherlands|2024/06/04|           7|Grand Prairie Sta...|     Dallas|         Netherlands|        field|       TJG Pringle|        L Rusere|       RJ Tucker| RK Illingworth|RB Richardson|         Netherlands|       NULL|             6|     Group|\n",
      "|  2024|         Ireland|               India|2024/06/05|           8|Nassau County Int...|   New York|               India|        field|         JJ Bumrah|        AG Wharf|     CB Gaffaney|       CM Brown|      DC Boon|               India|       NULL|             8|     Group|\n",
      "|  2024|Papua New Guinea|              Uganda|2024/06/05|           9|  Providence Stadium| Providence|              Uganda|        field|   Riazat Ali Shah|    AT Holdstock|     Rashid Riaz|HDPK Dharmasena|    J Srinath|              Uganda|       NULL|             3|     Group|\n",
      "|  2024|       Australia|                Oman|2024/06/05|          10|     Kensington Oval| Bridgetown|                Oman|        field|        MP Stoinis|     Asif Yaqoob|       JS Wilson|    Nitin Menon| RS Madugalle|           Australia|         39|          NULL|     Group|\n",
      "|  2024|        Pakistan|United States of ...|2024/06/06|          11|Grand Prairie Sta...|     Dallas|United States of ...|        field|          MD Patel|       A Paleker|        MA Gough|      RJ Tucker|     JJ Crowe|                NULL|       NULL|          NULL|     Group|\n",
      "|  2024|         Namibia|            Scotland|2024/06/06|          12|     Kensington Oval| Bridgetown|             Namibia|          bat|          MA Leask|   J Madanagopal|     Nitin Menon|      JS Wilson|   AJ Pycroft|            Scotland|       NULL|             5|     Group|\n",
      "|  2024|          Canada|             Ireland|2024/06/07|          13|Nassau County Int...|   New York|             Ireland|        field|         NR Kirton|RA Kettleborough|     SJ Nogajski|    CB Gaffaney|RB Richardson|              Canada|         12|          NULL|     Group|\n",
      "|  2024|     Afghanistan|         New Zealand|2024/06/07|          14|  Providence Stadium| Providence|         New Zealand|        field|Rahmanullah Gurbaz|      Ahsan Raza| HDPK Dharmasena|   AT Holdstock|    J Srinath|         Afghanistan|         84|          NULL|     Group|\n",
      "|  2024|       Sri Lanka|          Bangladesh|2024/06/07|          15|Grand Prairie Sta...|     Dallas|          Bangladesh|        field|    Rishad Hossain|        MA Gough|      PR Reiffel|      RJ Tucker|     JJ Crowe|          Bangladesh|       NULL|             2|     Group|\n",
      "|  2024|     Netherlands|        South Africa|2024/06/08|          16|Nassau County Int...|   New York|        South Africa|        field|         DA Miller|     CB Gaffaney|    Sharfuddoula|    SJ Nogajski|      DC Boon|        South Africa|       NULL|             4|     Group|\n",
      "|  2024|       Australia|             England|2024/06/08|          17|     Kensington Oval| Bridgetown|             England|        field|           A Zampa|       JS Wilson|     Nitin Menon|  J Madanagopal|   AJ Pycroft|           Australia|         36|          NULL|     Group|\n",
      "|  2024|     West Indies|              Uganda|2024/06/08|          18|  Providence Stadium| Providence|         West Indies|          bat|         AJ Hosein| HDPK Dharmasena|     Rashid Riaz|     Ahsan Raza|    J Srinath|         West Indies|        134|          NULL|     Group|\n",
      "|  2024|           India|            Pakistan|2024/06/09|          19|Nassau County Int...|   New York|            Pakistan|        field|         JJ Bumrah|  RK Illingworth|       RJ Tucker|   Sharfuddoula|      DC Boon|               India|          6|          NULL|     Group|\n",
      "|  2024|            Oman|            Scotland|2024/06/09|          20|Sir Vivian Richar...|North Sound|                Oman|          bat|       BJ McMullen|       A Paleker|        CM Brown|       AG Wharf|RB Richardson|            Scotland|       NULL|             7|     Group|\n",
      "+------+----------------+--------------------+----------+------------+--------------------+-----------+--------------------+-------------+------------------+----------------+----------------+---------------+-------------+--------------------+-----------+--------------+----------+\n",
      "only showing top 20 rows\n",
      "\n"
     ]
    }
   ],
   "source": [
    "matches.show()"
   ]
  },
  {
   "cell_type": "code",
   "execution_count": null,
   "metadata": {
    "application/vnd.databricks.v1+cell": {
     "cellMetadata": {
      "byteLimit": 2048000,
      "rowLimit": 10000
     },
     "inputWidgets": {},
     "nuid": "66fbcb42-dd9b-4746-abeb-763c9e9ae3dd",
     "showTitle": false,
     "title": ""
    }
   },
   "outputs": [
    {
     "name": "stdout",
     "output_type": "stream",
     "text": [
      "+--------+------+----------+--------------------+-------+----+----------------+------------+-------+-----------+----------+------------+------+-----+-------+----+-------+-------+-----------+----------------+-----------------+----------------------+\n",
      "|match_id|season|start_date|               venue|innings|ball|    batting_team|bowling_team|striker|non_striker|    bowler|runs_off_bat|extras|wides|noballs|byes|legbyes|penalty|wicket_type|player_dismissed|other_wicket_type|other_player_dismissed|\n",
      "+--------+------+----------+--------------------+-------+----+----------------+------------+-------+-----------+----------+------------+------+-----+-------+----+-------+-------+-----------+----------------+-----------------+----------------------+\n",
      "|       1|  2024|2024-06-02|Providence Stadiu...|      1| 0.1|Papua New Guinea| West Indies| TP Ura|     A Vala| AJ Hosein|           0|     0| NULL|   NULL|NULL|   NULL|   NULL|       NULL|            NULL|             NULL|                  NULL|\n",
      "|       1|  2024|2024-06-02|Providence Stadiu...|      1| 0.2|Papua New Guinea| West Indies| TP Ura|     A Vala| AJ Hosein|           1|     0| NULL|   NULL|NULL|   NULL|   NULL|       NULL|            NULL|             NULL|                  NULL|\n",
      "|       1|  2024|2024-06-02|Providence Stadiu...|      1| 0.3|Papua New Guinea| West Indies| A Vala|     TP Ura| AJ Hosein|           0|     0| NULL|   NULL|NULL|   NULL|   NULL|       NULL|            NULL|             NULL|                  NULL|\n",
      "|       1|  2024|2024-06-02|Providence Stadiu...|      1| 0.4|Papua New Guinea| West Indies| A Vala|     TP Ura| AJ Hosein|           0|     0| NULL|   NULL|NULL|   NULL|   NULL|       NULL|            NULL|             NULL|                  NULL|\n",
      "|       1|  2024|2024-06-02|Providence Stadiu...|      1| 0.5|Papua New Guinea| West Indies| A Vala|     TP Ura| AJ Hosein|           0|     0| NULL|   NULL|NULL|   NULL|   NULL|       NULL|            NULL|             NULL|                  NULL|\n",
      "|       1|  2024|2024-06-02|Providence Stadiu...|      1| 0.6|Papua New Guinea| West Indies| A Vala|     TP Ura| AJ Hosein|           0|     0| NULL|   NULL|NULL|   NULL|   NULL|       NULL|            NULL|             NULL|                  NULL|\n",
      "|       1|  2024|2024-06-02|Providence Stadiu...|      1| 1.1|Papua New Guinea| West Indies| TP Ura|     A Vala|R Shepherd|           1|     0| NULL|   NULL|NULL|   NULL|   NULL|       NULL|            NULL|             NULL|                  NULL|\n",
      "|       1|  2024|2024-06-02|Providence Stadiu...|      1| 1.2|Papua New Guinea| West Indies| A Vala|     TP Ura|R Shepherd|           0|     0| NULL|   NULL|NULL|   NULL|   NULL|       NULL|            NULL|             NULL|                  NULL|\n",
      "|       1|  2024|2024-06-02|Providence Stadiu...|      1| 1.3|Papua New Guinea| West Indies| A Vala|     TP Ura|R Shepherd|           3|     0| NULL|   NULL|NULL|   NULL|   NULL|       NULL|            NULL|             NULL|                  NULL|\n",
      "|       1|  2024|2024-06-02|Providence Stadiu...|      1| 1.4|Papua New Guinea| West Indies| TP Ura|     A Vala|R Shepherd|           0|     0| NULL|   NULL|NULL|   NULL|   NULL|       NULL|            NULL|             NULL|                  NULL|\n",
      "|       1|  2024|2024-06-02|Providence Stadiu...|      1| 1.5|Papua New Guinea| West Indies| TP Ura|     A Vala|R Shepherd|           0|     0| NULL|   NULL|NULL|   NULL|   NULL|     caught|          TP Ura|             NULL|                  NULL|\n",
      "|       1|  2024|2024-06-02|Providence Stadiu...|      1| 1.6|Papua New Guinea| West Indies|L Siaka|     A Vala|R Shepherd|           0|     1|  1.0|   NULL|NULL|   NULL|   NULL|       NULL|            NULL|             NULL|                  NULL|\n",
      "|       1|  2024|2024-06-02|Providence Stadiu...|      1| 1.7|Papua New Guinea| West Indies|L Siaka|     A Vala|R Shepherd|           1|     0| NULL|   NULL|NULL|   NULL|   NULL|       NULL|            NULL|             NULL|                  NULL|\n",
      "|       1|  2024|2024-06-02|Providence Stadiu...|      1| 2.1|Papua New Guinea| West Indies|L Siaka|     A Vala| AJ Hosein|           0|     0| NULL|   NULL|NULL|   NULL|   NULL|     bowled|         L Siaka|             NULL|                  NULL|\n",
      "|       1|  2024|2024-06-02|Providence Stadiu...|      1| 2.2|Papua New Guinea| West Indies|  S Bau|     A Vala| AJ Hosein|           1|     0| NULL|   NULL|NULL|   NULL|   NULL|       NULL|            NULL|             NULL|                  NULL|\n",
      "|       1|  2024|2024-06-02|Providence Stadiu...|      1| 2.3|Papua New Guinea| West Indies| A Vala|      S Bau| AJ Hosein|           0|     0| NULL|   NULL|NULL|   NULL|   NULL|       NULL|            NULL|             NULL|                  NULL|\n",
      "|       1|  2024|2024-06-02|Providence Stadiu...|      1| 2.4|Papua New Guinea| West Indies| A Vala|      S Bau| AJ Hosein|           0|     0| NULL|   NULL|NULL|   NULL|   NULL|       NULL|            NULL|             NULL|                  NULL|\n",
      "|       1|  2024|2024-06-02|Providence Stadiu...|      1| 2.5|Papua New Guinea| West Indies| A Vala|      S Bau| AJ Hosein|           0|     0| NULL|   NULL|NULL|   NULL|   NULL|       NULL|            NULL|             NULL|                  NULL|\n",
      "|       1|  2024|2024-06-02|Providence Stadiu...|      1| 2.6|Papua New Guinea| West Indies| A Vala|      S Bau| AJ Hosein|           2|     0| NULL|   NULL|NULL|   NULL|   NULL|       NULL|            NULL|             NULL|                  NULL|\n",
      "|       1|  2024|2024-06-02|Providence Stadiu...|      1| 3.1|Papua New Guinea| West Indies|  S Bau|     A Vala|AD Russell|           0|     0| NULL|   NULL|NULL|   NULL|   NULL|       NULL|            NULL|             NULL|                  NULL|\n",
      "+--------+------+----------+--------------------+-------+----+----------------+------------+-------+-----------+----------+------------+------+-----+-------+----+-------+-------+-----------+----------------+-----------------+----------------------+\n",
      "only showing top 20 rows\n",
      "\n"
     ]
    }
   ],
   "source": [
    "deliveries.show()"
   ]
  },
  {
   "cell_type": "code",
   "execution_count": null,
   "metadata": {
    "application/vnd.databricks.v1+cell": {
     "cellMetadata": {
      "byteLimit": 2048000,
      "rowLimit": 10000
     },
     "inputWidgets": {},
     "nuid": "51c2f9ba-1e3d-4dd0-be48-965d535f6414",
     "showTitle": false,
     "title": ""
    }
   },
   "outputs": [
    {
     "name": "stdout",
     "output_type": "stream",
     "text": [
      "root\n",
      " |-- season: string (nullable = true)\n",
      " |-- team1: string (nullable = true)\n",
      " |-- team2: string (nullable = true)\n",
      " |-- date: string (nullable = true)\n",
      " |-- match_number: string (nullable = true)\n",
      " |-- venue: string (nullable = true)\n",
      " |-- city: string (nullable = true)\n",
      " |-- toss_winner: string (nullable = true)\n",
      " |-- toss_decision: string (nullable = true)\n",
      " |-- player_of_match: string (nullable = true)\n",
      " |-- umpire1: string (nullable = true)\n",
      " |-- umpire2: string (nullable = true)\n",
      " |-- reserve_umpire: string (nullable = true)\n",
      " |-- match_referee: string (nullable = true)\n",
      " |-- winner: string (nullable = true)\n",
      " |-- winner_runs: string (nullable = true)\n",
      " |-- winner_wickets: string (nullable = true)\n",
      " |-- match_type: string (nullable = true)\n",
      "\n"
     ]
    }
   ],
   "source": [
    "matches.printSchema()"
   ]
  },
  {
   "cell_type": "code",
   "execution_count": null,
   "metadata": {
    "application/vnd.databricks.v1+cell": {
     "cellMetadata": {
      "byteLimit": 2048000,
      "rowLimit": 10000
     },
     "inputWidgets": {},
     "nuid": "bf79383c-8a30-4f5b-b28b-fdcc30602536",
     "showTitle": false,
     "title": ""
    }
   },
   "outputs": [],
   "source": [
    "from pyspark.sql.functions import col\n",
    "from pyspark.sql.types import IntegerType"
   ]
  },
  {
   "cell_type": "code",
   "execution_count": null,
   "metadata": {
    "application/vnd.databricks.v1+cell": {
     "cellMetadata": {
      "byteLimit": 2048000,
      "rowLimit": 10000
     },
     "inputWidgets": {},
     "nuid": "ed43d45a-2d7d-47f5-8402-b8ef89309b39",
     "showTitle": false,
     "title": ""
    }
   },
   "outputs": [],
   "source": [
    "matches = matches.withColumn(\"season\", col(\"season\").cast(IntegerType())) \\\n",
    "    .withColumn(\"match_number\", col(\"match_number\").cast(IntegerType())) \\\n",
    "    .withColumn(\"winner_runs\", col(\"winner_runs\").cast(IntegerType())) \\\n",
    "    .withColumn(\"winner_wickets\", col(\"winner_wickets\").cast(IntegerType()))"
   ]
  },
  {
   "cell_type": "code",
   "execution_count": null,
   "metadata": {
    "application/vnd.databricks.v1+cell": {
     "cellMetadata": {
      "byteLimit": 2048000,
      "rowLimit": 10000
     },
     "inputWidgets": {},
     "nuid": "7536fe84-5a3f-4527-9ec8-0941ab5f586f",
     "showTitle": false,
     "title": ""
    }
   },
   "outputs": [
    {
     "name": "stdout",
     "output_type": "stream",
     "text": [
      "root\n",
      " |-- season: integer (nullable = true)\n",
      " |-- team1: string (nullable = true)\n",
      " |-- team2: string (nullable = true)\n",
      " |-- date: string (nullable = true)\n",
      " |-- match_number: integer (nullable = true)\n",
      " |-- venue: string (nullable = true)\n",
      " |-- city: string (nullable = true)\n",
      " |-- toss_winner: string (nullable = true)\n",
      " |-- toss_decision: string (nullable = true)\n",
      " |-- player_of_match: string (nullable = true)\n",
      " |-- umpire1: string (nullable = true)\n",
      " |-- umpire2: string (nullable = true)\n",
      " |-- reserve_umpire: string (nullable = true)\n",
      " |-- match_referee: string (nullable = true)\n",
      " |-- winner: string (nullable = true)\n",
      " |-- winner_runs: integer (nullable = true)\n",
      " |-- winner_wickets: integer (nullable = true)\n",
      " |-- match_type: string (nullable = true)\n",
      "\n"
     ]
    }
   ],
   "source": [
    "matches.printSchema()"
   ]
  },
  {
   "cell_type": "code",
   "execution_count": null,
   "metadata": {
    "application/vnd.databricks.v1+cell": {
     "cellMetadata": {
      "byteLimit": 2048000,
      "rowLimit": 10000
     },
     "inputWidgets": {},
     "nuid": "b0a4f376-1275-43e1-99c3-08a3e69638a7",
     "showTitle": false,
     "title": ""
    }
   },
   "outputs": [
    {
     "name": "stdout",
     "output_type": "stream",
     "text": [
      "root\n",
      " |-- match_id: string (nullable = true)\n",
      " |-- season: string (nullable = true)\n",
      " |-- start_date: string (nullable = true)\n",
      " |-- venue: string (nullable = true)\n",
      " |-- innings: string (nullable = true)\n",
      " |-- ball: string (nullable = true)\n",
      " |-- batting_team: string (nullable = true)\n",
      " |-- bowling_team: string (nullable = true)\n",
      " |-- striker: string (nullable = true)\n",
      " |-- non_striker: string (nullable = true)\n",
      " |-- bowler: string (nullable = true)\n",
      " |-- runs_off_bat: string (nullable = true)\n",
      " |-- extras: string (nullable = true)\n",
      " |-- wides: string (nullable = true)\n",
      " |-- noballs: string (nullable = true)\n",
      " |-- byes: string (nullable = true)\n",
      " |-- legbyes: string (nullable = true)\n",
      " |-- penalty: string (nullable = true)\n",
      " |-- wicket_type: string (nullable = true)\n",
      " |-- player_dismissed: string (nullable = true)\n",
      " |-- other_wicket_type: string (nullable = true)\n",
      " |-- other_player_dismissed: string (nullable = true)\n",
      "\n"
     ]
    }
   ],
   "source": [
    "deliveries.printSchema()"
   ]
  },
  {
   "cell_type": "code",
   "execution_count": null,
   "metadata": {
    "application/vnd.databricks.v1+cell": {
     "cellMetadata": {
      "byteLimit": 2048000,
      "rowLimit": 10000
     },
     "inputWidgets": {},
     "nuid": "effcd664-8417-44ee-8ac8-c0b584ea31f0",
     "showTitle": false,
     "title": ""
    }
   },
   "outputs": [],
   "source": [
    "deliveries = deliveries.withColumn(\"match_id\", col(\"match_id\").cast(IntegerType())) \\\n",
    "    .withColumn(\"season\", col(\"season\").cast(IntegerType())) \\\n",
    "    .withColumn(\"innings\", col(\"innings\").cast(IntegerType())) \\\n",
    "    .withColumn(\"ball\", col(\"ball\").cast(IntegerType())) \\\n",
    "    .withColumn(\"runs_off_bat\", col(\"runs_off_bat\").cast(IntegerType())) \\\n",
    "    .withColumn(\"extras\", col(\"extras\").cast(IntegerType())) \\\n",
    "    .withColumn(\"wides\", col(\"wides\").cast(IntegerType())) \\\n",
    "    .withColumn(\"noballs\", col(\"noballs\").cast(IntegerType())) \\\n",
    "    .withColumn(\"byes\", col(\"byes\").cast(IntegerType())) \\\n",
    "    .withColumn(\"legbyes\", col(\"legbyes\").cast(IntegerType())) "
   ]
  },
  {
   "cell_type": "code",
   "execution_count": null,
   "metadata": {
    "application/vnd.databricks.v1+cell": {
     "cellMetadata": {
      "byteLimit": 2048000,
      "rowLimit": 10000
     },
     "inputWidgets": {},
     "nuid": "b032075d-3157-4cc6-8055-e0e5a5f6526a",
     "showTitle": false,
     "title": ""
    }
   },
   "outputs": [
    {
     "name": "stdout",
     "output_type": "stream",
     "text": [
      "root\n",
      " |-- match_id: integer (nullable = true)\n",
      " |-- season: integer (nullable = true)\n",
      " |-- start_date: string (nullable = true)\n",
      " |-- venue: string (nullable = true)\n",
      " |-- innings: integer (nullable = true)\n",
      " |-- ball: integer (nullable = true)\n",
      " |-- batting_team: string (nullable = true)\n",
      " |-- bowling_team: string (nullable = true)\n",
      " |-- striker: string (nullable = true)\n",
      " |-- non_striker: string (nullable = true)\n",
      " |-- bowler: string (nullable = true)\n",
      " |-- runs_off_bat: integer (nullable = true)\n",
      " |-- extras: integer (nullable = true)\n",
      " |-- wides: integer (nullable = true)\n",
      " |-- noballs: integer (nullable = true)\n",
      " |-- byes: integer (nullable = true)\n",
      " |-- legbyes: integer (nullable = true)\n",
      " |-- penalty: string (nullable = true)\n",
      " |-- wicket_type: string (nullable = true)\n",
      " |-- player_dismissed: string (nullable = true)\n",
      " |-- other_wicket_type: string (nullable = true)\n",
      " |-- other_player_dismissed: string (nullable = true)\n",
      "\n"
     ]
    }
   ],
   "source": [
    "deliveries.printSchema()"
   ]
  },
  {
   "cell_type": "code",
   "execution_count": null,
   "metadata": {
    "application/vnd.databricks.v1+cell": {
     "cellMetadata": {
      "byteLimit": 2048000,
      "rowLimit": 10000
     },
     "inputWidgets": {},
     "nuid": "ed547848-27ce-4b21-941d-19196e14033f",
     "showTitle": false,
     "title": ""
    }
   },
   "outputs": [],
   "source": [
    "matches.createOrReplaceTempView('match')\n",
    "deliveries.createOrReplaceTempView('deliver')"
   ]
  },
  {
   "cell_type": "code",
   "execution_count": null,
   "metadata": {
    "application/vnd.databricks.v1+cell": {
     "cellMetadata": {
      "byteLimit": 2048000,
      "rowLimit": 10000
     },
     "inputWidgets": {},
     "nuid": "a8ae2563-1878-4bea-9e49-80ad219dc39a",
     "showTitle": false,
     "title": ""
    }
   },
   "outputs": [],
   "source": [
    "from pyspark.sql import SparkSession"
   ]
  },
  {
   "cell_type": "code",
   "execution_count": null,
   "metadata": {
    "application/vnd.databricks.v1+cell": {
     "cellMetadata": {
      "byteLimit": 2048000,
      "rowLimit": 10000
     },
     "inputWidgets": {},
     "nuid": "bf47a226-b0d2-4cac-b7b3-99e1c65d8a96",
     "showTitle": false,
     "title": ""
    }
   },
   "outputs": [],
   "source": [
    "spark = SparkSession.builder.appName(\"Cricket Analysis\").getOrCreate()"
   ]
  },
  {
   "cell_type": "code",
   "execution_count": null,
   "metadata": {
    "application/vnd.databricks.v1+cell": {
     "cellMetadata": {
      "byteLimit": 2048000,
      "rowLimit": 10000
     },
     "inputWidgets": {},
     "nuid": "a403e924-b052-4408-a411-7dc3e581c67a",
     "showTitle": false,
     "title": ""
    }
   },
   "outputs": [
    {
     "data": {
      "text/html": [
       "<style scoped>\n",
       "  .table-result-container {\n",
       "    max-height: 300px;\n",
       "    overflow: auto;\n",
       "  }\n",
       "  table, th, td {\n",
       "    border: 1px solid black;\n",
       "    border-collapse: collapse;\n",
       "  }\n",
       "  th, td {\n",
       "    padding: 5px;\n",
       "  }\n",
       "  th {\n",
       "    text-align: left;\n",
       "  }\n",
       "</style><div class='table-result-container'><table class='table-result'><thead style='background-color: white'><tr><th>season</th><th>team1</th><th>team2</th><th>date</th><th>match_number</th><th>venue</th><th>city</th><th>toss_winner</th><th>toss_decision</th><th>player_of_match</th><th>umpire1</th><th>umpire2</th><th>reserve_umpire</th><th>match_referee</th><th>winner</th><th>winner_runs</th><th>winner_wickets</th><th>match_type</th></tr></thead><tbody><tr><td>2024</td><td>Scotland</td><td>England</td><td>2024/06/04</td><td>6</td><td>Kensington Oval</td><td>Bridgetown</td><td>Scotland</td><td>bat</td><td>null</td><td>Asif Yaqoob</td><td>Nitin Menon</td><td>J Madanagopal</td><td>RS Madugalle</td><td>No Result</td><td>null</td><td>null</td><td>Group</td></tr></tbody></table></div>"
      ]
     },
     "metadata": {
      "application/vnd.databricks.v1+output": {
       "addedWidgets": {},
       "aggData": [],
       "aggError": "",
       "aggOverflow": false,
       "aggSchema": [],
       "aggSeriesLimitReached": false,
       "aggType": "",
       "arguments": {},
       "columnCustomDisplayInfos": {},
       "data": [
        [
         2024,
         "Scotland",
         "England",
         "2024/06/04",
         6,
         "Kensington Oval",
         "Bridgetown",
         "Scotland",
         "bat",
         null,
         "Asif Yaqoob",
         "Nitin Menon",
         "J Madanagopal",
         "RS Madugalle",
         "No Result",
         null,
         null,
         "Group"
        ]
       ],
       "datasetInfos": [],
       "dbfsResultPath": null,
       "isJsonSchema": true,
       "metadata": {},
       "overflow": false,
       "plotOptions": {
        "customPlotOptions": {},
        "displayType": "table",
        "pivotAggregation": null,
        "pivotColumns": null,
        "xColumns": null,
        "yColumns": null
       },
       "removedWidgets": [],
       "schema": [
        {
         "metadata": "{}",
         "name": "season",
         "type": "\"integer\""
        },
        {
         "metadata": "{}",
         "name": "team1",
         "type": "\"string\""
        },
        {
         "metadata": "{}",
         "name": "team2",
         "type": "\"string\""
        },
        {
         "metadata": "{}",
         "name": "date",
         "type": "\"string\""
        },
        {
         "metadata": "{}",
         "name": "match_number",
         "type": "\"integer\""
        },
        {
         "metadata": "{}",
         "name": "venue",
         "type": "\"string\""
        },
        {
         "metadata": "{}",
         "name": "city",
         "type": "\"string\""
        },
        {
         "metadata": "{}",
         "name": "toss_winner",
         "type": "\"string\""
        },
        {
         "metadata": "{}",
         "name": "toss_decision",
         "type": "\"string\""
        },
        {
         "metadata": "{}",
         "name": "player_of_match",
         "type": "\"string\""
        },
        {
         "metadata": "{}",
         "name": "umpire1",
         "type": "\"string\""
        },
        {
         "metadata": "{}",
         "name": "umpire2",
         "type": "\"string\""
        },
        {
         "metadata": "{}",
         "name": "reserve_umpire",
         "type": "\"string\""
        },
        {
         "metadata": "{}",
         "name": "match_referee",
         "type": "\"string\""
        },
        {
         "metadata": "{}",
         "name": "winner",
         "type": "\"string\""
        },
        {
         "metadata": "{}",
         "name": "winner_runs",
         "type": "\"integer\""
        },
        {
         "metadata": "{}",
         "name": "winner_wickets",
         "type": "\"integer\""
        },
        {
         "metadata": "{}",
         "name": "match_type",
         "type": "\"string\""
        }
       ],
       "type": "table"
      }
     },
     "output_type": "display_data"
    },
    {
     "data": {
      "text/html": [
       "<style scoped>\n",
       "  .table-result-container {\n",
       "    max-height: 300px;\n",
       "    overflow: auto;\n",
       "  }\n",
       "  table, th, td {\n",
       "    border: 1px solid black;\n",
       "    border-collapse: collapse;\n",
       "  }\n",
       "  th, td {\n",
       "    padding: 5px;\n",
       "  }\n",
       "  th {\n",
       "    text-align: left;\n",
       "  }\n",
       "</style><div class='table-result-container'><table class='table-result'><thead style='background-color: white'><tr><th>season</th><th>team1</th><th>team2</th><th>date</th><th>match_number</th><th>venue</th><th>city</th><th>toss_winner</th><th>toss_decision</th><th>player_of_match</th><th>umpire1</th><th>umpire2</th><th>reserve_umpire</th><th>match_referee</th><th>winner</th><th>winner_runs</th><th>winner_wickets</th><th>match_type</th></tr></thead><tbody><tr><td>2024</td><td>Oman</td><td>Namibia</td><td>2024/06/02</td><td>3</td><td>Kensington Oval</td><td>Bridgetown</td><td>Namibia</td><td>field</td><td>D Wiese</td><td>J Madanagopal</td><td>JS Wilson</td><td>Asif Yaqoob</td><td>RS Madugalle</td><td>null</td><td>null</td><td>null</td><td>Group</td></tr><tr><td>2024</td><td>Pakistan</td><td>United States of America</td><td>2024/06/06</td><td>11</td><td>Grand Prairie Stadium</td><td>Dallas</td><td>United States of America</td><td>field</td><td>MD Patel</td><td>A Paleker</td><td>MA Gough</td><td>RJ Tucker</td><td>JJ Crowe</td><td>null</td><td>null</td><td>null</td><td>Group</td></tr></tbody></table></div>"
      ]
     },
     "metadata": {
      "application/vnd.databricks.v1+output": {
       "addedWidgets": {},
       "aggData": [],
       "aggError": "",
       "aggOverflow": false,
       "aggSchema": [],
       "aggSeriesLimitReached": false,
       "aggType": "",
       "arguments": {},
       "columnCustomDisplayInfos": {},
       "data": [
        [
         2024,
         "Oman",
         "Namibia",
         "2024/06/02",
         3,
         "Kensington Oval",
         "Bridgetown",
         "Namibia",
         "field",
         "D Wiese",
         "J Madanagopal",
         "JS Wilson",
         "Asif Yaqoob",
         "RS Madugalle",
         null,
         null,
         null,
         "Group"
        ],
        [
         2024,
         "Pakistan",
         "United States of America",
         "2024/06/06",
         11,
         "Grand Prairie Stadium",
         "Dallas",
         "United States of America",
         "field",
         "MD Patel",
         "A Paleker",
         "MA Gough",
         "RJ Tucker",
         "JJ Crowe",
         null,
         null,
         null,
         "Group"
        ]
       ],
       "datasetInfos": [],
       "dbfsResultPath": null,
       "isJsonSchema": true,
       "metadata": {},
       "overflow": false,
       "plotOptions": {
        "customPlotOptions": {},
        "displayType": "table",
        "pivotAggregation": null,
        "pivotColumns": null,
        "xColumns": null,
        "yColumns": null
       },
       "removedWidgets": [],
       "schema": [
        {
         "metadata": "{}",
         "name": "season",
         "type": "\"integer\""
        },
        {
         "metadata": "{}",
         "name": "team1",
         "type": "\"string\""
        },
        {
         "metadata": "{}",
         "name": "team2",
         "type": "\"string\""
        },
        {
         "metadata": "{}",
         "name": "date",
         "type": "\"string\""
        },
        {
         "metadata": "{}",
         "name": "match_number",
         "type": "\"integer\""
        },
        {
         "metadata": "{}",
         "name": "venue",
         "type": "\"string\""
        },
        {
         "metadata": "{}",
         "name": "city",
         "type": "\"string\""
        },
        {
         "metadata": "{}",
         "name": "toss_winner",
         "type": "\"string\""
        },
        {
         "metadata": "{}",
         "name": "toss_decision",
         "type": "\"string\""
        },
        {
         "metadata": "{}",
         "name": "player_of_match",
         "type": "\"string\""
        },
        {
         "metadata": "{}",
         "name": "umpire1",
         "type": "\"string\""
        },
        {
         "metadata": "{}",
         "name": "umpire2",
         "type": "\"string\""
        },
        {
         "metadata": "{}",
         "name": "reserve_umpire",
         "type": "\"string\""
        },
        {
         "metadata": "{}",
         "name": "match_referee",
         "type": "\"string\""
        },
        {
         "metadata": "{}",
         "name": "winner",
         "type": "\"string\""
        },
        {
         "metadata": "{}",
         "name": "winner_runs",
         "type": "\"integer\""
        },
        {
         "metadata": "{}",
         "name": "winner_wickets",
         "type": "\"integer\""
        },
        {
         "metadata": "{}",
         "name": "match_type",
         "type": "\"string\""
        }
       ],
       "type": "table"
      }
     },
     "output_type": "display_data"
    },
    {
     "data": {
      "text/html": [
       "<style scoped>\n",
       "  .table-result-container {\n",
       "    max-height: 300px;\n",
       "    overflow: auto;\n",
       "  }\n",
       "  table, th, td {\n",
       "    border: 1px solid black;\n",
       "    border-collapse: collapse;\n",
       "  }\n",
       "  th, td {\n",
       "    padding: 5px;\n",
       "  }\n",
       "  th {\n",
       "    text-align: left;\n",
       "  }\n",
       "</style><div class='table-result-container'><table class='table-result'><thead style='background-color: white'><tr><th>season</th><th>team1</th><th>team2</th><th>date</th><th>match_number</th><th>venue</th><th>city</th><th>toss_winner</th><th>toss_decision</th><th>player_of_match</th><th>umpire1</th><th>umpire2</th><th>reserve_umpire</th><th>match_referee</th><th>winner</th><th>winner_runs</th><th>winner_wickets</th><th>match_type</th></tr></thead><tbody><tr><td>2024</td><td>Canada</td><td>United States of America</td><td>2024/06/01</td><td>1</td><td>Grand Prairie Stadium</td><td>Dallas</td><td>United States of America</td><td>field</td><td>Aaron Jones</td><td>RK Illingworth</td><td>Sharfuddoula</td><td>L Rusere</td><td>RB Richardson</td><td>United States of America</td><td>null</td><td>7</td><td>Group</td></tr><tr><td>2024</td><td>Papua New Guinea</td><td>West Indies</td><td>2024/06/02</td><td>2</td><td>Providence Stadium</td><td>Providence</td><td>West Indies</td><td>field</td><td>RL Chase</td><td>AT Holdstock</td><td>Rashid Riaz</td><td>HDPK Dharmasena</td><td>AJ Pycroft</td><td>West Indies</td><td>null</td><td>5</td><td>Group</td></tr><tr><td>2024</td><td>Oman</td><td>Namibia</td><td>2024/06/02</td><td>3</td><td>Kensington Oval</td><td>Bridgetown</td><td>Namibia</td><td>field</td><td>D Wiese</td><td>J Madanagopal</td><td>JS Wilson</td><td>Asif Yaqoob</td><td>RS Madugalle</td><td>null</td><td>null</td><td>null</td><td>Group</td></tr><tr><td>2024</td><td>Sri Lanka</td><td>South Africa</td><td>2024/06/03</td><td>4</td><td>Nassau County International Cricket Stadium</td><td>New York</td><td>Sri Lanka</td><td>bat</td><td>A Nortje</td><td>CM Brown</td><td>RA Kettleborough</td><td>AG Wharf</td><td>JJ Crowe</td><td>South Africa</td><td>null</td><td>6</td><td>Group</td></tr><tr><td>2024</td><td>Scotland</td><td>England</td><td>2024/06/04</td><td>6</td><td>Kensington Oval</td><td>Bridgetown</td><td>Scotland</td><td>bat</td><td>null</td><td>Asif Yaqoob</td><td>Nitin Menon</td><td>J Madanagopal</td><td>RS Madugalle</td><td>No Result</td><td>null</td><td>null</td><td>Group</td></tr><tr><td>2024</td><td>Nepal</td><td>Netherlands</td><td>2024/06/04</td><td>7</td><td>Grand Prairie Stadium</td><td>Dallas</td><td>Netherlands</td><td>field</td><td>TJG Pringle</td><td>L Rusere</td><td>RJ Tucker</td><td>RK Illingworth</td><td>RB Richardson</td><td>Netherlands</td><td>null</td><td>6</td><td>Group</td></tr><tr><td>2024</td><td>Ireland</td><td>India</td><td>2024/06/05</td><td>8</td><td>Nassau County International Cricket Stadium</td><td>New York</td><td>India</td><td>field</td><td>JJ Bumrah</td><td>AG Wharf</td><td>CB Gaffaney</td><td>CM Brown</td><td>DC Boon</td><td>India</td><td>null</td><td>8</td><td>Group</td></tr><tr><td>2024</td><td>Papua New Guinea</td><td>Uganda</td><td>2024/06/05</td><td>9</td><td>Providence Stadium</td><td>Providence</td><td>Uganda</td><td>field</td><td>Riazat Ali Shah</td><td>AT Holdstock</td><td>Rashid Riaz</td><td>HDPK Dharmasena</td><td>J Srinath</td><td>Uganda</td><td>null</td><td>3</td><td>Group</td></tr><tr><td>2024</td><td>Pakistan</td><td>United States of America</td><td>2024/06/06</td><td>11</td><td>Grand Prairie Stadium</td><td>Dallas</td><td>United States of America</td><td>field</td><td>MD Patel</td><td>A Paleker</td><td>MA Gough</td><td>RJ Tucker</td><td>JJ Crowe</td><td>null</td><td>null</td><td>null</td><td>Group</td></tr><tr><td>2024</td><td>Namibia</td><td>Scotland</td><td>2024/06/06</td><td>12</td><td>Kensington Oval</td><td>Bridgetown</td><td>Namibia</td><td>bat</td><td>MA Leask</td><td>J Madanagopal</td><td>Nitin Menon</td><td>JS Wilson</td><td>AJ Pycroft</td><td>Scotland</td><td>null</td><td>5</td><td>Group</td></tr><tr><td>2024</td><td>Sri Lanka</td><td>Bangladesh</td><td>2024/06/07</td><td>15</td><td>Grand Prairie Stadium</td><td>Dallas</td><td>Bangladesh</td><td>field</td><td>Rishad Hossain</td><td>MA Gough</td><td>PR Reiffel</td><td>RJ Tucker</td><td>JJ Crowe</td><td>Bangladesh</td><td>null</td><td>2</td><td>Group</td></tr><tr><td>2024</td><td>Netherlands</td><td>South Africa</td><td>2024/06/08</td><td>16</td><td>Nassau County International Cricket Stadium</td><td>New York</td><td>South Africa</td><td>field</td><td>DA Miller</td><td>CB Gaffaney</td><td>Sharfuddoula</td><td>SJ Nogajski</td><td>DC Boon</td><td>South Africa</td><td>null</td><td>4</td><td>Group</td></tr><tr><td>2024</td><td>Oman</td><td>Scotland</td><td>2024/06/09</td><td>20</td><td>Sir Vivian Richards Stadium</td><td>North Sound</td><td>Oman</td><td>bat</td><td>BJ McMullen</td><td>A Paleker</td><td>CM Brown</td><td>AG Wharf</td><td>RB Richardson</td><td>Scotland</td><td>null</td><td>7</td><td>Group</td></tr><tr><td>2024</td><td>Canada</td><td>Pakistan</td><td>2024/06/11</td><td>22</td><td>Nassau County International Cricket Stadium</td><td>New York</td><td>Pakistan</td><td>field</td><td>Mohammad Amir</td><td>AT Holdstock</td><td>HDPK Dharmasena</td><td>PR Reiffel</td><td>RS Madugalle</td><td>Pakistan</td><td>null</td><td>7</td><td>Group</td></tr><tr><td>2024</td><td>Namibia</td><td>Australia</td><td>2024/06/11</td><td>24</td><td>Sir Vivian Richards Stadium</td><td>North Sound</td><td>Australia</td><td>field</td><td>A Zampa</td><td>Nitin Menon</td><td>Rashid Riaz</td><td>A Paleker</td><td>J Srinath</td><td>Australia</td><td>null</td><td>9</td><td>Group</td></tr><tr><td>2024</td><td>United States of America</td><td>India</td><td>2024/06/12</td><td>25</td><td>Nassau County International Cricket Stadium</td><td>New York</td><td>India</td><td>field</td><td>Arshdeep Singh</td><td>PR Reiffel</td><td>SJ Nogajski</td><td>AT Holdstock</td><td>RS Madugalle</td><td>India</td><td>null</td><td>7</td><td>Group</td></tr><tr><td>2024</td><td>Oman</td><td>England</td><td>2024/06/13</td><td>28</td><td>Sir Vivian Richards Stadium</td><td>North Sound</td><td>England</td><td>field</td><td>AU Rashid</td><td>Asif Yaqoob</td><td>L Rusere</td><td>Rashid Riaz</td><td>AJ Pycroft</td><td>England</td><td>null</td><td>8</td><td>Group</td></tr><tr><td>2024</td><td>Papua New Guinea</td><td>Afghanistan</td><td>2024/06/13</td><td>29</td><td>Brian Lara Stadium</td><td>Tarouba</td><td>Afghanistan</td><td>field</td><td>Fazalhaq Farooqi</td><td>AG Wharf</td><td>MA Gough</td><td>Ahsan Raza</td><td>DC Boon</td><td>Afghanistan</td><td>null</td><td>7</td><td>Group</td></tr><tr><td>2024</td><td>Uganda</td><td>New Zealand</td><td>2024/06/14</td><td>32</td><td>Brian Lara Stadium</td><td>Tarouba</td><td>New Zealand</td><td>field</td><td>TG Southee</td><td>PR Reiffel</td><td>RK Illingworth</td><td>Ahsan Raza</td><td>DC Boon</td><td>New Zealand</td><td>null</td><td>9</td><td>Group</td></tr><tr><td>2024</td><td>Scotland</td><td>Australia</td><td>2024/06/15</td><td>35</td><td>Daren Sammy National Cricket Stadium</td><td>Gros Islet</td><td>Australia</td><td>field</td><td>MP Stoinis</td><td>Asif Yaqoob</td><td>MA Gough</td><td>A Paleker</td><td>JJ Crowe</td><td>Australia</td><td>null</td><td>5</td><td>Group</td></tr><tr><td>2024</td><td>Ireland</td><td>Pakistan</td><td>2024/06/16</td><td>36</td><td>Central Broward Regional Park Stadium Turf Ground</td><td>Lauderhill</td><td>Pakistan</td><td>field</td><td>Shaheen Shah Afridi</td><td>CB Gaffaney</td><td>RJ Tucker</td><td>RA Kettleborough</td><td>J Srinath</td><td>Pakistan</td><td>null</td><td>3</td><td>Group</td></tr><tr><td>2024</td><td>Papua New Guinea</td><td>New Zealand</td><td>2024/06/17</td><td>39</td><td>Brian Lara Stadium</td><td>Tarouba</td><td>New Zealand</td><td>field</td><td>LH Ferguson</td><td>L Rusere</td><td>PR Reiffel</td><td>RK Illingworth</td><td>DC Boon</td><td>New Zealand</td><td>null</td><td>7</td><td>Group</td></tr><tr><td>2024</td><td>West Indies</td><td>England</td><td>2024/06/19</td><td>42</td><td>Daren Sammy National Cricket Stadium</td><td>Gros Islet</td><td>England</td><td>field</td><td>PD Salt</td><td>Ahsan Raza</td><td>Nitin Menon</td><td>CM Brown</td><td>JJ Crowe</td><td>England</td><td>null</td><td>8</td><td>Group</td></tr><tr><td>2024</td><td>United States of America</td><td>West Indies</td><td>2024/06/21</td><td>46</td><td>Kensington Oval</td><td>Bridgetown</td><td>West Indies</td><td>field</td><td>RL Chase</td><td>A Paleker</td><td>PR Reiffel</td><td>AG Wharf</td><td>DC Boon</td><td>West Indies</td><td>null</td><td>9</td><td>Group</td></tr><tr><td>2024</td><td>United States of America</td><td>England</td><td>2024/06/23</td><td>49</td><td>Kensington Oval</td><td>Bridgetown</td><td>England</td><td>field</td><td>AU Rashid</td><td>CB Gaffaney</td><td>JS Wilson</td><td>A Paleker</td><td>DC Boon</td><td>England</td><td>null</td><td>10</td><td>Group</td></tr><tr><td>2024</td><td>West Indies</td><td>South Africa</td><td>2024/06/23</td><td>50</td><td>Sir Vivian Richards Stadium</td><td>North Sound</td><td>South Africa</td><td>field</td><td>T Shamsi</td><td>AG Wharf</td><td>RJ Tucker</td><td>Sharfuddoula</td><td>RS Madugalle</td><td>South Africa</td><td>null</td><td>3</td><td>Group</td></tr><tr><td>2024</td><td>Afghanistan</td><td>South Africa</td><td>2024/06/26</td><td>53</td><td>Brian Lara Stadium</td><td>Tarouba</td><td>Afghanistan</td><td>bat</td><td>M Jansen</td><td>Nitin Menon</td><td>RK Illingworth</td><td>Ahsan Raza</td><td>RB Richardson</td><td>South Africa</td><td>null</td><td>9</td><td>Semi Final</td></tr></tbody></table></div>"
      ]
     },
     "metadata": {
      "application/vnd.databricks.v1+output": {
       "addedWidgets": {},
       "aggData": [],
       "aggError": "",
       "aggOverflow": false,
       "aggSchema": [],
       "aggSeriesLimitReached": false,
       "aggType": "",
       "arguments": {},
       "columnCustomDisplayInfos": {},
       "data": [
        [
         2024,
         "Canada",
         "United States of America",
         "2024/06/01",
         1,
         "Grand Prairie Stadium",
         "Dallas",
         "United States of America",
         "field",
         "Aaron Jones",
         "RK Illingworth",
         "Sharfuddoula",
         "L Rusere",
         "RB Richardson",
         "United States of America",
         null,
         7,
         "Group"
        ],
        [
         2024,
         "Papua New Guinea",
         "West Indies",
         "2024/06/02",
         2,
         "Providence Stadium",
         "Providence",
         "West Indies",
         "field",
         "RL Chase",
         "AT Holdstock",
         "Rashid Riaz",
         "HDPK Dharmasena",
         "AJ Pycroft",
         "West Indies",
         null,
         5,
         "Group"
        ],
        [
         2024,
         "Oman",
         "Namibia",
         "2024/06/02",
         3,
         "Kensington Oval",
         "Bridgetown",
         "Namibia",
         "field",
         "D Wiese",
         "J Madanagopal",
         "JS Wilson",
         "Asif Yaqoob",
         "RS Madugalle",
         null,
         null,
         null,
         "Group"
        ],
        [
         2024,
         "Sri Lanka",
         "South Africa",
         "2024/06/03",
         4,
         "Nassau County International Cricket Stadium",
         "New York",
         "Sri Lanka",
         "bat",
         "A Nortje",
         "CM Brown",
         "RA Kettleborough",
         "AG Wharf",
         "JJ Crowe",
         "South Africa",
         null,
         6,
         "Group"
        ],
        [
         2024,
         "Scotland",
         "England",
         "2024/06/04",
         6,
         "Kensington Oval",
         "Bridgetown",
         "Scotland",
         "bat",
         null,
         "Asif Yaqoob",
         "Nitin Menon",
         "J Madanagopal",
         "RS Madugalle",
         "No Result",
         null,
         null,
         "Group"
        ],
        [
         2024,
         "Nepal",
         "Netherlands",
         "2024/06/04",
         7,
         "Grand Prairie Stadium",
         "Dallas",
         "Netherlands",
         "field",
         "TJG Pringle",
         "L Rusere",
         "RJ Tucker",
         "RK Illingworth",
         "RB Richardson",
         "Netherlands",
         null,
         6,
         "Group"
        ],
        [
         2024,
         "Ireland",
         "India",
         "2024/06/05",
         8,
         "Nassau County International Cricket Stadium",
         "New York",
         "India",
         "field",
         "JJ Bumrah",
         "AG Wharf",
         "CB Gaffaney",
         "CM Brown",
         "DC Boon",
         "India",
         null,
         8,
         "Group"
        ],
        [
         2024,
         "Papua New Guinea",
         "Uganda",
         "2024/06/05",
         9,
         "Providence Stadium",
         "Providence",
         "Uganda",
         "field",
         "Riazat Ali Shah",
         "AT Holdstock",
         "Rashid Riaz",
         "HDPK Dharmasena",
         "J Srinath",
         "Uganda",
         null,
         3,
         "Group"
        ],
        [
         2024,
         "Pakistan",
         "United States of America",
         "2024/06/06",
         11,
         "Grand Prairie Stadium",
         "Dallas",
         "United States of America",
         "field",
         "MD Patel",
         "A Paleker",
         "MA Gough",
         "RJ Tucker",
         "JJ Crowe",
         null,
         null,
         null,
         "Group"
        ],
        [
         2024,
         "Namibia",
         "Scotland",
         "2024/06/06",
         12,
         "Kensington Oval",
         "Bridgetown",
         "Namibia",
         "bat",
         "MA Leask",
         "J Madanagopal",
         "Nitin Menon",
         "JS Wilson",
         "AJ Pycroft",
         "Scotland",
         null,
         5,
         "Group"
        ],
        [
         2024,
         "Sri Lanka",
         "Bangladesh",
         "2024/06/07",
         15,
         "Grand Prairie Stadium",
         "Dallas",
         "Bangladesh",
         "field",
         "Rishad Hossain",
         "MA Gough",
         "PR Reiffel",
         "RJ Tucker",
         "JJ Crowe",
         "Bangladesh",
         null,
         2,
         "Group"
        ],
        [
         2024,
         "Netherlands",
         "South Africa",
         "2024/06/08",
         16,
         "Nassau County International Cricket Stadium",
         "New York",
         "South Africa",
         "field",
         "DA Miller",
         "CB Gaffaney",
         "Sharfuddoula",
         "SJ Nogajski",
         "DC Boon",
         "South Africa",
         null,
         4,
         "Group"
        ],
        [
         2024,
         "Oman",
         "Scotland",
         "2024/06/09",
         20,
         "Sir Vivian Richards Stadium",
         "North Sound",
         "Oman",
         "bat",
         "BJ McMullen",
         "A Paleker",
         "CM Brown",
         "AG Wharf",
         "RB Richardson",
         "Scotland",
         null,
         7,
         "Group"
        ],
        [
         2024,
         "Canada",
         "Pakistan",
         "2024/06/11",
         22,
         "Nassau County International Cricket Stadium",
         "New York",
         "Pakistan",
         "field",
         "Mohammad Amir",
         "AT Holdstock",
         "HDPK Dharmasena",
         "PR Reiffel",
         "RS Madugalle",
         "Pakistan",
         null,
         7,
         "Group"
        ],
        [
         2024,
         "Namibia",
         "Australia",
         "2024/06/11",
         24,
         "Sir Vivian Richards Stadium",
         "North Sound",
         "Australia",
         "field",
         "A Zampa",
         "Nitin Menon",
         "Rashid Riaz",
         "A Paleker",
         "J Srinath",
         "Australia",
         null,
         9,
         "Group"
        ],
        [
         2024,
         "United States of America",
         "India",
         "2024/06/12",
         25,
         "Nassau County International Cricket Stadium",
         "New York",
         "India",
         "field",
         "Arshdeep Singh",
         "PR Reiffel",
         "SJ Nogajski",
         "AT Holdstock",
         "RS Madugalle",
         "India",
         null,
         7,
         "Group"
        ],
        [
         2024,
         "Oman",
         "England",
         "2024/06/13",
         28,
         "Sir Vivian Richards Stadium",
         "North Sound",
         "England",
         "field",
         "AU Rashid",
         "Asif Yaqoob",
         "L Rusere",
         "Rashid Riaz",
         "AJ Pycroft",
         "England",
         null,
         8,
         "Group"
        ],
        [
         2024,
         "Papua New Guinea",
         "Afghanistan",
         "2024/06/13",
         29,
         "Brian Lara Stadium",
         "Tarouba",
         "Afghanistan",
         "field",
         "Fazalhaq Farooqi",
         "AG Wharf",
         "MA Gough",
         "Ahsan Raza",
         "DC Boon",
         "Afghanistan",
         null,
         7,
         "Group"
        ],
        [
         2024,
         "Uganda",
         "New Zealand",
         "2024/06/14",
         32,
         "Brian Lara Stadium",
         "Tarouba",
         "New Zealand",
         "field",
         "TG Southee",
         "PR Reiffel",
         "RK Illingworth",
         "Ahsan Raza",
         "DC Boon",
         "New Zealand",
         null,
         9,
         "Group"
        ],
        [
         2024,
         "Scotland",
         "Australia",
         "2024/06/15",
         35,
         "Daren Sammy National Cricket Stadium",
         "Gros Islet",
         "Australia",
         "field",
         "MP Stoinis",
         "Asif Yaqoob",
         "MA Gough",
         "A Paleker",
         "JJ Crowe",
         "Australia",
         null,
         5,
         "Group"
        ],
        [
         2024,
         "Ireland",
         "Pakistan",
         "2024/06/16",
         36,
         "Central Broward Regional Park Stadium Turf Ground",
         "Lauderhill",
         "Pakistan",
         "field",
         "Shaheen Shah Afridi",
         "CB Gaffaney",
         "RJ Tucker",
         "RA Kettleborough",
         "J Srinath",
         "Pakistan",
         null,
         3,
         "Group"
        ],
        [
         2024,
         "Papua New Guinea",
         "New Zealand",
         "2024/06/17",
         39,
         "Brian Lara Stadium",
         "Tarouba",
         "New Zealand",
         "field",
         "LH Ferguson",
         "L Rusere",
         "PR Reiffel",
         "RK Illingworth",
         "DC Boon",
         "New Zealand",
         null,
         7,
         "Group"
        ],
        [
         2024,
         "West Indies",
         "England",
         "2024/06/19",
         42,
         "Daren Sammy National Cricket Stadium",
         "Gros Islet",
         "England",
         "field",
         "PD Salt",
         "Ahsan Raza",
         "Nitin Menon",
         "CM Brown",
         "JJ Crowe",
         "England",
         null,
         8,
         "Group"
        ],
        [
         2024,
         "United States of America",
         "West Indies",
         "2024/06/21",
         46,
         "Kensington Oval",
         "Bridgetown",
         "West Indies",
         "field",
         "RL Chase",
         "A Paleker",
         "PR Reiffel",
         "AG Wharf",
         "DC Boon",
         "West Indies",
         null,
         9,
         "Group"
        ],
        [
         2024,
         "United States of America",
         "England",
         "2024/06/23",
         49,
         "Kensington Oval",
         "Bridgetown",
         "England",
         "field",
         "AU Rashid",
         "CB Gaffaney",
         "JS Wilson",
         "A Paleker",
         "DC Boon",
         "England",
         null,
         10,
         "Group"
        ],
        [
         2024,
         "West Indies",
         "South Africa",
         "2024/06/23",
         50,
         "Sir Vivian Richards Stadium",
         "North Sound",
         "South Africa",
         "field",
         "T Shamsi",
         "AG Wharf",
         "RJ Tucker",
         "Sharfuddoula",
         "RS Madugalle",
         "South Africa",
         null,
         3,
         "Group"
        ],
        [
         2024,
         "Afghanistan",
         "South Africa",
         "2024/06/26",
         53,
         "Brian Lara Stadium",
         "Tarouba",
         "Afghanistan",
         "bat",
         "M Jansen",
         "Nitin Menon",
         "RK Illingworth",
         "Ahsan Raza",
         "RB Richardson",
         "South Africa",
         null,
         9,
         "Semi Final"
        ]
       ],
       "datasetInfos": [],
       "dbfsResultPath": null,
       "isJsonSchema": true,
       "metadata": {},
       "overflow": false,
       "plotOptions": {
        "customPlotOptions": {},
        "displayType": "table",
        "pivotAggregation": null,
        "pivotColumns": null,
        "xColumns": null,
        "yColumns": null
       },
       "removedWidgets": [],
       "schema": [
        {
         "metadata": "{}",
         "name": "season",
         "type": "\"integer\""
        },
        {
         "metadata": "{}",
         "name": "team1",
         "type": "\"string\""
        },
        {
         "metadata": "{}",
         "name": "team2",
         "type": "\"string\""
        },
        {
         "metadata": "{}",
         "name": "date",
         "type": "\"string\""
        },
        {
         "metadata": "{}",
         "name": "match_number",
         "type": "\"integer\""
        },
        {
         "metadata": "{}",
         "name": "venue",
         "type": "\"string\""
        },
        {
         "metadata": "{}",
         "name": "city",
         "type": "\"string\""
        },
        {
         "metadata": "{}",
         "name": "toss_winner",
         "type": "\"string\""
        },
        {
         "metadata": "{}",
         "name": "toss_decision",
         "type": "\"string\""
        },
        {
         "metadata": "{}",
         "name": "player_of_match",
         "type": "\"string\""
        },
        {
         "metadata": "{}",
         "name": "umpire1",
         "type": "\"string\""
        },
        {
         "metadata": "{}",
         "name": "umpire2",
         "type": "\"string\""
        },
        {
         "metadata": "{}",
         "name": "reserve_umpire",
         "type": "\"string\""
        },
        {
         "metadata": "{}",
         "name": "match_referee",
         "type": "\"string\""
        },
        {
         "metadata": "{}",
         "name": "winner",
         "type": "\"string\""
        },
        {
         "metadata": "{}",
         "name": "winner_runs",
         "type": "\"integer\""
        },
        {
         "metadata": "{}",
         "name": "winner_wickets",
         "type": "\"integer\""
        },
        {
         "metadata": "{}",
         "name": "match_type",
         "type": "\"string\""
        }
       ],
       "type": "table"
      }
     },
     "output_type": "display_data"
    },
    {
     "data": {
      "text/html": [
       "<style scoped>\n",
       "  .table-result-container {\n",
       "    max-height: 300px;\n",
       "    overflow: auto;\n",
       "  }\n",
       "  table, th, td {\n",
       "    border: 1px solid black;\n",
       "    border-collapse: collapse;\n",
       "  }\n",
       "  th, td {\n",
       "    padding: 5px;\n",
       "  }\n",
       "  th {\n",
       "    text-align: left;\n",
       "  }\n",
       "</style><div class='table-result-container'><table class='table-result'><thead style='background-color: white'><tr><th>season</th><th>team1</th><th>team2</th><th>date</th><th>match_number</th><th>venue</th><th>city</th><th>toss_winner</th><th>toss_decision</th><th>player_of_match</th><th>umpire1</th><th>umpire2</th><th>reserve_umpire</th><th>match_referee</th><th>winner</th><th>winner_runs</th><th>winner_wickets</th><th>match_type</th></tr></thead><tbody><tr><td>2024</td><td>Oman</td><td>Namibia</td><td>2024/06/02</td><td>3</td><td>Kensington Oval</td><td>Bridgetown</td><td>Namibia</td><td>field</td><td>D Wiese</td><td>J Madanagopal</td><td>JS Wilson</td><td>Asif Yaqoob</td><td>RS Madugalle</td><td>null</td><td>null</td><td>null</td><td>Group</td></tr><tr><td>2024</td><td>Afghanistan</td><td>Uganda</td><td>2024/06/03</td><td>5</td><td>Providence Stadium</td><td>Providence</td><td>Uganda</td><td>field</td><td>Fazalhaq Farooqi</td><td>Ahsan Raza</td><td>HDPK Dharmasena</td><td>Rashid Riaz</td><td>AJ Pycroft</td><td>Afghanistan</td><td>125</td><td>null</td><td>Group</td></tr><tr><td>2024</td><td>Scotland</td><td>England</td><td>2024/06/04</td><td>6</td><td>Kensington Oval</td><td>Bridgetown</td><td>Scotland</td><td>bat</td><td>null</td><td>Asif Yaqoob</td><td>Nitin Menon</td><td>J Madanagopal</td><td>RS Madugalle</td><td>No Result</td><td>null</td><td>null</td><td>Group</td></tr><tr><td>2024</td><td>Australia</td><td>Oman</td><td>2024/06/05</td><td>10</td><td>Kensington Oval</td><td>Bridgetown</td><td>Oman</td><td>field</td><td>MP Stoinis</td><td>Asif Yaqoob</td><td>JS Wilson</td><td>Nitin Menon</td><td>RS Madugalle</td><td>Australia</td><td>39</td><td>null</td><td>Group</td></tr><tr><td>2024</td><td>Pakistan</td><td>United States of America</td><td>2024/06/06</td><td>11</td><td>Grand Prairie Stadium</td><td>Dallas</td><td>United States of America</td><td>field</td><td>MD Patel</td><td>A Paleker</td><td>MA Gough</td><td>RJ Tucker</td><td>JJ Crowe</td><td>null</td><td>null</td><td>null</td><td>Group</td></tr><tr><td>2024</td><td>Canada</td><td>Ireland</td><td>2024/06/07</td><td>13</td><td>Nassau County International Cricket Stadium</td><td>New York</td><td>Ireland</td><td>field</td><td>NR Kirton</td><td>RA Kettleborough</td><td>SJ Nogajski</td><td>CB Gaffaney</td><td>RB Richardson</td><td>Canada</td><td>12</td><td>null</td><td>Group</td></tr><tr><td>2024</td><td>Afghanistan</td><td>New Zealand</td><td>2024/06/07</td><td>14</td><td>Providence Stadium</td><td>Providence</td><td>New Zealand</td><td>field</td><td>Rahmanullah Gurbaz</td><td>Ahsan Raza</td><td>HDPK Dharmasena</td><td>AT Holdstock</td><td>J Srinath</td><td>Afghanistan</td><td>84</td><td>null</td><td>Group</td></tr><tr><td>2024</td><td>Australia</td><td>England</td><td>2024/06/08</td><td>17</td><td>Kensington Oval</td><td>Bridgetown</td><td>England</td><td>field</td><td>A Zampa</td><td>JS Wilson</td><td>Nitin Menon</td><td>J Madanagopal</td><td>AJ Pycroft</td><td>Australia</td><td>36</td><td>null</td><td>Group</td></tr><tr><td>2024</td><td>West Indies</td><td>Uganda</td><td>2024/06/08</td><td>18</td><td>Providence Stadium</td><td>Providence</td><td>West Indies</td><td>bat</td><td>AJ Hosein</td><td>HDPK Dharmasena</td><td>Rashid Riaz</td><td>Ahsan Raza</td><td>J Srinath</td><td>West Indies</td><td>134</td><td>null</td><td>Group</td></tr><tr><td>2024</td><td>India</td><td>Pakistan</td><td>2024/06/09</td><td>19</td><td>Nassau County International Cricket Stadium</td><td>New York</td><td>Pakistan</td><td>field</td><td>JJ Bumrah</td><td>RK Illingworth</td><td>RJ Tucker</td><td>Sharfuddoula</td><td>DC Boon</td><td>India</td><td>6</td><td>null</td><td>Group</td></tr><tr><td>2024</td><td>South Africa</td><td>Bangladesh</td><td>2024/06/10</td><td>21</td><td>Nassau County International Cricket Stadium</td><td>New York</td><td>South Africa</td><td>bat</td><td>H Klaasen</td><td>RK Illingworth</td><td>SJ Nogajski</td><td>PR Reiffel</td><td>RS Madugalle</td><td>South Africa</td><td>4</td><td>null</td><td>Group</td></tr><tr><td>2024</td><td>West Indies</td><td>New Zealand</td><td>2024/06/12</td><td>26</td><td>Brian Lara Stadium</td><td>Tarouba</td><td>New Zealand</td><td>field</td><td>SE Rutherford</td><td>Ahsan Raza</td><td>AG Wharf</td><td>MA Gough</td><td>DC Boon</td><td>West Indies</td><td>13</td><td>null</td><td>Group</td></tr><tr><td>2024</td><td>Bangladesh</td><td>Netherlands</td><td>2024/06/13</td><td>27</td><td>Arnos Vale Ground</td><td>Kingstown</td><td>Netherlands</td><td>field</td><td>Shakib Al Hasan</td><td>CM Brown</td><td>J Madanagopal</td><td>JS Wilson</td><td>RB Richardson</td><td>Bangladesh</td><td>25</td><td>null</td><td>Group</td></tr><tr><td>2024</td><td>South Africa</td><td>Nepal</td><td>2024/06/14</td><td>31</td><td>Arnos Vale Ground</td><td>Kingstown</td><td>Nepal</td><td>field</td><td>T Shamsi</td><td>J Madanagopal</td><td>JS Wilson</td><td>SJ Nogajski</td><td>RB Richardson</td><td>South Africa</td><td>1</td><td>null</td><td>Group</td></tr><tr><td>2024</td><td>England</td><td>Namibia</td><td>2024/06/15</td><td>34</td><td>Sir Vivian Richards Stadium</td><td>North Sound</td><td>Namibia</td><td>field</td><td>HC Brook</td><td>AT Holdstock</td><td>L Rusere</td><td>Nitin Menon</td><td>RS Madugalle</td><td>England</td><td>41</td><td>null</td><td>Group</td></tr><tr><td>2024</td><td>Bangladesh</td><td>Nepal</td><td>2024/06/16</td><td>37</td><td>Arnos Vale Ground</td><td>Kingstown</td><td>Nepal</td><td>field</td><td>Tanzim Hasan Sakib</td><td>Ahsan Raza</td><td>SJ Nogajski</td><td>HDPK Dharmasena</td><td>RB Richardson</td><td>Bangladesh</td><td>21</td><td>null</td><td>Group</td></tr><tr><td>2024</td><td>Sri Lanka</td><td>Netherlands</td><td>2024/06/16</td><td>38</td><td>Daren Sammy National Cricket Stadium</td><td>Gros Islet</td><td>Netherlands</td><td>field</td><td>KIC Asalanka</td><td>AG Wharf</td><td>A Paleker</td><td>Asif Yaqoob</td><td>JJ Crowe</td><td>Sri Lanka</td><td>83</td><td>null</td><td>Group</td></tr><tr><td>2024</td><td>West Indies</td><td>Afghanistan</td><td>2024/06/17</td><td>40</td><td>Daren Sammy National Cricket Stadium</td><td>Gros Islet</td><td>Afghanistan</td><td>field</td><td>N Pooran</td><td>A Paleker</td><td>CM Brown</td><td>MA Gough</td><td>JJ Crowe</td><td>West Indies</td><td>104</td><td>null</td><td>Group</td></tr><tr><td>2024</td><td>South Africa</td><td>United States of America</td><td>2024/06/19</td><td>41</td><td>Sir Vivian Richards Stadium</td><td>North Sound</td><td>United States of America</td><td>field</td><td>Q de Kock</td><td>CB Gaffaney</td><td>RA Kettleborough</td><td>L Rusere</td><td>RS Madugalle</td><td>South Africa</td><td>18</td><td>null</td><td>Group</td></tr><tr><td>2024</td><td>India</td><td>Afghanistan</td><td>2024/06/20</td><td>43</td><td>Kensington Oval</td><td>Bridgetown</td><td>India</td><td>bat</td><td>SA Yadav</td><td>PR Reiffel</td><td>RJ Tucker</td><td>AG Wharf</td><td>DC Boon</td><td>India</td><td>47</td><td>null</td><td>Group</td></tr><tr><td>2024</td><td>Bangladesh</td><td>Australia</td><td>2024/06/20</td><td>44</td><td>Sir Vivian Richards Stadium</td><td>North Sound</td><td>Australia</td><td>field</td><td>PJ Cummins</td><td>MA Gough</td><td>RK Illingworth</td><td>AT Holdstock</td><td>RB Richardson</td><td>Australia</td><td>28</td><td>null</td><td>Group</td></tr><tr><td>2024</td><td>South Africa</td><td>England</td><td>2024/06/21</td><td>45</td><td>Daren Sammy National Cricket Stadium</td><td>Gros Islet</td><td>England</td><td>field</td><td>Q de Kock</td><td>CM Brown</td><td>Sharfuddoula</td><td>CB Gaffaney</td><td>JJ Crowe</td><td>South Africa</td><td>7</td><td>null</td><td>Group</td></tr><tr><td>2024</td><td>India</td><td>Bangladesh</td><td>2024/06/22</td><td>47</td><td>Sir Vivian Richards Stadium</td><td>North Sound</td><td>Bangladesh</td><td>field</td><td>HH Pandya</td><td>AT Holdstock</td><td>MA Gough</td><td>RA Kettleborough</td><td>RS Madugalle</td><td>India</td><td>50</td><td>null</td><td>Group</td></tr><tr><td>2024</td><td>Afghanistan</td><td>Australia</td><td>2024/06/22</td><td>48</td><td>Arnos Vale Ground</td><td>Kingstown</td><td>Australia</td><td>field</td><td>Gulbadin Naib</td><td>Ahsan Raza</td><td>HDPK Dharmasena</td><td>Nitin Menon</td><td>JJ Crowe</td><td>Afghanistan</td><td>21</td><td>null</td><td>Group</td></tr><tr><td>2024</td><td>India</td><td>Australia</td><td>2024/06/24</td><td>51</td><td>Daren Sammy National Cricket Stadium</td><td>Gros Islet</td><td>Australia</td><td>field</td><td>RG Sharma</td><td>RK Illingworth</td><td>RA Kettleborough</td><td>HDPK Dharmasena</td><td>JJ Crowe</td><td>India</td><td>24</td><td>null</td><td>Group</td></tr><tr><td>2024</td><td>Afghanistan</td><td>Bangladesh</td><td>2024/06/24</td><td>52</td><td>Arnos Vale Ground</td><td>Kingstown</td><td>Afghanistan</td><td>bat</td><td>Naveen-ul-Haq</td><td>L Rusere</td><td>Nitin Menon</td><td>Ahsan Raza</td><td>RB Richardson</td><td>Afghanistan</td><td>8</td><td>null</td><td>Group</td></tr><tr><td>2024</td><td>India</td><td>England</td><td>2024/06/27</td><td>54</td><td>Providence Stadium</td><td>Providence</td><td>England</td><td>field</td><td>AR Patel</td><td>CB Gaffaney</td><td>RJ Tucker</td><td>PR Reiffel</td><td>JJ Crowe</td><td>India</td><td>68</td><td>null</td><td>Semi Final</td></tr><tr><td>2024</td><td>India</td><td>South Africa</td><td>2024/06/29</td><td>55</td><td>Kensington Oval</td><td>Bridgetown</td><td>India</td><td>bat</td><td>V Kohli</td><td>CB Gaffaney</td><td>RK Illingworth</td><td>RJ Tucker</td><td>RB Richardson</td><td>India</td><td>7</td><td>null</td><td>Final</td></tr></tbody></table></div>"
      ]
     },
     "metadata": {
      "application/vnd.databricks.v1+output": {
       "addedWidgets": {},
       "aggData": [],
       "aggError": "",
       "aggOverflow": false,
       "aggSchema": [],
       "aggSeriesLimitReached": false,
       "aggType": "",
       "arguments": {},
       "columnCustomDisplayInfos": {},
       "data": [
        [
         2024,
         "Oman",
         "Namibia",
         "2024/06/02",
         3,
         "Kensington Oval",
         "Bridgetown",
         "Namibia",
         "field",
         "D Wiese",
         "J Madanagopal",
         "JS Wilson",
         "Asif Yaqoob",
         "RS Madugalle",
         null,
         null,
         null,
         "Group"
        ],
        [
         2024,
         "Afghanistan",
         "Uganda",
         "2024/06/03",
         5,
         "Providence Stadium",
         "Providence",
         "Uganda",
         "field",
         "Fazalhaq Farooqi",
         "Ahsan Raza",
         "HDPK Dharmasena",
         "Rashid Riaz",
         "AJ Pycroft",
         "Afghanistan",
         125,
         null,
         "Group"
        ],
        [
         2024,
         "Scotland",
         "England",
         "2024/06/04",
         6,
         "Kensington Oval",
         "Bridgetown",
         "Scotland",
         "bat",
         null,
         "Asif Yaqoob",
         "Nitin Menon",
         "J Madanagopal",
         "RS Madugalle",
         "No Result",
         null,
         null,
         "Group"
        ],
        [
         2024,
         "Australia",
         "Oman",
         "2024/06/05",
         10,
         "Kensington Oval",
         "Bridgetown",
         "Oman",
         "field",
         "MP Stoinis",
         "Asif Yaqoob",
         "JS Wilson",
         "Nitin Menon",
         "RS Madugalle",
         "Australia",
         39,
         null,
         "Group"
        ],
        [
         2024,
         "Pakistan",
         "United States of America",
         "2024/06/06",
         11,
         "Grand Prairie Stadium",
         "Dallas",
         "United States of America",
         "field",
         "MD Patel",
         "A Paleker",
         "MA Gough",
         "RJ Tucker",
         "JJ Crowe",
         null,
         null,
         null,
         "Group"
        ],
        [
         2024,
         "Canada",
         "Ireland",
         "2024/06/07",
         13,
         "Nassau County International Cricket Stadium",
         "New York",
         "Ireland",
         "field",
         "NR Kirton",
         "RA Kettleborough",
         "SJ Nogajski",
         "CB Gaffaney",
         "RB Richardson",
         "Canada",
         12,
         null,
         "Group"
        ],
        [
         2024,
         "Afghanistan",
         "New Zealand",
         "2024/06/07",
         14,
         "Providence Stadium",
         "Providence",
         "New Zealand",
         "field",
         "Rahmanullah Gurbaz",
         "Ahsan Raza",
         "HDPK Dharmasena",
         "AT Holdstock",
         "J Srinath",
         "Afghanistan",
         84,
         null,
         "Group"
        ],
        [
         2024,
         "Australia",
         "England",
         "2024/06/08",
         17,
         "Kensington Oval",
         "Bridgetown",
         "England",
         "field",
         "A Zampa",
         "JS Wilson",
         "Nitin Menon",
         "J Madanagopal",
         "AJ Pycroft",
         "Australia",
         36,
         null,
         "Group"
        ],
        [
         2024,
         "West Indies",
         "Uganda",
         "2024/06/08",
         18,
         "Providence Stadium",
         "Providence",
         "West Indies",
         "bat",
         "AJ Hosein",
         "HDPK Dharmasena",
         "Rashid Riaz",
         "Ahsan Raza",
         "J Srinath",
         "West Indies",
         134,
         null,
         "Group"
        ],
        [
         2024,
         "India",
         "Pakistan",
         "2024/06/09",
         19,
         "Nassau County International Cricket Stadium",
         "New York",
         "Pakistan",
         "field",
         "JJ Bumrah",
         "RK Illingworth",
         "RJ Tucker",
         "Sharfuddoula",
         "DC Boon",
         "India",
         6,
         null,
         "Group"
        ],
        [
         2024,
         "South Africa",
         "Bangladesh",
         "2024/06/10",
         21,
         "Nassau County International Cricket Stadium",
         "New York",
         "South Africa",
         "bat",
         "H Klaasen",
         "RK Illingworth",
         "SJ Nogajski",
         "PR Reiffel",
         "RS Madugalle",
         "South Africa",
         4,
         null,
         "Group"
        ],
        [
         2024,
         "West Indies",
         "New Zealand",
         "2024/06/12",
         26,
         "Brian Lara Stadium",
         "Tarouba",
         "New Zealand",
         "field",
         "SE Rutherford",
         "Ahsan Raza",
         "AG Wharf",
         "MA Gough",
         "DC Boon",
         "West Indies",
         13,
         null,
         "Group"
        ],
        [
         2024,
         "Bangladesh",
         "Netherlands",
         "2024/06/13",
         27,
         "Arnos Vale Ground",
         "Kingstown",
         "Netherlands",
         "field",
         "Shakib Al Hasan",
         "CM Brown",
         "J Madanagopal",
         "JS Wilson",
         "RB Richardson",
         "Bangladesh",
         25,
         null,
         "Group"
        ],
        [
         2024,
         "South Africa",
         "Nepal",
         "2024/06/14",
         31,
         "Arnos Vale Ground",
         "Kingstown",
         "Nepal",
         "field",
         "T Shamsi",
         "J Madanagopal",
         "JS Wilson",
         "SJ Nogajski",
         "RB Richardson",
         "South Africa",
         1,
         null,
         "Group"
        ],
        [
         2024,
         "England",
         "Namibia",
         "2024/06/15",
         34,
         "Sir Vivian Richards Stadium",
         "North Sound",
         "Namibia",
         "field",
         "HC Brook",
         "AT Holdstock",
         "L Rusere",
         "Nitin Menon",
         "RS Madugalle",
         "England",
         41,
         null,
         "Group"
        ],
        [
         2024,
         "Bangladesh",
         "Nepal",
         "2024/06/16",
         37,
         "Arnos Vale Ground",
         "Kingstown",
         "Nepal",
         "field",
         "Tanzim Hasan Sakib",
         "Ahsan Raza",
         "SJ Nogajski",
         "HDPK Dharmasena",
         "RB Richardson",
         "Bangladesh",
         21,
         null,
         "Group"
        ],
        [
         2024,
         "Sri Lanka",
         "Netherlands",
         "2024/06/16",
         38,
         "Daren Sammy National Cricket Stadium",
         "Gros Islet",
         "Netherlands",
         "field",
         "KIC Asalanka",
         "AG Wharf",
         "A Paleker",
         "Asif Yaqoob",
         "JJ Crowe",
         "Sri Lanka",
         83,
         null,
         "Group"
        ],
        [
         2024,
         "West Indies",
         "Afghanistan",
         "2024/06/17",
         40,
         "Daren Sammy National Cricket Stadium",
         "Gros Islet",
         "Afghanistan",
         "field",
         "N Pooran",
         "A Paleker",
         "CM Brown",
         "MA Gough",
         "JJ Crowe",
         "West Indies",
         104,
         null,
         "Group"
        ],
        [
         2024,
         "South Africa",
         "United States of America",
         "2024/06/19",
         41,
         "Sir Vivian Richards Stadium",
         "North Sound",
         "United States of America",
         "field",
         "Q de Kock",
         "CB Gaffaney",
         "RA Kettleborough",
         "L Rusere",
         "RS Madugalle",
         "South Africa",
         18,
         null,
         "Group"
        ],
        [
         2024,
         "India",
         "Afghanistan",
         "2024/06/20",
         43,
         "Kensington Oval",
         "Bridgetown",
         "India",
         "bat",
         "SA Yadav",
         "PR Reiffel",
         "RJ Tucker",
         "AG Wharf",
         "DC Boon",
         "India",
         47,
         null,
         "Group"
        ],
        [
         2024,
         "Bangladesh",
         "Australia",
         "2024/06/20",
         44,
         "Sir Vivian Richards Stadium",
         "North Sound",
         "Australia",
         "field",
         "PJ Cummins",
         "MA Gough",
         "RK Illingworth",
         "AT Holdstock",
         "RB Richardson",
         "Australia",
         28,
         null,
         "Group"
        ],
        [
         2024,
         "South Africa",
         "England",
         "2024/06/21",
         45,
         "Daren Sammy National Cricket Stadium",
         "Gros Islet",
         "England",
         "field",
         "Q de Kock",
         "CM Brown",
         "Sharfuddoula",
         "CB Gaffaney",
         "JJ Crowe",
         "South Africa",
         7,
         null,
         "Group"
        ],
        [
         2024,
         "India",
         "Bangladesh",
         "2024/06/22",
         47,
         "Sir Vivian Richards Stadium",
         "North Sound",
         "Bangladesh",
         "field",
         "HH Pandya",
         "AT Holdstock",
         "MA Gough",
         "RA Kettleborough",
         "RS Madugalle",
         "India",
         50,
         null,
         "Group"
        ],
        [
         2024,
         "Afghanistan",
         "Australia",
         "2024/06/22",
         48,
         "Arnos Vale Ground",
         "Kingstown",
         "Australia",
         "field",
         "Gulbadin Naib",
         "Ahsan Raza",
         "HDPK Dharmasena",
         "Nitin Menon",
         "JJ Crowe",
         "Afghanistan",
         21,
         null,
         "Group"
        ],
        [
         2024,
         "India",
         "Australia",
         "2024/06/24",
         51,
         "Daren Sammy National Cricket Stadium",
         "Gros Islet",
         "Australia",
         "field",
         "RG Sharma",
         "RK Illingworth",
         "RA Kettleborough",
         "HDPK Dharmasena",
         "JJ Crowe",
         "India",
         24,
         null,
         "Group"
        ],
        [
         2024,
         "Afghanistan",
         "Bangladesh",
         "2024/06/24",
         52,
         "Arnos Vale Ground",
         "Kingstown",
         "Afghanistan",
         "bat",
         "Naveen-ul-Haq",
         "L Rusere",
         "Nitin Menon",
         "Ahsan Raza",
         "RB Richardson",
         "Afghanistan",
         8,
         null,
         "Group"
        ],
        [
         2024,
         "India",
         "England",
         "2024/06/27",
         54,
         "Providence Stadium",
         "Providence",
         "England",
         "field",
         "AR Patel",
         "CB Gaffaney",
         "RJ Tucker",
         "PR Reiffel",
         "JJ Crowe",
         "India",
         68,
         null,
         "Semi Final"
        ],
        [
         2024,
         "India",
         "South Africa",
         "2024/06/29",
         55,
         "Kensington Oval",
         "Bridgetown",
         "India",
         "bat",
         "V Kohli",
         "CB Gaffaney",
         "RK Illingworth",
         "RJ Tucker",
         "RB Richardson",
         "India",
         7,
         null,
         "Final"
        ]
       ],
       "datasetInfos": [],
       "dbfsResultPath": null,
       "isJsonSchema": true,
       "metadata": {},
       "overflow": false,
       "plotOptions": {
        "customPlotOptions": {},
        "displayType": "table",
        "pivotAggregation": null,
        "pivotColumns": null,
        "xColumns": null,
        "yColumns": null
       },
       "removedWidgets": [],
       "schema": [
        {
         "metadata": "{}",
         "name": "season",
         "type": "\"integer\""
        },
        {
         "metadata": "{}",
         "name": "team1",
         "type": "\"string\""
        },
        {
         "metadata": "{}",
         "name": "team2",
         "type": "\"string\""
        },
        {
         "metadata": "{}",
         "name": "date",
         "type": "\"string\""
        },
        {
         "metadata": "{}",
         "name": "match_number",
         "type": "\"integer\""
        },
        {
         "metadata": "{}",
         "name": "venue",
         "type": "\"string\""
        },
        {
         "metadata": "{}",
         "name": "city",
         "type": "\"string\""
        },
        {
         "metadata": "{}",
         "name": "toss_winner",
         "type": "\"string\""
        },
        {
         "metadata": "{}",
         "name": "toss_decision",
         "type": "\"string\""
        },
        {
         "metadata": "{}",
         "name": "player_of_match",
         "type": "\"string\""
        },
        {
         "metadata": "{}",
         "name": "umpire1",
         "type": "\"string\""
        },
        {
         "metadata": "{}",
         "name": "umpire2",
         "type": "\"string\""
        },
        {
         "metadata": "{}",
         "name": "reserve_umpire",
         "type": "\"string\""
        },
        {
         "metadata": "{}",
         "name": "match_referee",
         "type": "\"string\""
        },
        {
         "metadata": "{}",
         "name": "winner",
         "type": "\"string\""
        },
        {
         "metadata": "{}",
         "name": "winner_runs",
         "type": "\"integer\""
        },
        {
         "metadata": "{}",
         "name": "winner_wickets",
         "type": "\"integer\""
        },
        {
         "metadata": "{}",
         "name": "match_type",
         "type": "\"string\""
        }
       ],
       "type": "table"
      }
     },
     "output_type": "display_data"
    }
   ],
   "source": [
    "display(spark.sql(\"SELECT * FROM match WHERE player_of_match IS NULL\"))\n",
    "\n",
    "display(spark.sql(\"SELECT * FROM match WHERE winner IS NULL\"))\n",
    "\n",
    "display(spark.sql(\"SELECT * FROM match WHERE winner_runs IS NULL\"))\n",
    "\n",
    "display(spark.sql(\"SELECT * FROM match WHERE winner_wickets IS NULL\"))"
   ]
  },
  {
   "cell_type": "code",
   "execution_count": null,
   "metadata": {
    "application/vnd.databricks.v1+cell": {
     "cellMetadata": {
      "byteLimit": 2048000,
      "rowLimit": 10000
     },
     "inputWidgets": {},
     "nuid": "df5cb534-3e4f-4887-9999-50d6b4a6d1b1",
     "showTitle": false,
     "title": ""
    }
   },
   "outputs": [
    {
     "name": "stdout",
     "output_type": "stream",
     "text": [
      "+------+--------+-------+----------+------------+---------------+----------+-----------+-------------+---------------+-----------+-----------+--------------+-------------+---------+-----------+--------------+----------+---------------------+\n",
      "|season|   team1|  team2|      date|match_number|          venue|      city|toss_winner|toss_decision|player_of_match|    umpire1|    umpire2|reserve_umpire|match_referee|   winner|winner_runs|winner_wickets|match_type|player_of_match_fixed|\n",
      "+------+--------+-------+----------+------------+---------------+----------+-----------+-------------+---------------+-----------+-----------+--------------+-------------+---------+-----------+--------------+----------+---------------------+\n",
      "|  2024|Scotland|England|2024/06/04|           6|Kensington Oval|Bridgetown|   Scotland|          bat|           NULL|Asif Yaqoob|Nitin Menon| J Madanagopal| RS Madugalle|No Result|       NULL|          NULL|     Group|                   Na|\n",
      "+------+--------+-------+----------+------------+---------------+----------+-----------+-------------+---------------+-----------+-----------+--------------+-------------+---------+-----------+--------------+----------+---------------------+\n",
      "\n",
      "+------+--------+--------------------+----------+------------+--------------------+----------+--------------------+-------------+---------------+-------------+---------+--------------+-------------+------+-----------+--------------+----------+------------+\n",
      "|season|   team1|               team2|      date|match_number|               venue|      city|         toss_winner|toss_decision|player_of_match|      umpire1|  umpire2|reserve_umpire|match_referee|winner|winner_runs|winner_wickets|match_type|winner_fixed|\n",
      "+------+--------+--------------------+----------+------------+--------------------+----------+--------------------+-------------+---------------+-------------+---------+--------------+-------------+------+-----------+--------------+----------+------------+\n",
      "|  2024|    Oman|             Namibia|2024/06/02|           3|     Kensington Oval|Bridgetown|             Namibia|        field|        D Wiese|J Madanagopal|JS Wilson|   Asif Yaqoob| RS Madugalle|  NULL|       NULL|          NULL|     Group|          Na|\n",
      "|  2024|Pakistan|United States of ...|2024/06/06|          11|Grand Prairie Sta...|    Dallas|United States of ...|        field|       MD Patel|    A Paleker| MA Gough|     RJ Tucker|     JJ Crowe|  NULL|       NULL|          NULL|     Group|          Na|\n",
      "+------+--------+--------------------+----------+------------+--------------------+----------+--------------------+-------------+---------------+-------------+---------+--------------+-------------+------+-----------+--------------+----------+------------+\n",
      "\n",
      "+------+--------------------+--------------------+----------+------------+--------------------+-----------+--------------------+-------------+----------------+--------------+----------------+---------------+-------------+--------------------+-----------+--------------+----------+-----------------+\n",
      "|season|               team1|               team2|      date|match_number|               venue|       city|         toss_winner|toss_decision| player_of_match|       umpire1|         umpire2| reserve_umpire|match_referee|              winner|winner_runs|winner_wickets|match_type|winner_runs_fixed|\n",
      "+------+--------------------+--------------------+----------+------------+--------------------+-----------+--------------------+-------------+----------------+--------------+----------------+---------------+-------------+--------------------+-----------+--------------+----------+-----------------+\n",
      "|  2024|              Canada|United States of ...|2024/06/01|           1|Grand Prairie Sta...|     Dallas|United States of ...|        field|     Aaron Jones|RK Illingworth|    Sharfuddoula|       L Rusere|RB Richardson|United States of ...|       NULL|             7|     Group|                0|\n",
      "|  2024|    Papua New Guinea|         West Indies|2024/06/02|           2|  Providence Stadium| Providence|         West Indies|        field|        RL Chase|  AT Holdstock|     Rashid Riaz|HDPK Dharmasena|   AJ Pycroft|         West Indies|       NULL|             5|     Group|                0|\n",
      "|  2024|                Oman|             Namibia|2024/06/02|           3|     Kensington Oval| Bridgetown|             Namibia|        field|         D Wiese| J Madanagopal|       JS Wilson|    Asif Yaqoob| RS Madugalle|                NULL|       NULL|          NULL|     Group|                0|\n",
      "|  2024|           Sri Lanka|        South Africa|2024/06/03|           4|Nassau County Int...|   New York|           Sri Lanka|          bat|        A Nortje|      CM Brown|RA Kettleborough|       AG Wharf|     JJ Crowe|        South Africa|       NULL|             6|     Group|                0|\n",
      "|  2024|            Scotland|             England|2024/06/04|           6|     Kensington Oval| Bridgetown|            Scotland|          bat|            NULL|   Asif Yaqoob|     Nitin Menon|  J Madanagopal| RS Madugalle|           No Result|       NULL|          NULL|     Group|                0|\n",
      "|  2024|               Nepal|         Netherlands|2024/06/04|           7|Grand Prairie Sta...|     Dallas|         Netherlands|        field|     TJG Pringle|      L Rusere|       RJ Tucker| RK Illingworth|RB Richardson|         Netherlands|       NULL|             6|     Group|                0|\n",
      "|  2024|             Ireland|               India|2024/06/05|           8|Nassau County Int...|   New York|               India|        field|       JJ Bumrah|      AG Wharf|     CB Gaffaney|       CM Brown|      DC Boon|               India|       NULL|             8|     Group|                0|\n",
      "|  2024|    Papua New Guinea|              Uganda|2024/06/05|           9|  Providence Stadium| Providence|              Uganda|        field| Riazat Ali Shah|  AT Holdstock|     Rashid Riaz|HDPK Dharmasena|    J Srinath|              Uganda|       NULL|             3|     Group|                0|\n",
      "|  2024|            Pakistan|United States of ...|2024/06/06|          11|Grand Prairie Sta...|     Dallas|United States of ...|        field|        MD Patel|     A Paleker|        MA Gough|      RJ Tucker|     JJ Crowe|                NULL|       NULL|          NULL|     Group|                0|\n",
      "|  2024|             Namibia|            Scotland|2024/06/06|          12|     Kensington Oval| Bridgetown|             Namibia|          bat|        MA Leask| J Madanagopal|     Nitin Menon|      JS Wilson|   AJ Pycroft|            Scotland|       NULL|             5|     Group|                0|\n",
      "|  2024|           Sri Lanka|          Bangladesh|2024/06/07|          15|Grand Prairie Sta...|     Dallas|          Bangladesh|        field|  Rishad Hossain|      MA Gough|      PR Reiffel|      RJ Tucker|     JJ Crowe|          Bangladesh|       NULL|             2|     Group|                0|\n",
      "|  2024|         Netherlands|        South Africa|2024/06/08|          16|Nassau County Int...|   New York|        South Africa|        field|       DA Miller|   CB Gaffaney|    Sharfuddoula|    SJ Nogajski|      DC Boon|        South Africa|       NULL|             4|     Group|                0|\n",
      "|  2024|                Oman|            Scotland|2024/06/09|          20|Sir Vivian Richar...|North Sound|                Oman|          bat|     BJ McMullen|     A Paleker|        CM Brown|       AG Wharf|RB Richardson|            Scotland|       NULL|             7|     Group|                0|\n",
      "|  2024|              Canada|            Pakistan|2024/06/11|          22|Nassau County Int...|   New York|            Pakistan|        field|   Mohammad Amir|  AT Holdstock| HDPK Dharmasena|     PR Reiffel| RS Madugalle|            Pakistan|       NULL|             7|     Group|                0|\n",
      "|  2024|             Namibia|           Australia|2024/06/11|          24|Sir Vivian Richar...|North Sound|           Australia|        field|         A Zampa|   Nitin Menon|     Rashid Riaz|      A Paleker|    J Srinath|           Australia|       NULL|             9|     Group|                0|\n",
      "|  2024|United States of ...|               India|2024/06/12|          25|Nassau County Int...|   New York|               India|        field|  Arshdeep Singh|    PR Reiffel|     SJ Nogajski|   AT Holdstock| RS Madugalle|               India|       NULL|             7|     Group|                0|\n",
      "|  2024|                Oman|             England|2024/06/13|          28|Sir Vivian Richar...|North Sound|             England|        field|       AU Rashid|   Asif Yaqoob|        L Rusere|    Rashid Riaz|   AJ Pycroft|             England|       NULL|             8|     Group|                0|\n",
      "|  2024|    Papua New Guinea|         Afghanistan|2024/06/13|          29|  Brian Lara Stadium|    Tarouba|         Afghanistan|        field|Fazalhaq Farooqi|      AG Wharf|        MA Gough|     Ahsan Raza|      DC Boon|         Afghanistan|       NULL|             7|     Group|                0|\n",
      "|  2024|              Uganda|         New Zealand|2024/06/14|          32|  Brian Lara Stadium|    Tarouba|         New Zealand|        field|      TG Southee|    PR Reiffel|  RK Illingworth|     Ahsan Raza|      DC Boon|         New Zealand|       NULL|             9|     Group|                0|\n",
      "|  2024|            Scotland|           Australia|2024/06/15|          35|Daren Sammy Natio...| Gros Islet|           Australia|        field|      MP Stoinis|   Asif Yaqoob|        MA Gough|      A Paleker|     JJ Crowe|           Australia|       NULL|             5|     Group|                0|\n",
      "+------+--------------------+--------------------+----------+------------+--------------------+-----------+--------------------+-------------+----------------+--------------+----------------+---------------+-------------+--------------------+-----------+--------------+----------+-----------------+\n",
      "only showing top 20 rows\n",
      "\n",
      "+------+------------+--------------------+----------+------------+--------------------+-----------+--------------------+-------------+------------------+----------------+----------------+---------------+-------------+------------+-----------+--------------+----------+--------------------+\n",
      "|season|       team1|               team2|      date|match_number|               venue|       city|         toss_winner|toss_decision|   player_of_match|         umpire1|         umpire2| reserve_umpire|match_referee|      winner|winner_runs|winner_wickets|match_type|winner_wickets_fixed|\n",
      "+------+------------+--------------------+----------+------------+--------------------+-----------+--------------------+-------------+------------------+----------------+----------------+---------------+-------------+------------+-----------+--------------+----------+--------------------+\n",
      "|  2024|        Oman|             Namibia|2024/06/02|           3|     Kensington Oval| Bridgetown|             Namibia|        field|           D Wiese|   J Madanagopal|       JS Wilson|    Asif Yaqoob| RS Madugalle|        NULL|       NULL|          NULL|     Group|                   0|\n",
      "|  2024| Afghanistan|              Uganda|2024/06/03|           5|  Providence Stadium| Providence|              Uganda|        field|  Fazalhaq Farooqi|      Ahsan Raza| HDPK Dharmasena|    Rashid Riaz|   AJ Pycroft| Afghanistan|        125|          NULL|     Group|                   0|\n",
      "|  2024|    Scotland|             England|2024/06/04|           6|     Kensington Oval| Bridgetown|            Scotland|          bat|              NULL|     Asif Yaqoob|     Nitin Menon|  J Madanagopal| RS Madugalle|   No Result|       NULL|          NULL|     Group|                   0|\n",
      "|  2024|   Australia|                Oman|2024/06/05|          10|     Kensington Oval| Bridgetown|                Oman|        field|        MP Stoinis|     Asif Yaqoob|       JS Wilson|    Nitin Menon| RS Madugalle|   Australia|         39|          NULL|     Group|                   0|\n",
      "|  2024|    Pakistan|United States of ...|2024/06/06|          11|Grand Prairie Sta...|     Dallas|United States of ...|        field|          MD Patel|       A Paleker|        MA Gough|      RJ Tucker|     JJ Crowe|        NULL|       NULL|          NULL|     Group|                   0|\n",
      "|  2024|      Canada|             Ireland|2024/06/07|          13|Nassau County Int...|   New York|             Ireland|        field|         NR Kirton|RA Kettleborough|     SJ Nogajski|    CB Gaffaney|RB Richardson|      Canada|         12|          NULL|     Group|                   0|\n",
      "|  2024| Afghanistan|         New Zealand|2024/06/07|          14|  Providence Stadium| Providence|         New Zealand|        field|Rahmanullah Gurbaz|      Ahsan Raza| HDPK Dharmasena|   AT Holdstock|    J Srinath| Afghanistan|         84|          NULL|     Group|                   0|\n",
      "|  2024|   Australia|             England|2024/06/08|          17|     Kensington Oval| Bridgetown|             England|        field|           A Zampa|       JS Wilson|     Nitin Menon|  J Madanagopal|   AJ Pycroft|   Australia|         36|          NULL|     Group|                   0|\n",
      "|  2024| West Indies|              Uganda|2024/06/08|          18|  Providence Stadium| Providence|         West Indies|          bat|         AJ Hosein| HDPK Dharmasena|     Rashid Riaz|     Ahsan Raza|    J Srinath| West Indies|        134|          NULL|     Group|                   0|\n",
      "|  2024|       India|            Pakistan|2024/06/09|          19|Nassau County Int...|   New York|            Pakistan|        field|         JJ Bumrah|  RK Illingworth|       RJ Tucker|   Sharfuddoula|      DC Boon|       India|          6|          NULL|     Group|                   0|\n",
      "|  2024|South Africa|          Bangladesh|2024/06/10|          21|Nassau County Int...|   New York|        South Africa|          bat|         H Klaasen|  RK Illingworth|     SJ Nogajski|     PR Reiffel| RS Madugalle|South Africa|          4|          NULL|     Group|                   0|\n",
      "|  2024| West Indies|         New Zealand|2024/06/12|          26|  Brian Lara Stadium|    Tarouba|         New Zealand|        field|     SE Rutherford|      Ahsan Raza|        AG Wharf|       MA Gough|      DC Boon| West Indies|         13|          NULL|     Group|                   0|\n",
      "|  2024|  Bangladesh|         Netherlands|2024/06/13|          27|   Arnos Vale Ground|  Kingstown|         Netherlands|        field|   Shakib Al Hasan|        CM Brown|   J Madanagopal|      JS Wilson|RB Richardson|  Bangladesh|         25|          NULL|     Group|                   0|\n",
      "|  2024|South Africa|               Nepal|2024/06/14|          31|   Arnos Vale Ground|  Kingstown|               Nepal|        field|          T Shamsi|   J Madanagopal|       JS Wilson|    SJ Nogajski|RB Richardson|South Africa|          1|          NULL|     Group|                   0|\n",
      "|  2024|     England|             Namibia|2024/06/15|          34|Sir Vivian Richar...|North Sound|             Namibia|        field|          HC Brook|    AT Holdstock|        L Rusere|    Nitin Menon| RS Madugalle|     England|         41|          NULL|     Group|                   0|\n",
      "|  2024|  Bangladesh|               Nepal|2024/06/16|          37|   Arnos Vale Ground|  Kingstown|               Nepal|        field|Tanzim Hasan Sakib|      Ahsan Raza|     SJ Nogajski|HDPK Dharmasena|RB Richardson|  Bangladesh|         21|          NULL|     Group|                   0|\n",
      "|  2024|   Sri Lanka|         Netherlands|2024/06/16|          38|Daren Sammy Natio...| Gros Islet|         Netherlands|        field|      KIC Asalanka|        AG Wharf|       A Paleker|    Asif Yaqoob|     JJ Crowe|   Sri Lanka|         83|          NULL|     Group|                   0|\n",
      "|  2024| West Indies|         Afghanistan|2024/06/17|          40|Daren Sammy Natio...| Gros Islet|         Afghanistan|        field|          N Pooran|       A Paleker|        CM Brown|       MA Gough|     JJ Crowe| West Indies|        104|          NULL|     Group|                   0|\n",
      "|  2024|South Africa|United States of ...|2024/06/19|          41|Sir Vivian Richar...|North Sound|United States of ...|        field|         Q de Kock|     CB Gaffaney|RA Kettleborough|       L Rusere| RS Madugalle|South Africa|         18|          NULL|     Group|                   0|\n",
      "|  2024|       India|         Afghanistan|2024/06/20|          43|     Kensington Oval| Bridgetown|               India|          bat|          SA Yadav|      PR Reiffel|       RJ Tucker|       AG Wharf|      DC Boon|       India|         47|          NULL|     Group|                   0|\n",
      "+------+------------+--------------------+----------+------------+--------------------+-----------+--------------------+-------------+------------------+----------------+----------------+---------------+-------------+------------+-----------+--------------+----------+--------------------+\n",
      "only showing top 20 rows\n",
      "\n"
     ]
    }
   ],
   "source": [
    "match = spark.sql(\"SELECT *, COALESCE(player_of_match, 'Na') AS player_of_match_fixed FROM match WHERE player_of_match IS NULL\").show()\n",
    "\n",
    "match = spark.sql(\"SELECT *, COALESCE(winner, 'Na') AS winner_fixed FROM match WHERE winner IS NULL\").show()\n",
    "\n",
    "match = spark.sql(\"SELECT *, COALESCE(winner_runs, 0) AS winner_runs_fixed FROM match WHERE winner_runs IS NULL\").show()\n",
    "\n",
    "match = spark.sql(\"SELECT *, COALESCE(winner_wickets, 0) AS winner_wickets_fixed FROM match WHERE winner_wickets IS NULL\").show()"
   ]
  },
  {
   "cell_type": "code",
   "execution_count": null,
   "metadata": {
    "application/vnd.databricks.v1+cell": {
     "cellMetadata": {
      "byteLimit": 2048000,
      "rowLimit": 10000
     },
     "inputWidgets": {},
     "nuid": "fd83eb10-d5f0-4674-a415-d318f988a881",
     "showTitle": false,
     "title": ""
    }
   },
   "outputs": [
    {
     "data": {
      "text/html": [
       "<style scoped>\n",
       "  .table-result-container {\n",
       "    max-height: 300px;\n",
       "    overflow: auto;\n",
       "  }\n",
       "  table, th, td {\n",
       "    border: 1px solid black;\n",
       "    border-collapse: collapse;\n",
       "  }\n",
       "  th, td {\n",
       "    padding: 5px;\n",
       "  }\n",
       "  th {\n",
       "    text-align: left;\n",
       "  }\n",
       "</style><div class='table-result-container'><table class='table-result'><thead style='background-color: white'><tr><th>batting_team</th><th>total_runs</th></tr></thead><tbody><tr><td>India</td><td>1201</td></tr><tr><td>South Africa</td><td>1058</td></tr><tr><td>West Indies</td><td>1056</td></tr><tr><td>Australia</td><td>981</td></tr><tr><td>Afghanistan</td><td>922</td></tr><tr><td>England</td><td>856</td></tr><tr><td>United States of America</td><td>840</td></tr><tr><td>Bangladesh</td><td>819</td></tr><tr><td>Scotland</td><td>544</td></tr><tr><td>Pakistan</td><td>467</td></tr><tr><td>Netherlands</td><td>443</td></tr><tr><td>Oman</td><td>417</td></tr><tr><td>Namibia</td><td>409</td></tr><tr><td>Canada</td><td>409</td></tr><tr><td>Sri Lanka</td><td>384</td></tr><tr><td>Papua New Guinea</td><td>328</td></tr><tr><td>New Zealand</td><td>307</td></tr><tr><td>Ireland</td><td>293</td></tr><tr><td>Nepal</td><td>276</td></tr><tr><td>Uganda</td><td>178</td></tr></tbody></table></div>"
      ]
     },
     "metadata": {
      "application/vnd.databricks.v1+output": {
       "addedWidgets": {},
       "aggData": [],
       "aggError": "",
       "aggOverflow": false,
       "aggSchema": [],
       "aggSeriesLimitReached": false,
       "aggType": "",
       "arguments": {},
       "columnCustomDisplayInfos": {},
       "data": [
        [
         "India",
         1201
        ],
        [
         "South Africa",
         1058
        ],
        [
         "West Indies",
         1056
        ],
        [
         "Australia",
         981
        ],
        [
         "Afghanistan",
         922
        ],
        [
         "England",
         856
        ],
        [
         "United States of America",
         840
        ],
        [
         "Bangladesh",
         819
        ],
        [
         "Scotland",
         544
        ],
        [
         "Pakistan",
         467
        ],
        [
         "Netherlands",
         443
        ],
        [
         "Oman",
         417
        ],
        [
         "Namibia",
         409
        ],
        [
         "Canada",
         409
        ],
        [
         "Sri Lanka",
         384
        ],
        [
         "Papua New Guinea",
         328
        ],
        [
         "New Zealand",
         307
        ],
        [
         "Ireland",
         293
        ],
        [
         "Nepal",
         276
        ],
        [
         "Uganda",
         178
        ]
       ],
       "datasetInfos": [],
       "dbfsResultPath": null,
       "isJsonSchema": true,
       "metadata": {},
       "overflow": false,
       "plotOptions": {
        "customPlotOptions": {},
        "displayType": "table",
        "pivotAggregation": null,
        "pivotColumns": null,
        "xColumns": null,
        "yColumns": null
       },
       "removedWidgets": [],
       "schema": [
        {
         "metadata": "{}",
         "name": "batting_team",
         "type": "\"string\""
        },
        {
         "metadata": "{}",
         "name": "total_runs",
         "type": "\"long\""
        }
       ],
       "type": "table"
      }
     },
     "output_type": "display_data"
    }
   ],
   "source": [
    "# Total Runs Scored by Each Team\n",
    "total_runs= spark.sql(\"\"\"\n",
    "SELECT batting_team, SUM(runs_off_bat) as total_runs\n",
    "FROM deliver\n",
    "GROUP BY batting_team\n",
    "ORDER BY total_runs DESC\n",
    "\"\"\")\n",
    "\n",
    "display(total_runs)"
   ]
  },
  {
   "cell_type": "code",
   "execution_count": null,
   "metadata": {
    "application/vnd.databricks.v1+cell": {
     "cellMetadata": {
      "byteLimit": 2048000,
      "rowLimit": 10000
     },
     "inputWidgets": {},
     "nuid": "c32e3376-24a3-4e44-a51b-349f089bda3c",
     "showTitle": false,
     "title": ""
    }
   },
   "outputs": [
    {
     "data": {
      "text/html": [
       "<style scoped>\n",
       "  .table-result-container {\n",
       "    max-height: 300px;\n",
       "    overflow: auto;\n",
       "  }\n",
       "  table, th, td {\n",
       "    border: 1px solid black;\n",
       "    border-collapse: collapse;\n",
       "  }\n",
       "  th, td {\n",
       "    padding: 5px;\n",
       "  }\n",
       "  th {\n",
       "    text-align: left;\n",
       "  }\n",
       "</style><div class='table-result-container'><table class='table-result'><thead style='background-color: white'><tr><th>team</th><th>matches_played</th></tr></thead><tbody><tr><td>Netherlands</td><td>1</td></tr><tr><td>Canada</td><td>3</td></tr><tr><td>West Indies</td><td>5</td></tr><tr><td>England</td><td>1</td></tr><tr><td>Nepal</td><td>1</td></tr><tr><td>Ireland</td><td>2</td></tr><tr><td>Afghanistan</td><td>5</td></tr><tr><td>Sri Lanka</td><td>3</td></tr><tr><td>Namibia</td><td>2</td></tr><tr><td>Uganda</td><td>1</td></tr><tr><td>Bangladesh</td><td>3</td></tr><tr><td>Oman</td><td>3</td></tr><tr><td>Papua New Guinea</td><td>4</td></tr><tr><td>Scotland</td><td>2</td></tr><tr><td>India</td><td>6</td></tr><tr><td>United States of America</td><td>3</td></tr><tr><td>Australia</td><td>2</td></tr><tr><td>Pakistan</td><td>1</td></tr><tr><td>South Africa</td><td>4</td></tr><tr><td>New Zealand</td><td>4</td></tr><tr><td>Oman</td><td>1</td></tr><tr><td>Netherlands</td><td>3</td></tr><tr><td>South Africa</td><td>5</td></tr><tr><td>England</td><td>7</td></tr><tr><td>Nepal</td><td>2</td></tr><tr><td>Pakistan</td><td>3</td></tr><tr><td>Bangladesh</td><td>4</td></tr><tr><td>Afghanistan</td><td>3</td></tr><tr><td>Ireland</td><td>1</td></tr><tr><td>Uganda</td><td>3</td></tr><tr><td>Australia</td><td>5</td></tr><tr><td>India</td><td>2</td></tr><tr><td>West Indies</td><td>2</td></tr></tbody></table></div>"
      ]
     },
     "metadata": {
      "application/vnd.databricks.v1+output": {
       "addedWidgets": {},
       "aggData": [],
       "aggError": "",
       "aggOverflow": false,
       "aggSchema": [],
       "aggSeriesLimitReached": false,
       "aggType": "",
       "arguments": {},
       "columnCustomDisplayInfos": {},
       "data": [
        [
         "Netherlands",
         1
        ],
        [
         "Canada",
         3
        ],
        [
         "West Indies",
         5
        ],
        [
         "England",
         1
        ],
        [
         "Nepal",
         1
        ],
        [
         "Ireland",
         2
        ],
        [
         "Afghanistan",
         5
        ],
        [
         "Sri Lanka",
         3
        ],
        [
         "Namibia",
         2
        ],
        [
         "Uganda",
         1
        ],
        [
         "Bangladesh",
         3
        ],
        [
         "Oman",
         3
        ],
        [
         "Papua New Guinea",
         4
        ],
        [
         "Scotland",
         2
        ],
        [
         "India",
         6
        ],
        [
         "United States of America",
         3
        ],
        [
         "Australia",
         2
        ],
        [
         "Pakistan",
         1
        ],
        [
         "South Africa",
         4
        ],
        [
         "New Zealand",
         4
        ],
        [
         "Oman",
         1
        ],
        [
         "Netherlands",
         3
        ],
        [
         "South Africa",
         5
        ],
        [
         "England",
         7
        ],
        [
         "Nepal",
         2
        ],
        [
         "Pakistan",
         3
        ],
        [
         "Bangladesh",
         4
        ],
        [
         "Afghanistan",
         3
        ],
        [
         "Ireland",
         1
        ],
        [
         "Uganda",
         3
        ],
        [
         "Australia",
         5
        ],
        [
         "India",
         2
        ],
        [
         "West Indies",
         2
        ]
       ],
       "datasetInfos": [],
       "dbfsResultPath": null,
       "isJsonSchema": true,
       "metadata": {},
       "overflow": false,
       "plotOptions": {
        "customPlotOptions": {},
        "displayType": "table",
        "pivotAggregation": null,
        "pivotColumns": null,
        "xColumns": null,
        "yColumns": null
       },
       "removedWidgets": [],
       "schema": [
        {
         "metadata": "{}",
         "name": "team",
         "type": "\"string\""
        },
        {
         "metadata": "{}",
         "name": "matches_played",
         "type": "\"long\""
        }
       ],
       "type": "table"
      }
     },
     "output_type": "display_data"
    }
   ],
   "source": [
    "# Number of Matches Each Team Played\n",
    "matches_played = spark.sql(\"\"\" \n",
    "SELECT team1 as team, COUNT(*) as matches_played\n",
    "FROM match\n",
    "GROUP BY team1\n",
    "UNION\n",
    "SELECT team2 as team, COUNT(*) as matches_played\n",
    "FROM match\n",
    "GROUP BY team2 \n",
    "\"\"\")\n",
    "\n",
    "display(matches_played)"
   ]
  },
  {
   "cell_type": "code",
   "execution_count": null,
   "metadata": {
    "application/vnd.databricks.v1+cell": {
     "cellMetadata": {
      "byteLimit": 2048000,
      "rowLimit": 10000
     },
     "inputWidgets": {},
     "nuid": "ff7e6deb-a784-4dea-be43-2c1ccd406eef",
     "showTitle": false,
     "title": ""
    }
   },
   "outputs": [
    {
     "data": {
      "text/html": [
       "<style scoped>\n",
       "  .table-result-container {\n",
       "    max-height: 300px;\n",
       "    overflow: auto;\n",
       "  }\n",
       "  table, th, td {\n",
       "    border: 1px solid black;\n",
       "    border-collapse: collapse;\n",
       "  }\n",
       "  th, td {\n",
       "    padding: 5px;\n",
       "  }\n",
       "  th {\n",
       "    text-align: left;\n",
       "  }\n",
       "</style><div class='table-result-container'><table class='table-result'><thead style='background-color: white'><tr><th>winner</th><th>total_wins</th></tr></thead><tbody><tr><td>India</td><td>8</td></tr><tr><td>South Africa</td><td>8</td></tr><tr><td>Afghanistan</td><td>5</td></tr><tr><td>West Indies</td><td>5</td></tr><tr><td>Australia</td><td>5</td></tr><tr><td>England</td><td>4</td></tr><tr><td>Bangladesh</td><td>3</td></tr><tr><td>null</td><td>2</td></tr><tr><td>New Zealand</td><td>2</td></tr><tr><td>Scotland</td><td>2</td></tr><tr><td>Pakistan</td><td>2</td></tr><tr><td>No Result</td><td>1</td></tr><tr><td>Sri Lanka</td><td>1</td></tr><tr><td>United States of America</td><td>1</td></tr><tr><td>Uganda</td><td>1</td></tr><tr><td>Canada</td><td>1</td></tr><tr><td>Netherlands</td><td>1</td></tr></tbody></table></div>"
      ]
     },
     "metadata": {
      "application/vnd.databricks.v1+output": {
       "addedWidgets": {},
       "aggData": [],
       "aggError": "",
       "aggOverflow": false,
       "aggSchema": [],
       "aggSeriesLimitReached": false,
       "aggType": "",
       "arguments": {},
       "columnCustomDisplayInfos": {},
       "data": [
        [
         "India",
         8
        ],
        [
         "South Africa",
         8
        ],
        [
         "Afghanistan",
         5
        ],
        [
         "West Indies",
         5
        ],
        [
         "Australia",
         5
        ],
        [
         "England",
         4
        ],
        [
         "Bangladesh",
         3
        ],
        [
         null,
         2
        ],
        [
         "New Zealand",
         2
        ],
        [
         "Scotland",
         2
        ],
        [
         "Pakistan",
         2
        ],
        [
         "No Result",
         1
        ],
        [
         "Sri Lanka",
         1
        ],
        [
         "United States of America",
         1
        ],
        [
         "Uganda",
         1
        ],
        [
         "Canada",
         1
        ],
        [
         "Netherlands",
         1
        ]
       ],
       "datasetInfos": [],
       "dbfsResultPath": null,
       "isJsonSchema": true,
       "metadata": {},
       "overflow": false,
       "plotOptions": {
        "customPlotOptions": {},
        "displayType": "table",
        "pivotAggregation": null,
        "pivotColumns": null,
        "xColumns": null,
        "yColumns": null
       },
       "removedWidgets": [],
       "schema": [
        {
         "metadata": "{}",
         "name": "winner",
         "type": "\"string\""
        },
        {
         "metadata": "{}",
         "name": "total_wins",
         "type": "\"long\""
        }
       ],
       "type": "table"
      }
     },
     "output_type": "display_data"
    }
   ],
   "source": [
    "# Number of Wins by Each Team\n",
    "Total_wins = spark.sql(\"\"\"\n",
    "SELECT winner, COUNT(*) as total_wins\n",
    "FROM match\n",
    "GROUP BY winner\n",
    "ORDER BY total_wins DESC\n",
    "\"\"\")\n",
    "\n",
    "display(Total_wins)"
   ]
  },
  {
   "cell_type": "code",
   "execution_count": null,
   "metadata": {
    "application/vnd.databricks.v1+cell": {
     "cellMetadata": {
      "byteLimit": 2048000,
      "rowLimit": 10000
     },
     "inputWidgets": {},
     "nuid": "4bf40797-f8f5-4625-927a-171ebd1c903f",
     "showTitle": false,
     "title": ""
    }
   },
   "outputs": [
    {
     "data": {
      "text/html": [
       "<style scoped>\n",
       "  .table-result-container {\n",
       "    max-height: 300px;\n",
       "    overflow: auto;\n",
       "  }\n",
       "  table, th, td {\n",
       "    border: 1px solid black;\n",
       "    border-collapse: collapse;\n",
       "  }\n",
       "  th, td {\n",
       "    padding: 5px;\n",
       "  }\n",
       "  th {\n",
       "    text-align: left;\n",
       "  }\n",
       "</style><div class='table-result-container'><table class='table-result'><thead style='background-color: white'><tr><th>wicket_type</th><th>dismissals</th></tr></thead><tbody><tr><td>caught</td><td>401</td></tr><tr><td>bowled</td><td>131</td></tr><tr><td>lbw</td><td>72</td></tr><tr><td>run out</td><td>39</td></tr><tr><td>caught and bowled</td><td>23</td></tr><tr><td>stumped</td><td>15</td></tr><tr><td>retired hurt</td><td>2</td></tr><tr><td>retired out</td><td>1</td></tr></tbody></table></div>"
      ]
     },
     "metadata": {
      "application/vnd.databricks.v1+output": {
       "addedWidgets": {},
       "aggData": [],
       "aggError": "",
       "aggOverflow": false,
       "aggSchema": [],
       "aggSeriesLimitReached": false,
       "aggType": "",
       "arguments": {},
       "columnCustomDisplayInfos": {},
       "data": [
        [
         "caught",
         401
        ],
        [
         "bowled",
         131
        ],
        [
         "lbw",
         72
        ],
        [
         "run out",
         39
        ],
        [
         "caught and bowled",
         23
        ],
        [
         "stumped",
         15
        ],
        [
         "retired hurt",
         2
        ],
        [
         "retired out",
         1
        ]
       ],
       "datasetInfos": [],
       "dbfsResultPath": null,
       "isJsonSchema": true,
       "metadata": {},
       "overflow": false,
       "plotOptions": {
        "customPlotOptions": {},
        "displayType": "table",
        "pivotAggregation": null,
        "pivotColumns": null,
        "xColumns": null,
        "yColumns": null
       },
       "removedWidgets": [],
       "schema": [
        {
         "metadata": "{}",
         "name": "wicket_type",
         "type": "\"string\""
        },
        {
         "metadata": "{}",
         "name": "dismissals",
         "type": "\"long\""
        }
       ],
       "type": "table"
      }
     },
     "output_type": "display_data"
    }
   ],
   "source": [
    "# Most Common Mode of Dismissal\n",
    "dismissal = spark.sql(\"\"\"SELECT wicket_type, COUNT(*) as dismissals\n",
    "FROM deliver\n",
    "WHERE wicket_type IS NOT NULL\n",
    "GROUP BY wicket_type\n",
    "ORDER BY dismissals DESC \"\"\")\n",
    "\n",
    "display(dismissal)"
   ]
  },
  {
   "cell_type": "code",
   "execution_count": null,
   "metadata": {
    "application/vnd.databricks.v1+cell": {
     "cellMetadata": {
      "byteLimit": 2048000,
      "rowLimit": 10000
     },
     "inputWidgets": {},
     "nuid": "270bb15e-07be-4966-bab1-11f26a2dea38",
     "showTitle": false,
     "title": ""
    }
   },
   "outputs": [
    {
     "data": {
      "text/html": [
       "<style scoped>\n",
       "  .table-result-container {\n",
       "    max-height: 300px;\n",
       "    overflow: auto;\n",
       "  }\n",
       "  table, th, td {\n",
       "    border: 1px solid black;\n",
       "    border-collapse: collapse;\n",
       "  }\n",
       "  th, td {\n",
       "    padding: 5px;\n",
       "  }\n",
       "  th {\n",
       "    text-align: left;\n",
       "  }\n",
       "</style><div class='table-result-container'><table class='table-result'><thead style='background-color: white'><tr><th>striker</th><th>total_runs</th></tr></thead><tbody><tr><td>Rahmanullah Gurbaz</td><td>281</td></tr></tbody></table></div>"
      ]
     },
     "metadata": {
      "application/vnd.databricks.v1+output": {
       "addedWidgets": {},
       "aggData": [],
       "aggError": "",
       "aggOverflow": false,
       "aggSchema": [],
       "aggSeriesLimitReached": false,
       "aggType": "",
       "arguments": {},
       "columnCustomDisplayInfos": {},
       "data": [
        [
         "Rahmanullah Gurbaz",
         281
        ]
       ],
       "datasetInfos": [],
       "dbfsResultPath": null,
       "isJsonSchema": true,
       "metadata": {},
       "overflow": false,
       "plotOptions": {
        "customPlotOptions": {},
        "displayType": "table",
        "pivotAggregation": null,
        "pivotColumns": null,
        "xColumns": null,
        "yColumns": null
       },
       "removedWidgets": [],
       "schema": [
        {
         "metadata": "{}",
         "name": "striker",
         "type": "\"string\""
        },
        {
         "metadata": "{}",
         "name": "total_runs",
         "type": "\"long\""
        }
       ],
       "type": "table"
      }
     },
     "output_type": "display_data"
    }
   ],
   "source": [
    "# Player with Most Runs\n",
    "Highest_Runs = spark.sql(\"\"\"\n",
    "SELECT striker, SUM(runs_off_bat) as total_runs\n",
    "FROM deliver\n",
    "GROUP BY striker\n",
    "ORDER BY total_runs DESC\n",
    "LIMIT 1\n",
    "\"\"\")\n",
    "\n",
    "display(Highest_Runs)"
   ]
  },
  {
   "cell_type": "code",
   "execution_count": null,
   "metadata": {
    "application/vnd.databricks.v1+cell": {
     "cellMetadata": {
      "byteLimit": 2048000,
      "rowLimit": 10000
     },
     "inputWidgets": {},
     "nuid": "a07aa104-fb03-4c2b-b02b-8c8a871c47e1",
     "showTitle": false,
     "title": ""
    }
   },
   "outputs": [
    {
     "data": {
      "text/html": [
       "<style scoped>\n",
       "  .table-result-container {\n",
       "    max-height: 300px;\n",
       "    overflow: auto;\n",
       "  }\n",
       "  table, th, td {\n",
       "    border: 1px solid black;\n",
       "    border-collapse: collapse;\n",
       "  }\n",
       "  th, td {\n",
       "    padding: 5px;\n",
       "  }\n",
       "  th {\n",
       "    text-align: left;\n",
       "  }\n",
       "</style><div class='table-result-container'><table class='table-result'><thead style='background-color: white'><tr><th>batting_team</th><th>season</th><th>total_runs</th></tr></thead><tbody><tr><td>India</td><td>2024</td><td>1201</td></tr><tr><td>South Africa</td><td>2024</td><td>1058</td></tr><tr><td>West Indies</td><td>2024</td><td>1056</td></tr><tr><td>Australia</td><td>2024</td><td>981</td></tr><tr><td>Afghanistan</td><td>2024</td><td>922</td></tr><tr><td>England</td><td>2024</td><td>856</td></tr><tr><td>United States of America</td><td>2024</td><td>840</td></tr><tr><td>Bangladesh</td><td>2024</td><td>819</td></tr><tr><td>Scotland</td><td>2024</td><td>544</td></tr><tr><td>Pakistan</td><td>2024</td><td>467</td></tr><tr><td>Netherlands</td><td>2024</td><td>443</td></tr><tr><td>Oman</td><td>2024</td><td>417</td></tr><tr><td>Namibia</td><td>2024</td><td>409</td></tr><tr><td>Canada</td><td>2024</td><td>409</td></tr><tr><td>Sri Lanka</td><td>2024</td><td>384</td></tr><tr><td>Papua New Guinea</td><td>2024</td><td>328</td></tr><tr><td>New Zealand</td><td>2024</td><td>307</td></tr><tr><td>Ireland</td><td>2024</td><td>293</td></tr><tr><td>Nepal</td><td>2024</td><td>276</td></tr><tr><td>Uganda</td><td>2024</td><td>178</td></tr></tbody></table></div>"
      ]
     },
     "metadata": {
      "application/vnd.databricks.v1+output": {
       "addedWidgets": {},
       "aggData": [],
       "aggError": "",
       "aggOverflow": false,
       "aggSchema": [],
       "aggSeriesLimitReached": false,
       "aggType": "",
       "arguments": {},
       "columnCustomDisplayInfos": {},
       "data": [
        [
         "India",
         2024,
         1201
        ],
        [
         "South Africa",
         2024,
         1058
        ],
        [
         "West Indies",
         2024,
         1056
        ],
        [
         "Australia",
         2024,
         981
        ],
        [
         "Afghanistan",
         2024,
         922
        ],
        [
         "England",
         2024,
         856
        ],
        [
         "United States of America",
         2024,
         840
        ],
        [
         "Bangladesh",
         2024,
         819
        ],
        [
         "Scotland",
         2024,
         544
        ],
        [
         "Pakistan",
         2024,
         467
        ],
        [
         "Netherlands",
         2024,
         443
        ],
        [
         "Oman",
         2024,
         417
        ],
        [
         "Namibia",
         2024,
         409
        ],
        [
         "Canada",
         2024,
         409
        ],
        [
         "Sri Lanka",
         2024,
         384
        ],
        [
         "Papua New Guinea",
         2024,
         328
        ],
        [
         "New Zealand",
         2024,
         307
        ],
        [
         "Ireland",
         2024,
         293
        ],
        [
         "Nepal",
         2024,
         276
        ],
        [
         "Uganda",
         2024,
         178
        ]
       ],
       "datasetInfos": [],
       "dbfsResultPath": null,
       "isJsonSchema": true,
       "metadata": {},
       "overflow": false,
       "plotOptions": {
        "customPlotOptions": {},
        "displayType": "table",
        "pivotAggregation": null,
        "pivotColumns": null,
        "xColumns": null,
        "yColumns": null
       },
       "removedWidgets": [],
       "schema": [
        {
         "metadata": "{}",
         "name": "batting_team",
         "type": "\"string\""
        },
        {
         "metadata": "{}",
         "name": "season",
         "type": "\"integer\""
        },
        {
         "metadata": "{}",
         "name": "total_runs",
         "type": "\"long\""
        }
       ],
       "type": "table"
      }
     },
     "output_type": "display_data"
    }
   ],
   "source": [
    "# Total Runs Scored by Each Team in a Season:\n",
    "season_score = spark.sql(\"\"\"\n",
    "SELECT batting_team, season, SUM(runs_off_bat) AS total_runs\n",
    "FROM deliver\n",
    "GROUP BY batting_team, season\n",
    "ORDER BY season, total_runs DESC;\n",
    "\"\"\")\n",
    "display(season_score)"
   ]
  },
  {
   "cell_type": "code",
   "execution_count": null,
   "metadata": {
    "application/vnd.databricks.v1+cell": {
     "cellMetadata": {
      "byteLimit": 2048000,
      "rowLimit": 10000
     },
     "inputWidgets": {},
     "nuid": "498a18ff-b9dc-47c2-9ba6-a6b33699d5ca",
     "showTitle": false,
     "title": ""
    }
   },
   "outputs": [
    {
     "data": {
      "text/html": [
       "<style scoped>\n",
       "  .table-result-container {\n",
       "    max-height: 300px;\n",
       "    overflow: auto;\n",
       "  }\n",
       "  table, th, td {\n",
       "    border: 1px solid black;\n",
       "    border-collapse: collapse;\n",
       "  }\n",
       "  th, td {\n",
       "    padding: 5px;\n",
       "  }\n",
       "  th {\n",
       "    text-align: left;\n",
       "  }\n",
       "</style><div class='table-result-container'><table class='table-result'><thead style='background-color: white'><tr><th>striker</th><th>highest_score</th></tr></thead><tbody><tr><td>RG Sharma</td><td>6</td></tr><tr><td>MJ Santner</td><td>6</td></tr><tr><td>MP Stoinis</td><td>6</td></tr><tr><td>J Charles</td><td>6</td></tr><tr><td>Aasif Sheikh</td><td>6</td></tr><tr><td>J Little</td><td>6</td></tr><tr><td>MM Ali</td><td>6</td></tr><tr><td>SA Yadav</td><td>6</td></tr><tr><td>RR Hendricks</td><td>6</td></tr><tr><td>RD Berrington</td><td>6</td></tr></tbody></table></div>"
      ]
     },
     "metadata": {
      "application/vnd.databricks.v1+output": {
       "addedWidgets": {},
       "aggData": [],
       "aggError": "",
       "aggOverflow": false,
       "aggSchema": [],
       "aggSeriesLimitReached": false,
       "aggType": "",
       "arguments": {},
       "columnCustomDisplayInfos": {},
       "data": [
        [
         "RG Sharma",
         6
        ],
        [
         "MJ Santner",
         6
        ],
        [
         "MP Stoinis",
         6
        ],
        [
         "J Charles",
         6
        ],
        [
         "Aasif Sheikh",
         6
        ],
        [
         "J Little",
         6
        ],
        [
         "MM Ali",
         6
        ],
        [
         "SA Yadav",
         6
        ],
        [
         "RR Hendricks",
         6
        ],
        [
         "RD Berrington",
         6
        ]
       ],
       "datasetInfos": [],
       "dbfsResultPath": null,
       "isJsonSchema": true,
       "metadata": {},
       "overflow": false,
       "plotOptions": {
        "customPlotOptions": {},
        "displayType": "table",
        "pivotAggregation": null,
        "pivotColumns": null,
        "xColumns": null,
        "yColumns": null
       },
       "removedWidgets": [],
       "schema": [
        {
         "metadata": "{}",
         "name": "striker",
         "type": "\"string\""
        },
        {
         "metadata": "{}",
         "name": "highest_score",
         "type": "\"integer\""
        }
       ],
       "type": "table"
      }
     },
     "output_type": "display_data"
    }
   ],
   "source": [
    "# Top 10 Batsmen with Highest Individual Scores:\n",
    "individual_score = spark.sql(\"\"\"\n",
    "SELECT striker, MAX(runs_off_bat) AS highest_score\n",
    "FROM deliver\n",
    "WHERE wicket_type IS NULL  -- Exclude records where there was a wicket\n",
    "GROUP BY striker\n",
    "ORDER BY highest_score DESC\n",
    "LIMIT 10;\n",
    "\"\"\")\n",
    "\n",
    "\n",
    "display(individual_score)"
   ]
  },
  {
   "cell_type": "code",
   "execution_count": null,
   "metadata": {
    "application/vnd.databricks.v1+cell": {
     "cellMetadata": {
      "byteLimit": 2048000,
      "rowLimit": 10000
     },
     "inputWidgets": {},
     "nuid": "163472f2-7b0a-476d-a83c-525961f19e02",
     "showTitle": false,
     "title": ""
    }
   },
   "outputs": [
    {
     "data": {
      "text/html": [
       "<style scoped>\n",
       "  .table-result-container {\n",
       "    max-height: 300px;\n",
       "    overflow: auto;\n",
       "  }\n",
       "  table, th, td {\n",
       "    border: 1px solid black;\n",
       "    border-collapse: collapse;\n",
       "  }\n",
       "  th, td {\n",
       "    padding: 5px;\n",
       "  }\n",
       "  th {\n",
       "    text-align: left;\n",
       "  }\n",
       "</style><div class='table-result-container'><table class='table-result'><thead style='background-color: white'><tr><th>wicket_type</th><th>wicket_count</th></tr></thead><tbody><tr><td>caught</td><td>401</td></tr><tr><td>bowled</td><td>131</td></tr><tr><td>lbw</td><td>72</td></tr><tr><td>run out</td><td>39</td></tr><tr><td>caught and bowled</td><td>23</td></tr><tr><td>stumped</td><td>15</td></tr><tr><td>retired hurt</td><td>2</td></tr><tr><td>retired out</td><td>1</td></tr></tbody></table></div>"
      ]
     },
     "metadata": {
      "application/vnd.databricks.v1+output": {
       "addedWidgets": {},
       "aggData": [],
       "aggError": "",
       "aggOverflow": false,
       "aggSchema": [],
       "aggSeriesLimitReached": false,
       "aggType": "",
       "arguments": {},
       "columnCustomDisplayInfos": {},
       "data": [
        [
         "caught",
         401
        ],
        [
         "bowled",
         131
        ],
        [
         "lbw",
         72
        ],
        [
         "run out",
         39
        ],
        [
         "caught and bowled",
         23
        ],
        [
         "stumped",
         15
        ],
        [
         "retired hurt",
         2
        ],
        [
         "retired out",
         1
        ]
       ],
       "datasetInfos": [],
       "dbfsResultPath": null,
       "isJsonSchema": true,
       "metadata": {},
       "overflow": false,
       "plotOptions": {
        "customPlotOptions": {},
        "displayType": "table",
        "pivotAggregation": null,
        "pivotColumns": null,
        "xColumns": null,
        "yColumns": null
       },
       "removedWidgets": [],
       "schema": [
        {
         "metadata": "{}",
         "name": "wicket_type",
         "type": "\"string\""
        },
        {
         "metadata": "{}",
         "name": "wicket_count",
         "type": "\"long\""
        }
       ],
       "type": "table"
      }
     },
     "output_type": "display_data"
    }
   ],
   "source": [
    "# Most Common Wicket Types\n",
    "wicket_count = spark.sql(\"\"\"SELECT wicket_type, COUNT(*) AS wicket_count\n",
    "FROM deliver\n",
    "WHERE wicket_type IS NOT NULL\n",
    "GROUP BY wicket_type\n",
    "ORDER BY wicket_count DESC;\n",
    "\"\"\")\n",
    "\n",
    "display(wicket_count)"
   ]
  },
  {
   "cell_type": "code",
   "execution_count": null,
   "metadata": {
    "application/vnd.databricks.v1+cell": {
     "cellMetadata": {
      "byteLimit": 2048000,
      "rowLimit": 10000
     },
     "inputWidgets": {},
     "nuid": "3a3c2e53-b122-4c24-b28b-18353878a6e0",
     "showTitle": false,
     "title": ""
    }
   },
   "outputs": [
    {
     "data": {
      "text/html": [
       "<style scoped>\n",
       "  .table-result-container {\n",
       "    max-height: 300px;\n",
       "    overflow: auto;\n",
       "  }\n",
       "  table, th, td {\n",
       "    border: 1px solid black;\n",
       "    border-collapse: collapse;\n",
       "  }\n",
       "  th, td {\n",
       "    padding: 5px;\n",
       "  }\n",
       "  th {\n",
       "    text-align: left;\n",
       "  }\n",
       "</style><div class='table-result-container'><table class='table-result'><thead style='background-color: white'><tr><th>batting_team</th><th>total_wides</th><th>total_noballs</th><th>total_byes</th><th>total_legbyes</th><th>total_extras</th></tr></thead><tbody><tr><td>Afghanistan</td><td>39</td><td>2</td><td>25</td><td>22</td><td>88</td></tr><tr><td>Bangladesh</td><td>42</td><td>1</td><td>8</td><td>20</td><td>71</td></tr><tr><td>West Indies</td><td>40</td><td>5</td><td>8</td><td>13</td><td>66</td></tr><tr><td>South Africa</td><td>35</td><td>6</td><td>5</td><td>20</td><td>66</td></tr><tr><td>United States of America</td><td>52</td><td>5</td><td>null</td><td>6</td><td>63</td></tr><tr><td>Papua New Guinea</td><td>24</td><td>2</td><td>4</td><td>28</td><td>58</td></tr><tr><td>India</td><td>36</td><td>4</td><td>null</td><td>10</td><td>55</td></tr><tr><td>Australia</td><td>23</td><td>4</td><td>7</td><td>18</td><td>52</td></tr><tr><td>England</td><td>24</td><td>3</td><td>2</td><td>9</td><td>38</td></tr><tr><td>Uganda</td><td>29</td><td>null</td><td>2</td><td>6</td><td>37</td></tr><tr><td>Scotland</td><td>25</td><td>2</td><td>2</td><td>7</td><td>36</td></tr><tr><td>Pakistan</td><td>22</td><td>1</td><td>null</td><td>13</td><td>36</td></tr><tr><td>Ireland</td><td>18</td><td>1</td><td>3</td><td>12</td><td>34</td></tr><tr><td>Namibia</td><td>12</td><td>3</td><td>11</td><td>6</td><td>32</td></tr><tr><td>Nepal</td><td>15</td><td>null</td><td>6</td><td>8</td><td>29</td></tr><tr><td>Canada</td><td>17</td><td>null</td><td>1</td><td>10</td><td>28</td></tr><tr><td>Oman</td><td>17</td><td>1</td><td>null</td><td>6</td><td>24</td></tr><tr><td>New Zealand</td><td>14</td><td>1</td><td>1</td><td>8</td><td>24</td></tr><tr><td>Netherlands</td><td>11</td><td>4</td><td>null</td><td>6</td><td>21</td></tr><tr><td>Sri Lanka</td><td>13</td><td>null</td><td>null</td><td>5</td><td>18</td></tr></tbody></table></div>"
      ]
     },
     "metadata": {
      "application/vnd.databricks.v1+output": {
       "addedWidgets": {},
       "aggData": [],
       "aggError": "",
       "aggOverflow": false,
       "aggSchema": [],
       "aggSeriesLimitReached": false,
       "aggType": "",
       "arguments": {},
       "columnCustomDisplayInfos": {},
       "data": [
        [
         "Afghanistan",
         39,
         2,
         25,
         22,
         88
        ],
        [
         "Bangladesh",
         42,
         1,
         8,
         20,
         71
        ],
        [
         "West Indies",
         40,
         5,
         8,
         13,
         66
        ],
        [
         "South Africa",
         35,
         6,
         5,
         20,
         66
        ],
        [
         "United States of America",
         52,
         5,
         null,
         6,
         63
        ],
        [
         "Papua New Guinea",
         24,
         2,
         4,
         28,
         58
        ],
        [
         "India",
         36,
         4,
         null,
         10,
         55
        ],
        [
         "Australia",
         23,
         4,
         7,
         18,
         52
        ],
        [
         "England",
         24,
         3,
         2,
         9,
         38
        ],
        [
         "Uganda",
         29,
         null,
         2,
         6,
         37
        ],
        [
         "Scotland",
         25,
         2,
         2,
         7,
         36
        ],
        [
         "Pakistan",
         22,
         1,
         null,
         13,
         36
        ],
        [
         "Ireland",
         18,
         1,
         3,
         12,
         34
        ],
        [
         "Namibia",
         12,
         3,
         11,
         6,
         32
        ],
        [
         "Nepal",
         15,
         null,
         6,
         8,
         29
        ],
        [
         "Canada",
         17,
         null,
         1,
         10,
         28
        ],
        [
         "Oman",
         17,
         1,
         null,
         6,
         24
        ],
        [
         "New Zealand",
         14,
         1,
         1,
         8,
         24
        ],
        [
         "Netherlands",
         11,
         4,
         null,
         6,
         21
        ],
        [
         "Sri Lanka",
         13,
         null,
         null,
         5,
         18
        ]
       ],
       "datasetInfos": [],
       "dbfsResultPath": null,
       "isJsonSchema": true,
       "metadata": {},
       "overflow": false,
       "plotOptions": {
        "customPlotOptions": {},
        "displayType": "table",
        "pivotAggregation": null,
        "pivotColumns": null,
        "xColumns": null,
        "yColumns": null
       },
       "removedWidgets": [],
       "schema": [
        {
         "metadata": "{}",
         "name": "batting_team",
         "type": "\"string\""
        },
        {
         "metadata": "{}",
         "name": "total_wides",
         "type": "\"long\""
        },
        {
         "metadata": "{}",
         "name": "total_noballs",
         "type": "\"long\""
        },
        {
         "metadata": "{}",
         "name": "total_byes",
         "type": "\"long\""
        },
        {
         "metadata": "{}",
         "name": "total_legbyes",
         "type": "\"long\""
        },
        {
         "metadata": "{}",
         "name": "total_extras",
         "type": "\"long\""
        }
       ],
       "type": "table"
      }
     },
     "output_type": "display_data"
    }
   ],
   "source": [
    "# Teams with Most Extras (Wides, No-balls, Byes, Legbyes)\n",
    "total_extras = spark.sql(\"\"\"\n",
    "SELECT batting_team, \n",
    "       SUM(wides) AS total_wides,\n",
    "       SUM(noballs) AS total_noballs,\n",
    "       SUM(byes) AS total_byes,\n",
    "       SUM(legbyes) AS total_legbyes,\n",
    "       SUM(extras) AS total_extras\n",
    "FROM deliver\n",
    "GROUP BY batting_team\n",
    "ORDER BY total_extras DESC;\n",
    "\"\"\")\n",
    "\n",
    "display(total_extras)"
   ]
  },
  {
   "cell_type": "code",
   "execution_count": null,
   "metadata": {
    "application/vnd.databricks.v1+cell": {
     "cellMetadata": {
      "byteLimit": 2048000,
      "rowLimit": 10000
     },
     "inputWidgets": {},
     "nuid": "b11fcc96-c6a3-43f6-95a9-8904477efe50",
     "showTitle": false,
     "title": ""
    }
   },
   "outputs": [
    {
     "data": {
      "text/html": [
       "<style scoped>\n",
       "  .table-result-container {\n",
       "    max-height: 300px;\n",
       "    overflow: auto;\n",
       "  }\n",
       "  table, th, td {\n",
       "    border: 1px solid black;\n",
       "    border-collapse: collapse;\n",
       "  }\n",
       "  th, td {\n",
       "    padding: 5px;\n",
       "  }\n",
       "  th {\n",
       "    text-align: left;\n",
       "  }\n",
       "</style><div class='table-result-container'><table class='table-result'><thead style='background-color: white'><tr><th>winner</th><th>matches_won</th></tr></thead><tbody><tr><td>India</td><td>8</td></tr><tr><td>South Africa</td><td>8</td></tr><tr><td>Afghanistan</td><td>5</td></tr><tr><td>West Indies</td><td>5</td></tr><tr><td>Australia</td><td>5</td></tr><tr><td>England</td><td>4</td></tr><tr><td>Bangladesh</td><td>3</td></tr><tr><td>null</td><td>2</td></tr><tr><td>New Zealand</td><td>2</td></tr><tr><td>Scotland</td><td>2</td></tr><tr><td>Pakistan</td><td>2</td></tr><tr><td>No Result</td><td>1</td></tr><tr><td>Sri Lanka</td><td>1</td></tr><tr><td>United States of America</td><td>1</td></tr><tr><td>Uganda</td><td>1</td></tr><tr><td>Canada</td><td>1</td></tr><tr><td>Netherlands</td><td>1</td></tr></tbody></table></div>"
      ]
     },
     "metadata": {
      "application/vnd.databricks.v1+output": {
       "addedWidgets": {},
       "aggData": [],
       "aggError": "",
       "aggOverflow": false,
       "aggSchema": [],
       "aggSeriesLimitReached": false,
       "aggType": "",
       "arguments": {},
       "columnCustomDisplayInfos": {},
       "data": [
        [
         "India",
         8
        ],
        [
         "South Africa",
         8
        ],
        [
         "Afghanistan",
         5
        ],
        [
         "West Indies",
         5
        ],
        [
         "Australia",
         5
        ],
        [
         "England",
         4
        ],
        [
         "Bangladesh",
         3
        ],
        [
         null,
         2
        ],
        [
         "New Zealand",
         2
        ],
        [
         "Scotland",
         2
        ],
        [
         "Pakistan",
         2
        ],
        [
         "No Result",
         1
        ],
        [
         "Sri Lanka",
         1
        ],
        [
         "United States of America",
         1
        ],
        [
         "Uganda",
         1
        ],
        [
         "Canada",
         1
        ],
        [
         "Netherlands",
         1
        ]
       ],
       "datasetInfos": [],
       "dbfsResultPath": null,
       "isJsonSchema": true,
       "metadata": {},
       "overflow": false,
       "plotOptions": {
        "customPlotOptions": {},
        "displayType": "table",
        "pivotAggregation": null,
        "pivotColumns": null,
        "xColumns": null,
        "yColumns": null
       },
       "removedWidgets": [],
       "schema": [
        {
         "metadata": "{}",
         "name": "winner",
         "type": "\"string\""
        },
        {
         "metadata": "{}",
         "name": "matches_won",
         "type": "\"long\""
        }
       ],
       "type": "table"
      }
     },
     "output_type": "display_data"
    }
   ],
   "source": [
    "# Matches Won by Each Team\n",
    "matches_won = spark.sql(\"\"\"\n",
    "SELECT winner, COUNT(*) AS matches_won\n",
    "FROM match\n",
    "GROUP BY winner\n",
    "ORDER BY matches_won DESC;\n",
    "\"\"\")\n",
    "\n",
    "\n",
    "display(matches_won)"
   ]
  },
  {
   "cell_type": "code",
   "execution_count": null,
   "metadata": {
    "application/vnd.databricks.v1+cell": {
     "cellMetadata": {
      "byteLimit": 2048000,
      "rowLimit": 10000
     },
     "inputWidgets": {},
     "nuid": "6cf4ccc9-7647-48f2-b8e1-057c40a6670f",
     "showTitle": false,
     "title": ""
    }
   },
   "outputs": [
    {
     "data": {
      "text/html": [
       "<style scoped>\n",
       "  .table-result-container {\n",
       "    max-height: 300px;\n",
       "    overflow: auto;\n",
       "  }\n",
       "  table, th, td {\n",
       "    border: 1px solid black;\n",
       "    border-collapse: collapse;\n",
       "  }\n",
       "  th, td {\n",
       "    padding: 5px;\n",
       "  }\n",
       "  th {\n",
       "    text-align: left;\n",
       "  }\n",
       "</style><div class='table-result-container'><table class='table-result'><thead style='background-color: white'><tr><th>toss_decision</th><th>count</th></tr></thead><tbody><tr><td>field</td><td>42</td></tr><tr><td>bat</td><td>10</td></tr></tbody></table></div>"
      ]
     },
     "metadata": {
      "application/vnd.databricks.v1+output": {
       "addedWidgets": {},
       "aggData": [],
       "aggError": "",
       "aggOverflow": false,
       "aggSchema": [],
       "aggSeriesLimitReached": false,
       "aggType": "",
       "arguments": {},
       "columnCustomDisplayInfos": {},
       "data": [
        [
         "field",
         42
        ],
        [
         "bat",
         10
        ]
       ],
       "datasetInfos": [],
       "dbfsResultPath": null,
       "isJsonSchema": true,
       "metadata": {},
       "overflow": false,
       "plotOptions": {
        "customPlotOptions": {},
        "displayType": "table",
        "pivotAggregation": null,
        "pivotColumns": null,
        "xColumns": null,
        "yColumns": null
       },
       "removedWidgets": [],
       "schema": [
        {
         "metadata": "{}",
         "name": "toss_decision",
         "type": "\"string\""
        },
        {
         "metadata": "{}",
         "name": "count",
         "type": "\"long\""
        }
       ],
       "type": "table"
      }
     },
     "output_type": "display_data"
    }
   ],
   "source": [
    "# Distribution of Toss Decisions (Batting/Fielding)\n",
    "toss_decision = spark.sql(\"\"\"\n",
    "SELECT toss_decision, COUNT(*) AS count \n",
    "FROM match GROUP BY toss_decision\"\"\")\n",
    "\n",
    "display(toss_decision)\n"
   ]
  },
  {
   "cell_type": "code",
   "execution_count": null,
   "metadata": {
    "application/vnd.databricks.v1+cell": {
     "cellMetadata": {
      "byteLimit": 2048000,
      "rowLimit": 10000
     },
     "inputWidgets": {},
     "nuid": "3d4a260e-1268-4ac8-b241-c01c20294bc8",
     "showTitle": false,
     "title": ""
    }
   },
   "outputs": [
    {
     "data": {
      "text/html": [
       "<style scoped>\n",
       "  .table-result-container {\n",
       "    max-height: 300px;\n",
       "    overflow: auto;\n",
       "  }\n",
       "  table, th, td {\n",
       "    border: 1px solid black;\n",
       "    border-collapse: collapse;\n",
       "  }\n",
       "  th, td {\n",
       "    padding: 5px;\n",
       "  }\n",
       "  th {\n",
       "    text-align: left;\n",
       "  }\n",
       "</style><div class='table-result-container'><table class='table-result'><thead style='background-color: white'><tr><th>winner</th><th>max_winner_runs</th></tr></thead><tbody><tr><td>West Indies</td><td>134</td></tr><tr><td>Afghanistan</td><td>125</td></tr><tr><td>Sri Lanka</td><td>83</td></tr><tr><td>India</td><td>68</td></tr><tr><td>England</td><td>41</td></tr><tr><td>Australia</td><td>39</td></tr><tr><td>Bangladesh</td><td>25</td></tr><tr><td>South Africa</td><td>18</td></tr><tr><td>Canada</td><td>12</td></tr></tbody></table></div>"
      ]
     },
     "metadata": {
      "application/vnd.databricks.v1+output": {
       "addedWidgets": {},
       "aggData": [],
       "aggError": "",
       "aggOverflow": false,
       "aggSchema": [],
       "aggSeriesLimitReached": false,
       "aggType": "",
       "arguments": {},
       "columnCustomDisplayInfos": {},
       "data": [
        [
         "West Indies",
         134
        ],
        [
         "Afghanistan",
         125
        ],
        [
         "Sri Lanka",
         83
        ],
        [
         "India",
         68
        ],
        [
         "England",
         41
        ],
        [
         "Australia",
         39
        ],
        [
         "Bangladesh",
         25
        ],
        [
         "South Africa",
         18
        ],
        [
         "Canada",
         12
        ]
       ],
       "datasetInfos": [],
       "dbfsResultPath": null,
       "isJsonSchema": true,
       "metadata": {},
       "overflow": false,
       "plotOptions": {
        "customPlotOptions": {},
        "displayType": "table",
        "pivotAggregation": null,
        "pivotColumns": null,
        "xColumns": null,
        "yColumns": null
       },
       "removedWidgets": [],
       "schema": [
        {
         "metadata": "{}",
         "name": "winner",
         "type": "\"string\""
        },
        {
         "metadata": "{}",
         "name": "max_winner_runs",
         "type": "\"integer\""
        }
       ],
       "type": "table"
      }
     },
     "output_type": "display_data"
    }
   ],
   "source": [
    "# Matches Won by Maximum Runs Margin\n",
    "run_margin = spark.sql(\"\"\"\n",
    "SELECT winner, MAX(winner_runs) AS max_winner_runs\n",
    "FROM match\n",
    "WHERE winner_runs IS NOT NULL \n",
    "GROUP BY winner\n",
    "ORDER BY max_winner_runs DESC\"\"\")\n",
    "\n",
    "display(run_margin)"
   ]
  },
  {
   "cell_type": "code",
   "execution_count": null,
   "metadata": {
    "application/vnd.databricks.v1+cell": {
     "cellMetadata": {
      "byteLimit": 2048000,
      "rowLimit": 10000
     },
     "inputWidgets": {},
     "nuid": "e02350cd-69ab-4af4-99cf-c50aab55d0c2",
     "showTitle": false,
     "title": ""
    }
   },
   "outputs": [
    {
     "data": {
      "text/html": [
       "<style scoped>\n",
       "  .table-result-container {\n",
       "    max-height: 300px;\n",
       "    overflow: auto;\n",
       "  }\n",
       "  table, th, td {\n",
       "    border: 1px solid black;\n",
       "    border-collapse: collapse;\n",
       "  }\n",
       "  th, td {\n",
       "    padding: 5px;\n",
       "  }\n",
       "  th {\n",
       "    text-align: left;\n",
       "  }\n",
       "</style><div class='table-result-container'><table class='table-result'><thead style='background-color: white'><tr><th>player_of_match</th><th>awards_count</th></tr></thead><tbody><tr><td>MP Stoinis</td><td>2</td></tr><tr><td>JJ Bumrah</td><td>2</td></tr><tr><td>A Zampa</td><td>2</td></tr><tr><td>T Shamsi</td><td>2</td></tr><tr><td>Fazalhaq Farooqi</td><td>2</td></tr><tr><td>AU Rashid</td><td>2</td></tr><tr><td>Q de Kock</td><td>2</td></tr><tr><td>RL Chase</td><td>2</td></tr><tr><td>SA Yadav</td><td>1</td></tr><tr><td>AR Patel</td><td>1</td></tr></tbody></table></div>"
      ]
     },
     "metadata": {
      "application/vnd.databricks.v1+output": {
       "addedWidgets": {},
       "aggData": [],
       "aggError": "",
       "aggOverflow": false,
       "aggSchema": [],
       "aggSeriesLimitReached": false,
       "aggType": "",
       "arguments": {},
       "columnCustomDisplayInfos": {},
       "data": [
        [
         "MP Stoinis",
         2
        ],
        [
         "JJ Bumrah",
         2
        ],
        [
         "A Zampa",
         2
        ],
        [
         "T Shamsi",
         2
        ],
        [
         "Fazalhaq Farooqi",
         2
        ],
        [
         "AU Rashid",
         2
        ],
        [
         "Q de Kock",
         2
        ],
        [
         "RL Chase",
         2
        ],
        [
         "SA Yadav",
         1
        ],
        [
         "AR Patel",
         1
        ]
       ],
       "datasetInfos": [],
       "dbfsResultPath": null,
       "isJsonSchema": true,
       "metadata": {},
       "overflow": false,
       "plotOptions": {
        "customPlotOptions": {},
        "displayType": "table",
        "pivotAggregation": null,
        "pivotColumns": null,
        "xColumns": null,
        "yColumns": null
       },
       "removedWidgets": [],
       "schema": [
        {
         "metadata": "{}",
         "name": "player_of_match",
         "type": "\"string\""
        },
        {
         "metadata": "{}",
         "name": "awards_count",
         "type": "\"long\""
        }
       ],
       "type": "table"
      }
     },
     "output_type": "display_data"
    }
   ],
   "source": [
    "# Top 10 Players with Most Player of the Match Awards\n",
    "\n",
    "award_count = spark.sql(\"\"\"\n",
    "SELECT player_of_match, COUNT(*) AS awards_count\n",
    "FROM match\n",
    "GROUP BY player_of_match\n",
    "ORDER BY awards_count DESC\n",
    "LIMIT 10\"\"\")\n",
    "\n",
    "display(award_count)"
   ]
  },
  {
   "cell_type": "code",
   "execution_count": null,
   "metadata": {
    "application/vnd.databricks.v1+cell": {
     "cellMetadata": {
      "byteLimit": 2048000,
      "rowLimit": 10000
     },
     "inputWidgets": {},
     "nuid": "1cfe304f-dfeb-4172-8735-b101e60e0eec",
     "showTitle": false,
     "title": ""
    }
   },
   "outputs": [],
   "source": [
    "matches.repartition(1).write.mode(\"overwrite\").option(\"header\",'true').csv(\"/mnt/icc/transformed-data/matches\")\n",
    "deliveries.repartition(1).write.mode(\"overwrite\").option(\"header\",'true').csv(\"/mnt/icc/transformed-data/deliveries\")"
   ]
  }
 ],
 "metadata": {
  "application/vnd.databricks.v1+notebook": {
   "dashboards": [],
   "environmentMetadata": null,
   "language": "python",
   "notebookMetadata": {
    "mostRecentlyExecutedCommandWithImplicitDF": {
     "commandId": 2789878688509196,
     "dataframes": [
      "_sqldf"
     ]
    },
    "pythonIndentUnit": 4
   },
   "notebookName": "icc-t20-worldcup-2024",
   "widgets": {}
  },
  "language_info": {
   "name": "python"
  }
 },
 "nbformat": 4,
 "nbformat_minor": 0
}
